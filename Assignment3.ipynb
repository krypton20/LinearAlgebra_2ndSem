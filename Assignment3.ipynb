{
  "cells": [
    {
      "cell_type": "markdown",
      "metadata": {
        "id": "view-in-github",
        "colab_type": "text"
      },
      "source": [
        "<a href=\"https://colab.research.google.com/github/krypton20/LinearAlgebra_2ndSem/blob/main/Assignment3.ipynb\" target=\"_parent\"><img src=\"https://colab.research.google.com/assets/colab-badge.svg\" alt=\"Open In Colab\"/></a>"
      ]
    },
    {
      "cell_type": "markdown",
      "metadata": {
        "id": "P1AlTfmOxwFf"
      },
      "source": [
        "\n",
        "## Laboratory 4 : Matrices"
      ]
    },
    {
      "cell_type": "markdown",
      "metadata": {
        "id": "-MhexiMGxgjx"
      },
      "source": [
        "In the previous laboratory activity, the students have learned and applied the basic concepts, principles, and techniques of Python fundamentals. However, this laboratory activity focuses on the application of matrices in Python in relation to the linear system of equations. Through this activity, the students will be able to learn the application of matrices in programming together with its basic operations and techniques. Upon learning its applications, the students will be able to apply their knowledge in translating matrix equations and operations using Python.\n"
      ]
    },
    {
      "cell_type": "markdown",
      "metadata": {
        "id": "rzKi82nPxhaI"
      },
      "source": [
        "#Discussion \n"
      ]
    },
    {
      "cell_type": "code",
      "execution_count": null,
      "metadata": {
        "id": "ObOyEWLsyEX9"
      },
      "outputs": [],
      "source": [
        "import numpy as np\n",
        "import matplotlib.pyplot as plt\n",
        "import scipy.linalg as la\n",
        "%matplotlib inline"
      ]
    },
    {
      "cell_type": "markdown",
      "metadata": {
        "id": "QQlLJ4bYm2ln"
      },
      "source": [
        "- Numerical Python or \"numpy\" in short, supports a broad range of mathematical operations on arrays. It extends Python with sophisticated data formats that ensure fast array and matrix computations, as well as a vast library of elevated numerical methods that work on these matrices and arrays.\n",
        "- Matplotlib.pyplot is a set of algorithms that enable matplotlib to operate similarly to MATLAB. Each pyplot function modifies a figure in certain way\n",
        "- Scipy.linalg contains a variety of tools for solving linear algebra applications, such as functions for conducting matrix operations."
      ]
    },
    {
      "cell_type": "markdown",
      "metadata": {
        "id": "BQ1YfwCcyatm"
      },
      "source": [
        "##Matrices"
      ]
    },
    {
      "cell_type": "markdown",
      "metadata": {
        "id": "EHBtqh5sye3X"
      },
      "source": [
        "A matrix is a two-dimensional rectangle array that holds data in rows and columns. The matrix may hold any form of data, including numbers, strings, equations, and so on. The data is organized horizontally as rows and vertically as columns. Matrix data structures, on the other hand, are vital for various mathematical and scientific operations.\n",
        "\n",
        "Matrix notation and utilization is likely one of the three cornerstones of modern calculations.  Matrices are also useful for representing complicated equations or several interconnected equations, ranging from two dimensional equations to desired number of equations.\n",
        "\n",
        "For instance, let I, O and E as system of equations.\n",
        "\n",
        "$$\n",
        "I = \\left\\{\n",
        "    \\begin{array}\\\n",
        "        4a + 20b \\\\ \n",
        "        7a - 9b\n",
        "    \\end{array}\n",
        "\\right. \\\\\n",
        "O = \\left\\{\n",
        "    \\begin{array}\\\n",
        "        2a+7b+3c \\\\ \n",
        "        3a -2b -c \\\\\n",
        "        -100a + 4b +2c\n",
        "    \\end{array}\n",
        "\\right. \\\\\n",
        "E = \\left\\{\n",
        "    \\begin{array}\\\n",
        "        30a+20b+7c-d \\\\ \n",
        "        4a -3b -2c+ 10d \\\\\n",
        "        -100a + 4b +2c+3d\n",
        "    \\end{array}\n",
        "\\right.\n",
        "$$\n",
        "\n",
        "\\\\\n",
        "\n",
        "In this representation, we could observe that I is a system of  equations with 2 parameters. While O and E is a system of 3 equations with 3 and 4 parameters respectively. However, their representation in matrices are as follows:\n",
        "\n",
        "\n",
        ":$$\n",
        "I=\\begin{bmatrix} 4 & 20 \\\\ 7 & {9} \\end{bmatrix} \\\\\n",
        "O=\\begin{bmatrix} 2 & 7 & 3 \\\\ 3 & -2 & -1 \\\\ -1 & 4 & 2\\end{bmatrix}\\\\\n",
        "E=\\begin{bmatrix} 30 & 20 & 7 & -1\\\\ 4 & -3 & -2 & 10\\\\ 100 & 4 & 2 & 3\\end{bmatrix}\n",
        "$$\n",
        "\n",
        "\n"
      ]
    },
    {
      "cell_type": "markdown",
      "metadata": {
        "id": "mv5PlT0u3L7d"
      },
      "source": [
        "##Declaring Matrices"
      ]
    },
    {
      "cell_type": "markdown",
      "metadata": {
        "id": "HpjeHWIJqntv"
      },
      "source": [
        "In this laboratory activity, system of linear equations will be represented as matrices.The things or numbers included in matrices are referred to as the matrix's elements. Matrixes have a collection of list-like structure because these items are grouped and sorted in rows and columns. This generalization may be expressed in the same way in the following equation:"
      ]
    },
    {
      "cell_type": "markdown",
      "metadata": {
        "id": "tdAaPtCl3sCb"
      },
      "source": [
        "$$A=\\begin{bmatrix}\n",
        "a_{(0,0)}&a_{(0,1)}&\\dots&a_{(0,j-1)}\\\\\n",
        "a_{(1,0)}&a_{(1,1)}&\\dots&a_{(1,j-1)}\\\\\n",
        "\\vdots&\\vdots&\\ddots&\\vdots&\\\\\n",
        "a_{(i-1,0)}&a_{(i-1,1)}&\\dots&a_{(i-1,j-1)}\n",
        "\\end{bmatrix}\n",
        "$$\n"
      ]
    },
    {
      "cell_type": "markdown",
      "metadata": {
        "id": "ceRpvtA-s8K5"
      },
      "source": [
        ""
      ]
    },
    {
      "cell_type": "code",
      "execution_count": null,
      "metadata": {
        "id": "lsQWNFZ_3t-q"
      },
      "outputs": [],
      "source": [
        "#Declaring Matrices\n",
        "def describe_mat(matrix):\n",
        "    print(f'Matrix:\\n{matrix}\\n\\nShape:\\t{matrix.shape}\\nRank:\\t{matrix.ndim}\\n')\n",
        "                                                    "
      ]
    },
    {
      "cell_type": "code",
      "execution_count": null,
      "metadata": {
        "colab": {
          "base_uri": "https://localhost:8080/"
        },
        "id": "7ZflI_SL4bB2",
        "outputId": "8b057815-a2e4-4b34-dd1d-589cbd397ce9"
      },
      "outputs": [
        {
          "name": "stdout",
          "output_type": "stream",
          "text": [
            "Matrix:\n",
            "[[ 20 100]\n",
            " [ 47  21]]\n",
            "\n",
            "Shape:\t(2, 2)\n",
            "Rank:\t2\n",
            "\n"
          ]
        }
      ],
      "source": [
        "## 2 x 2 Matrix\n",
        "M = np.array([\n",
        "    [20, 100],\n",
        "    [47, 21]\n",
        "])\n",
        "describe_mat(M)\n"
      ]
    },
    {
      "cell_type": "code",
      "execution_count": null,
      "metadata": {
        "colab": {
          "base_uri": "https://localhost:8080/"
        },
        "id": "ykaYp17uCdpL",
        "outputId": "277c348d-f982-4780-8bf6-3f1bf8134b86"
      },
      "outputs": [
        {
          "name": "stdout",
          "output_type": "stream",
          "text": [
            "Matrix:\n",
            "[[ 9 12  3]\n",
            " [11  2  4]\n",
            " [ 4  3  8]]\n",
            "\n",
            "Shape:\t(3, 3)\n",
            "Rank:\t2\n",
            "\n"
          ]
        }
      ],
      "source": [
        "#3 x 3 Matrix\n",
        "R = np.array([\n",
        "    [9,12,3],\n",
        "    [11,2,4],\n",
        "    [4,3,8]\n",
        "])\n",
        "describe_mat(R)\n"
      ]
    },
    {
      "cell_type": "code",
      "execution_count": null,
      "metadata": {
        "colab": {
          "base_uri": "https://localhost:8080/"
        },
        "id": "nyZc7IvH5LI2",
        "outputId": "b9287848-b4dc-4178-bbab-65e21b05fbea"
      },
      "outputs": [
        {
          "name": "stdout",
          "output_type": "stream",
          "text": [
            "Matrix:\n",
            "[[ 1 16  3  0 14]\n",
            " [10 21 14  0  9]\n",
            " [ 4  3  8  6  2]\n",
            " [20  9  2  1  3]]\n",
            "\n",
            "Shape:\t(4, 5)\n",
            "Rank:\t2\n",
            "\n"
          ]
        }
      ],
      "source": [
        "#4 x 5 Matrix\n",
        "R = np.array([\n",
        "    [1,16,3,0,14],\n",
        "    [10,21,14,0,9],\n",
        "    [4,3,8,6,2],\n",
        "    [20,9,2,1,3]\n",
        "])\n",
        "describe_mat(R)\n"
      ]
    },
    {
      "cell_type": "code",
      "execution_count": null,
      "metadata": {
        "colab": {
          "base_uri": "https://localhost:8080/"
        },
        "id": "2_uop7nq6Z4D",
        "outputId": "9f62ff1f-5469-4e99-d523-be107e96b90c"
      },
      "outputs": [
        {
          "name": "stdout",
          "output_type": "stream",
          "text": [
            "Matrix:\n",
            "[[[20 19 18 17 16]]]\n",
            "\n",
            "Shape:\t(1, 1, 5)\n",
            "Rank:\t3\n",
            "\n"
          ]
        }
      ],
      "source": [
        "P = np.array([[[20,19,18,17,16]]])\n",
        "describe_mat(P)"
      ]
    },
    {
      "cell_type": "markdown",
      "metadata": {
        "id": "pjhEbJRd7Rvh"
      },
      "source": [
        "#Categoring Matrices"
      ]
    },
    {
      "cell_type": "markdown",
      "metadata": {
        "id": "uoImhixWf9mh"
      },
      "source": [
        "Matrices have different types, and they can be classified according to shape and element values.\n"
      ]
    },
    {
      "cell_type": "markdown",
      "metadata": {
        "id": "gftBCQ7q8xhs"
      },
      "source": [
        "##Row and Column Matrices"
      ]
    },
    {
      "cell_type": "markdown",
      "metadata": {
        "id": "NcEZRF_Qf4eK"
      },
      "source": [
        "These are matrices that are also known as \"Row and Column Vectors.\" Row Matrices is described by a single row that has a shape of 1 x n, while Column Matrices is defined as a single column with a shape of n x 1. A row is displayed vertically, and a column is shown horizontally. [1]\n"
      ]
    },
    {
      "cell_type": "code",
      "execution_count": null,
      "metadata": {
        "colab": {
          "base_uri": "https://localhost:8080/"
        },
        "id": "A9XMuFBB7aYy",
        "outputId": "cf3879f8-3879-4136-f498-a8819b200477"
      },
      "outputs": [
        {
          "name": "stdout",
          "output_type": "stream",
          "text": [
            "Matrix:\n",
            "[30 17  3]\n",
            "\n",
            "Shape:\t(3,)\n",
            "Rank:\t1\n",
            "\n",
            "Matrix:\n",
            "[[  7   2   9 -14]]\n",
            "\n",
            "Shape:\t(1, 4)\n",
            "Rank:\t2\n",
            "\n"
          ]
        }
      ],
      "source": [
        "## Declaring a Row Matrix\n",
        "\n",
        "row_matrix_1D = np.array([\n",
        "        30, 17, 3               \n",
        "]) \n",
        "row_matrix_2D = np.array([\n",
        "      [7,2,9, -14]                 \n",
        "]) \n",
        "describe_mat(row_matrix_1D)\n",
        "describe_mat(row_matrix_2D)"
      ]
    },
    {
      "cell_type": "code",
      "execution_count": null,
      "metadata": {
        "colab": {
          "base_uri": "https://localhost:8080/"
        },
        "id": "PtDUxAJQ8aLq",
        "outputId": "ffedd6c6-455d-483c-df82-35eb7e57ebfb"
      },
      "outputs": [
        {
          "name": "stdout",
          "output_type": "stream",
          "text": [
            "Matrix:\n",
            "[[20]\n",
            " [15]\n",
            " [ 1]\n",
            " [14]]\n",
            "\n",
            "Shape:\t(4, 1)\n",
            "Rank:\t2\n",
            "\n"
          ]
        }
      ],
      "source": [
        "## Declaring a Column Matrix\n",
        "\n",
        "column_matrix = np.array([\n",
        "        [20],\n",
        "        [15],\n",
        "        [1],\n",
        "        [14]\n",
        "]) \n",
        "describe_mat(column_matrix)"
      ]
    },
    {
      "cell_type": "markdown",
      "metadata": {
        "id": "TUVnKDVV93lN"
      },
      "source": [
        "##Square Matrices"
      ]
    },
    {
      "cell_type": "markdown",
      "metadata": {
        "id": "fdfmF9WcgJvL"
      },
      "source": [
        "The matrices in Square Matrices are arranged in such a way that the sizes of both row and column are equal. In the code cell below, we can distinguish if the matrix is a square matrix or not through the descriptor function, which will print out True or False after the \"Is Square:\" [2]"
      ]
    },
    {
      "cell_type": "code",
      "execution_count": null,
      "metadata": {
        "id": "jlh296Qz9oHT"
      },
      "outputs": [],
      "source": [
        "def describe_mat(matrix):\n",
        "    test_for_square = True if matrix.shape[0] == matrix.shape[1] else False\n",
        "    print(f'Matrix:\\n{matrix}\\n\\nShape:\\t{matrix.shape}\\nRank:\\t{matrix.ndim}\\ntest_for_square: {test_for_square}\\n')"
      ]
    },
    {
      "cell_type": "code",
      "execution_count": null,
      "metadata": {
        "colab": {
          "base_uri": "https://localhost:8080/"
        },
        "id": "rEMl2JTM-epB",
        "outputId": "292c6b55-c3e8-4c85-bce3-11db99e767a0"
      },
      "outputs": [
        {
          "name": "stdout",
          "output_type": "stream",
          "text": [
            "Matrix:\n",
            "[[12  2  3]\n",
            " [ 3  3  3]\n",
            " [ 8  1  2]]\n",
            "\n",
            "Shape:\t(3, 3)\n",
            "Rank:\t2\n",
            "test_for_square: True\n",
            "\n",
            "Matrix:\n",
            "[[9 2 1]\n",
            " [8 3 7]]\n",
            "\n",
            "Shape:\t(2, 3)\n",
            "Rank:\t2\n",
            "test_for_square: False\n",
            "\n"
          ]
        }
      ],
      "source": [
        "matrix_1 = np.array([\n",
        "             [12,2,3],\n",
        "             [3,3,3], \n",
        "             [8,1,2]            \n",
        "]) \n",
        "matrix_2 = np.array([\n",
        "             [9,2,1],\n",
        "             [8,3,7]           \n",
        "\n",
        "])\n",
        "describe_mat(matrix_1)\n",
        "describe_mat(matrix_2)"
      ]
    },
    {
      "cell_type": "markdown",
      "metadata": {
        "id": "FG8Y8_zEBEWf"
      },
      "source": [
        "#According to element "
      ]
    },
    {
      "cell_type": "markdown",
      "metadata": {
        "id": "MpoqNbKRgYlA"
      },
      "source": [
        "##Null Matrix\n"
      ]
    },
    {
      "cell_type": "markdown",
      "metadata": {
        "id": "7QFzFL3LgdP9"
      },
      "source": [
        "The term \"null\" simple means \"empty\". In a Null matrix, it is a type of matrix according to element that has an empty matrix or does not contain any element. [3]\n"
      ]
    },
    {
      "cell_type": "code",
      "execution_count": null,
      "metadata": {
        "id": "Jys39zzXBKRG"
      },
      "outputs": [],
      "source": [
        "def describe_mat(matrix):\n",
        "    if matrix.size > 0:\n",
        "           test_for_square = True if matrix.shape[0] == matrix.shape[1] else False\n",
        "           print(f'Matrix:\\n{matrix}\\n\\nShape:\\t{matrix.shape}\\nRank:\\t{matrix.ndim}\\ntest_for_square: {test_for_square}\\n')\n",
        "    else:\n",
        "        print('The Matrix is Null')\n"
      ]
    },
    {
      "cell_type": "code",
      "execution_count": null,
      "metadata": {
        "colab": {
          "base_uri": "https://localhost:8080/"
        },
        "id": "HkX9wdKUBnEi",
        "outputId": "fb1905c1-cb55-4f9e-a8f3-6c3c3ea3d32f"
      },
      "outputs": [
        {
          "name": "stdout",
          "output_type": "stream",
          "text": [
            "The Matrix is Null\n"
          ]
        }
      ],
      "source": [
        "matrix_null = np.array([])\n",
        "describe_mat(matrix_null)"
      ]
    },
    {
      "cell_type": "markdown",
      "metadata": {
        "id": "WTuQOAwcB2KS"
      },
      "source": [
        "##Zero Matrix"
      ]
    },
    {
      "cell_type": "markdown",
      "metadata": {
        "id": "UxqrwvEsg45V"
      },
      "source": [
        "With Zero Matrix, it is easily understood that the elements to be inputted should be zero (0) only regardless of whether the matrix is a square, rectangle, or a row. [3]\n"
      ]
    },
    {
      "cell_type": "code",
      "execution_count": null,
      "metadata": {
        "colab": {
          "base_uri": "https://localhost:8080/"
        },
        "id": "6fgpxhniB6wC",
        "outputId": "c54c5970-88c8-49d3-b9c0-744384978c87"
      },
      "outputs": [
        {
          "name": "stdout",
          "output_type": "stream",
          "text": [
            "Zero Row Matrix: \n",
            "[[0. 0. 0. 0. 0. 0. 0. 0.]]\n",
            "Zero Square Matrix: \n",
            "[[0. 0. 0. 0.]\n",
            " [0. 0. 0. 0.]\n",
            " [0. 0. 0. 0.]\n",
            " [0. 0. 0. 0.]]\n",
            "Zero Rectangular Matrix: \n",
            "[[0. 0.]\n",
            " [0. 0.]\n",
            " [0. 0.]]\n"
          ]
        }
      ],
      "source": [
        "zero_row_matrix = np.zeros((1,8))\n",
        "zero_square_matrix = np.zeros((4,4))\n",
        "zero_rect_matrix = np.zeros((3,2))\n",
        "\n",
        "print(f'Zero Row Matrix: \\n{zero_row_matrix}')\n",
        "print(f'Zero Square Matrix: \\n{zero_square_matrix}')\n",
        "print(f'Zero Rectangular Matrix: \\n{zero_rect_matrix}')\n"
      ]
    },
    {
      "cell_type": "markdown",
      "metadata": {
        "id": "09o0E_cMCRcv"
      },
      "source": [
        "##Ones Matrix"
      ]
    },
    {
      "cell_type": "markdown",
      "metadata": {
        "id": "xI7k26GVg88V"
      },
      "source": [
        "As with the zero matrix, a ones matrix may be any rectangular matrix with all of its entries being ones (1s) rather than zeros (0s). In simpl terms, a matrix of ones is a matrix in which each component is equal to one.[4] "
      ]
    },
    {
      "cell_type": "markdown",
      "metadata": {
        "id": "eYVwDffuEPoX"
      },
      "source": [
        ""
      ]
    },
    {
      "cell_type": "code",
      "execution_count": null,
      "metadata": {
        "colab": {
          "base_uri": "https://localhost:8080/"
        },
        "id": "Cax4Un8JDuIj",
        "outputId": "4ca589d7-0704-46ac-bd42-b50bbcbce72e"
      },
      "outputs": [
        {
          "name": "stdout",
          "output_type": "stream",
          "text": [
            "Ones Row Matrix: \n",
            "[[1. 1. 1. 1. 1. 1. 1. 1. 1. 1.]]\n",
            "Ones Square Matrix: \n",
            "[[1. 1. 1. 1.]\n",
            " [1. 1. 1. 1.]\n",
            " [1. 1. 1. 1.]\n",
            " [1. 1. 1. 1.]]\n",
            "Ones Rectangular Matrix: \n",
            "[[1. 1. 1.]\n",
            " [1. 1. 1.]\n",
            " [1. 1. 1.]\n",
            " [1. 1. 1.]]\n"
          ]
        }
      ],
      "source": [
        "ones_row_matrix = np.ones((1,10))\n",
        "ones_square_matrix = np.ones((4,4))\n",
        "ones_rect_matrix = np.ones((4,3))\n",
        "\n",
        "print(f'Ones Row Matrix: \\n{ones_row_matrix}')\n",
        "print(f'Ones Square Matrix: \\n{ones_square_matrix}')\n",
        "print(f'Ones Rectangular Matrix: \\n{ones_rect_matrix}')"
      ]
    },
    {
      "cell_type": "markdown",
      "metadata": {
        "id": "tvXL9PthEiYJ"
      },
      "source": [
        "##Diagonal Matrix"
      ]
    },
    {
      "cell_type": "markdown",
      "metadata": {
        "id": "5YxTosgrhx5A"
      },
      "source": [
        "From the word itself, it is a type of matrix wherein the elements that are not in the diagonal of the matrix will be automatically zero, and the elements that are non-zero will be placed diagonally in a square matrix. [2]\n"
      ]
    },
    {
      "cell_type": "code",
      "execution_count": null,
      "metadata": {
        "colab": {
          "base_uri": "https://localhost:8080/"
        },
        "id": "AaMnc5JnEiwU",
        "outputId": "b2554ba9-be60-4652-99d9-95fe9dc49973"
      },
      "outputs": [
        {
          "data": {
            "text/plain": [
              "array([[12,  0,  0],\n",
              "       [ 0,  4,  0],\n",
              "       [ 0,  0,  1]])"
            ]
          },
          "execution_count": 28,
          "metadata": {},
          "output_type": "execute_result"
        }
      ],
      "source": [
        "np.array([\n",
        "    [12,0,0],\n",
        "    [0,4,0],\n",
        "    [0,0,1]\n",
        "])"
      ]
    },
    {
      "cell_type": "code",
      "execution_count": null,
      "metadata": {
        "colab": {
          "base_uri": "https://localhost:8080/"
        },
        "id": "7hPn3U8VFC7G",
        "outputId": "7f383d24-d41b-4d27-9a85-227113becb4f"
      },
      "outputs": [
        {
          "data": {
            "text/plain": [
              "array([[12,  0,  0,  0],\n",
              "       [ 0,  7,  0,  0],\n",
              "       [ 0,  0,  9,  0],\n",
              "       [ 0,  0,  0,  3]])"
            ]
          },
          "execution_count": 53,
          "metadata": {},
          "output_type": "execute_result"
        }
      ],
      "source": [
        "d = np.diag([12,7,9,3])\n",
        "d\n"
      ]
    },
    {
      "cell_type": "markdown",
      "metadata": {
        "id": "0Kq4E8rHFYje"
      },
      "source": [
        "##Identity Matrix"
      ]
    },
    {
      "cell_type": "code",
      "execution_count": null,
      "metadata": {
        "colab": {
          "base_uri": "https://localhost:8080/"
        },
        "id": "Gx3IN2mhFbG-",
        "outputId": "9365b692-9ada-43e3-8faf-21d3b000fbbb"
      },
      "outputs": [
        {
          "data": {
            "text/plain": [
              "array([[1., 0., 0., 0.],\n",
              "       [0., 1., 0., 0.],\n",
              "       [0., 0., 1., 0.],\n",
              "       [0., 0., 0., 1.]])"
            ]
          },
          "execution_count": 29,
          "metadata": {},
          "output_type": "execute_result"
        }
      ],
      "source": [
        "np.eye(4)"
      ]
    },
    {
      "cell_type": "code",
      "execution_count": null,
      "metadata": {
        "colab": {
          "base_uri": "https://localhost:8080/"
        },
        "id": "fsrItmbRF6dc",
        "outputId": "2779cd76-44b2-4559-9a60-9e4a2be759b4"
      },
      "outputs": [
        {
          "data": {
            "text/plain": [
              "array([[1., 0., 0., 0., 0., 0., 0., 0.],\n",
              "       [0., 1., 0., 0., 0., 0., 0., 0.],\n",
              "       [0., 0., 1., 0., 0., 0., 0., 0.],\n",
              "       [0., 0., 0., 1., 0., 0., 0., 0.],\n",
              "       [0., 0., 0., 0., 1., 0., 0., 0.],\n",
              "       [0., 0., 0., 0., 0., 1., 0., 0.],\n",
              "       [0., 0., 0., 0., 0., 0., 1., 0.],\n",
              "       [0., 0., 0., 0., 0., 0., 0., 1.]])"
            ]
          },
          "execution_count": 56,
          "metadata": {},
          "output_type": "execute_result"
        }
      ],
      "source": [
        "np.identity(8)"
      ]
    },
    {
      "cell_type": "markdown",
      "metadata": {
        "id": "wd2JDmnuGDNh"
      },
      "source": [
        "##Upper Triangular Matrix"
      ]
    },
    {
      "cell_type": "markdown",
      "metadata": {
        "id": "gV5E3hq6h1Nn"
      },
      "source": [
        "It is a matrix in which the values under the diagonal of the matrix will be equivalent to zero, while the values declared will only appear above the diagonal. [2]"
      ]
    },
    {
      "cell_type": "code",
      "execution_count": null,
      "metadata": {
        "colab": {
          "base_uri": "https://localhost:8080/"
        },
        "id": "bFLJq1o8GKFJ",
        "outputId": "98d2e448-dd34-41e0-b968-a151706a9043"
      },
      "outputs": [
        {
          "data": {
            "text/plain": [
              "array([[ 1,  2,  3,  4],\n",
              "       [ 0,  3,  1, -1],\n",
              "       [ 0,  4,  4, -1],\n",
              "       [ 0,  3,  1, -1]])"
            ]
          },
          "execution_count": 50,
          "metadata": {},
          "output_type": "execute_result"
        }
      ],
      "source": [
        "np.array([\n",
        "     [1,2,3,4],\n",
        "     [0,3,1,-1],\n",
        "     [0,0,4,-1],\n",
        "     [0,0,0,4],\n",
        "])"
      ]
    },
    {
      "cell_type": "markdown",
      "metadata": {
        "id": "rlkHz3kFGGKV"
      },
      "source": [
        "##Lower Triangular Matrix"
      ]
    },
    {
      "cell_type": "markdown",
      "metadata": {
        "id": "RAzRqFNYHKfr"
      },
      "source": [
        "This type of matrix is the opposite of the Upper Triangular Matrix. Wherein there are no values or the elements to appear is zero above the diagonal of the matrix. The values declared are under the diagonal. [2]\n"
      ]
    },
    {
      "cell_type": "code",
      "execution_count": null,
      "metadata": {
        "colab": {
          "base_uri": "https://localhost:8080/"
        },
        "id": "vxRqSYkFGKh-",
        "outputId": "b597b0c2-8b72-4629-ab4b-0a6bfe4dc236"
      },
      "outputs": [
        {
          "data": {
            "text/plain": [
              "array([[ 0,  0,  0,  4],\n",
              "       [ 0,  0,  1, -1],\n",
              "       [ 7,  8,  4, -1],\n",
              "       [ 1,  2,  3,  4]])"
            ]
          },
          "execution_count": 51,
          "metadata": {},
          "output_type": "execute_result"
        }
      ],
      "source": [
        "np.array([\n",
        "     [0,0,0,4],\n",
        "     [0,0,1,-1],\n",
        "     [7,8,4,-1],\n",
        "     [1,2,3,4],\n",
        "])"
      ]
    },
    {
      "cell_type": "markdown",
      "metadata": {
        "id": "I8salU3JHZhK"
      },
      "source": [
        "#Practice"
      ]
    },
    {
      "cell_type": "markdown",
      "metadata": {
        "id": "IvkZYkAWHgJf"
      },
      "source": [
        "1. Given the linear combination below, try to create a corresponding matrix representing it.\n",
        "\n",
        ":$$\\theta = 5x + 3y - z$$                          \n",
        "Matrix $$\n",
        "\\theta = \\begin{bmatrix} 5 & 3 & -1 \\end{bmatrix} \\\\\n",
        "$$\n",
        "\n"
      ]
    },
    {
      "cell_type": "markdown",
      "metadata": {
        "id": "BoLpp31cHtlv"
      },
      "source": [
        "2.Given the system of linear combinations below, try to encode it as a matrix. Also describe the matrix.\n",
        "\n",
        "\n",
        "$$\n",
        "A = \\left\\{\\begin{array}\n",
        "5x_1 + 2x_2 +x_3\\\\\n",
        "4x_2 - x_3\\\\\n",
        "10x_3\n",
        "\\end{array}\\right.\n",
        "$$\n",
        "\n",
        "$$\n",
        "A=\\begin{bmatrix} 1 & 2 & 1 \\\\ 0 & 4 & -1 \\\\ 0 & 0 & 10\\end{bmatrix} \\\\\n",
        "$$\n"
      ]
    },
    {
      "cell_type": "markdown",
      "source": [
        ""
      ],
      "metadata": {
        "id": "ivjgoCL8BsSV"
      }
    },
    {
      "cell_type": "markdown",
      "metadata": {
        "id": "bklC0A3oIALl"
      },
      "source": [
        "3. Given the matrix below, express it as a linear combination in a markdown and a LaTeX markdown.\n",
        "\n",
        "G = np.array([\n",
        "    [1,7,8],\n",
        "    [2,2,2],\n",
        "    [4,6,7]\n",
        "])\n",
        "\n"
      ]
    },
    {
      "cell_type": "markdown",
      "source": [
        "$$\n",
        "G = \\left\\{\\begin{array}\n",
        "5x + 7y + 8z\\\\\n",
        "2x + 2y + 2z\\\\\n",
        "4x + 6y + 7z\n",
        "\\end{array}\\right.\n",
        "$$\n",
        "\n",
        "\n",
        "$$\n",
        "G=\\begin{bmatrix} 1 & 7 & 8 \\\\ 2 & 2 & 2 \\\\ 4 & 6 & 7\\end{bmatrix} \\\\\n",
        "$$\n"
      ],
      "metadata": {
        "id": "5eRgwoGvB0Al"
      }
    },
    {
      "cell_type": "markdown",
      "metadata": {
        "id": "91GxG7_XIRNu"
      },
      "source": [
        "4. Given the matrix below, display the output as a LaTeX markdown also express it as a system of linear combinations.\n",
        "\n",
        "H = np.tril(G)\n",
        "H\n",
        "\n",
        "\n"
      ]
    },
    {
      "cell_type": "markdown",
      "source": [
        "$$\n",
        "H = \\left\\{\\begin{array}\n",
        "4x\\\\\n",
        "3x + 1y\\\\\n",
        "4x + 6y + 7z\n",
        "\\end{array}\\right.\n",
        "$$\n",
        "\n",
        "\n",
        "$$\n",
        "H=\\begin{bmatrix} 2 & 0 & 0 \\\\ 3 & 3 & 0 \\\\ 4 & 7 & 8\\end{bmatrix} \\\\\n",
        "$$\n"
      ],
      "metadata": {
        "id": "RMk8YJK4CCPA"
      }
    },
    {
      "cell_type": "markdown",
      "metadata": {
        "id": "wig_ibUaJGFa"
      },
      "source": [
        "# Matrix Algebra"
      ]
    },
    {
      "cell_type": "markdown",
      "metadata": {
        "id": "gUzEUjnoJXaA"
      },
      "source": [
        "##Addition"
      ]
    },
    {
      "cell_type": "code",
      "execution_count": null,
      "metadata": {
        "colab": {
          "base_uri": "https://localhost:8080/"
        },
        "id": "EguPpBw1Jaog",
        "outputId": "5ba30bbf-119b-4810-c2cb-c8f10ce2863d"
      },
      "outputs": [
        {
          "data": {
            "text/plain": [
              "array([[21,  4,  4],\n",
              "       [11,  6, 10]])"
            ]
          },
          "execution_count": 34,
          "metadata": {},
          "output_type": "execute_result"
        }
      ],
      "source": [
        "A = np.array([\n",
        "    [12,2,3],\n",
        "    [3,3,3], \n",
        "                        \n",
        "]) \n",
        "B = np.array([\n",
        "    [9,2,1],\n",
        "    [8,3,7]           \n",
        "\n",
        "])\n",
        "A+B"
      ]
    },
    {
      "cell_type": "code",
      "execution_count": null,
      "metadata": {
        "colab": {
          "base_uri": "https://localhost:8080/"
        },
        "id": "cuQq5FKhJp_5",
        "outputId": "8c79fda8-ecee-4f89-d42a-a9abf14590ae"
      },
      "outputs": [
        {
          "data": {
            "text/plain": [
              "array([[14,  4,  5],\n",
              "       [ 5,  5,  5]])"
            ]
          },
          "execution_count": 53,
          "metadata": {},
          "output_type": "execute_result"
        }
      ],
      "source": [
        "2+A ##Broadcasting\n",
        "# 2*np.ones(A.shape)+A"
      ]
    },
    {
      "cell_type": "markdown",
      "metadata": {
        "id": "D5qA9KKNJlac"
      },
      "source": [
        "## Subtraction"
      ]
    },
    {
      "cell_type": "code",
      "execution_count": null,
      "metadata": {
        "colab": {
          "base_uri": "https://localhost:8080/"
        },
        "id": "O236-UX6JoZ2",
        "outputId": "09d20646-818f-420b-8a6d-5311490f02ca"
      },
      "outputs": [
        {
          "data": {
            "text/plain": [
              "array([[ 3,  0, 10],\n",
              "       [-8,  4, -4]])"
            ]
          },
          "execution_count": 15,
          "metadata": {},
          "output_type": "execute_result"
        }
      ],
      "source": [
        "A = np.array([\n",
        "    [12,2,11],\n",
        "    [3,7,3], \n",
        "                        \n",
        "]) \n",
        "B = np.array([\n",
        "    [9,2,1],\n",
        "    [11,3,7]           \n",
        "\n",
        "])\n",
        "A-B"
      ]
    },
    {
      "cell_type": "code",
      "execution_count": null,
      "metadata": {
        "id": "Tq4-unt1J6uw"
      },
      "outputs": [],
      "source": [
        "3-B"
      ]
    },
    {
      "cell_type": "markdown",
      "metadata": {
        "id": "06FqwSm6KCYg"
      },
      "source": [
        "##Element-wise Multiplication\n"
      ]
    },
    {
      "cell_type": "code",
      "execution_count": null,
      "metadata": {
        "colab": {
          "base_uri": "https://localhost:8080/"
        },
        "id": "HgjBYkD4KIx2",
        "outputId": "1e6f2151-3121-4b3d-aad4-a15067c7be6d"
      },
      "outputs": [
        {
          "data": {
            "text/plain": [
              "array([[108,   4,   3],\n",
              "       [ 24,   9,  21]])"
            ]
          },
          "execution_count": 16,
          "metadata": {},
          "output_type": "execute_result"
        }
      ],
      "source": [
        "A*B\n",
        "np.multiply(A,B)"
      ]
    },
    {
      "cell_type": "code",
      "execution_count": null,
      "metadata": {
        "colab": {
          "base_uri": "https://localhost:8080/"
        },
        "id": "91PhS4ecKSsY",
        "outputId": "16da96d4-4fc4-41bf-ccd5-e6b7dd706762"
      },
      "outputs": [
        {
          "data": {
            "text/plain": [
              "array([[24,  4,  6],\n",
              "       [ 6,  6,  6]])"
            ]
          },
          "execution_count": 57,
          "metadata": {},
          "output_type": "execute_result"
        }
      ],
      "source": [
        "2*A"
      ]
    },
    {
      "cell_type": "code",
      "execution_count": null,
      "metadata": {
        "colab": {
          "base_uri": "https://localhost:8080/"
        },
        "id": "j-TBuOcvKggn",
        "outputId": "f6723af2-36ca-419a-baa9-01b292f29785"
      },
      "outputs": [
        {
          "data": {
            "text/plain": [
              "array([[21,  4,  4],\n",
              "       [11,  6, 10]])"
            ]
          },
          "execution_count": 33,
          "metadata": {},
          "output_type": "execute_result"
        }
      ],
      "source": [
        "np.add(A,B)"
      ]
    },
    {
      "cell_type": "markdown",
      "source": [
        "#Activity"
      ],
      "metadata": {
        "id": "j6yI7o_1yfsQ"
      }
    },
    {
      "cell_type": "markdown",
      "source": [
        "##Task #1"
      ],
      "metadata": {
        "id": "7pMNE-emymZa"
      }
    },
    {
      "cell_type": "code",
      "execution_count": null,
      "metadata": {
        "id": "T_9TRRyom2p0"
      },
      "outputs": [],
      "source": [
        "#(Create a function named mat_desc() that througouhly describes a matrix, it should:\n",
        "#Displays the shape, size, and rank of the matrix.\n",
        "#Displays whether the matrix is square or non-square.\n",
        "#Displays whether the matrix is an empty matrix.)\n",
        "#Displays if the matrix is an identity, ones, or zeros matrix\n",
        "\n",
        "def mat_desc(matrix):\n",
        "    matrix = np.array(matrix)\n",
        "    square = False\n",
        "    print(matrix)\n",
        "    print(\"-----------------------------------------------------\")\n",
        "    print(\"According to Shape,Size & Rank:\")\n",
        "    print(f'Shape:\\t{matrix.shape}\\nSize:\\t{matrix.size}\\nRank:\\t{matrix.ndim}\\n')\n",
        "    print(\"-----------------------------------------------------\")\n",
        "    print(\"Matrix Classifications:\")\n",
        "    print(\"This sample matrix is a ____\")\n",
        "    if(matrix.shape[0] == matrix.shape[1]):\n",
        "        square = True\n",
        "        print(\"- Square Matrix\")\n",
        "    else:\n",
        "        print(\"- Non-Square Matrix\")\n",
        "    if matrix.size == 0:\n",
        "        print(\"- Null/Empty Matrix\")\n",
        "    else:\n",
        "        print(\"-  Not an Empty Matrix\")\n",
        "    identity = np.identity(matrix.shape[0])\n",
        "    if(square and (identity == matrix).all()):\n",
        "        print(\"- Identity Matrix\")\n",
        "    else:\n",
        "        print(\"- Not an Identity Matrix\")\n",
        "    one = np.ones((matrix.shape[0], matrix.shape[1]))\n",
        "    if((one == matrix).all()):\n",
        "        print(\"- Ones Matrix\")\n",
        "    else:\n",
        "        print(\"- Not a Ones Matrix\")\n",
        "    zero = np.zeros((matrix.shape[0], matrix.shape[1]))\n",
        "    if((zero == matrix).all()):\n",
        "        print(\"- Zero Matrix\")\n",
        "    else:\n",
        "        print(\"- Non-Zero Matrix\")"
      ]
    },
    {
      "cell_type": "code",
      "execution_count": null,
      "metadata": {
        "colab": {
          "base_uri": "https://localhost:8080/"
        },
        "id": "NWxEhqgLTcqy",
        "outputId": "02ac5c40-6c35-4918-ec63-8a54f53c7071"
      },
      "outputs": [
        {
          "name": "stdout",
          "output_type": "stream",
          "text": [
            "#Sample Matrix 1\n",
            "[[ 4 18 12 16]\n",
            " [ 7 14 21 28]\n",
            " [ 8 16 24 32]\n",
            " [ 9 18 27 36]]\n",
            "-----------------------------------------------------\n",
            "According to Shape,Size & Rank:\n",
            "Shape:\t(4, 4)\n",
            "Size:\t16\n",
            "Rank:\t2\n",
            "\n",
            "-----------------------------------------------------\n",
            "Matrix Classifications:\n",
            "This sample matrix is a ____\n",
            "- Square Matrix\n",
            "-  Not an Empty Matrix\n",
            "- Not an Identity Matrix\n",
            "- Not a Ones Matrix\n",
            "- Non-Zero Matrix\n"
          ]
        }
      ],
      "source": [
        "print(\"#Sample Matrix 1\")\n",
        "M = np.array([\n",
        "    [4,18,12,16],\n",
        "    [7,14,21,28],\n",
        "    [8,16,24,32],\n",
        "    [9,18,27,36]\n",
        "])\n",
        "mat_desc(M)\n"
      ]
    },
    {
      "cell_type": "code",
      "execution_count": null,
      "metadata": {
        "colab": {
          "base_uri": "https://localhost:8080/"
        },
        "id": "WABIlVY4dWyU",
        "outputId": "da5aa374-1e51-4b4b-8d08-120e4392202d"
      },
      "outputs": [
        {
          "name": "stdout",
          "output_type": "stream",
          "text": [
            "#Sample Matrix 2\n",
            "[[0 0 0 0]\n",
            " [0 0 0 0]\n",
            " [0 0 0 0]]\n",
            "-----------------------------------------------------\n",
            "According to Shape,Size & Rank:\n",
            "Shape:\t(3, 4)\n",
            "Size:\t12\n",
            "Rank:\t2\n",
            "\n",
            "-----------------------------------------------------\n",
            "Matrix Classifications:\n",
            "This sample matrix is a ____\n",
            "- Non-Square Matrix\n",
            "-  Not an Empty Matrix\n",
            "- Not an Identity Matrix\n",
            "- Not a Ones Matrix\n",
            "- Zero Matrix\n"
          ]
        }
      ],
      "source": [
        "print(\"#Sample Matrix 2\")\n",
        "P = np.array([\n",
        "    [0,0,0,0],\n",
        "    [0,0,0,0],\n",
        "    [0,0,0,0],   \n",
        "])\n",
        "mat_desc(P)"
      ]
    },
    {
      "cell_type": "code",
      "execution_count": null,
      "metadata": {
        "colab": {
          "base_uri": "https://localhost:8080/"
        },
        "id": "0avpkbWIe2un",
        "outputId": "d19ef166-3f1d-46ed-875d-bce0fa6fb258"
      },
      "outputs": [
        {
          "name": "stdout",
          "output_type": "stream",
          "text": [
            "#Sample Matrix 2\n",
            "[[0. 0. 0. 0.]\n",
            " [0. 0. 0. 0.]\n",
            " [0. 0. 0. 0.]\n",
            " [0. 0. 0. 0.]]\n",
            "-----------------------------------------------------\n",
            "According to Shape,Size & Rank:\n",
            "Shape:\t(4, 4)\n",
            "Size:\t16\n",
            "Rank:\t2\n",
            "\n",
            "-----------------------------------------------------\n",
            "Matrix Classifications:\n",
            "This sample matrix is a ____\n",
            "- Square Matrix\n",
            "- Not an Empty Matrix\n",
            "- Not an Identity Matrix\n",
            "- Not a Ones Matrix\n",
            "- Zero Matrix\n"
          ]
        }
      ],
      "source": [
        "print(\"#Sample Matrix 3\")\n",
        "G = np.zeros((4,4))\n",
        "mat_desc(G)\n"
      ]
    },
    {
      "cell_type": "code",
      "execution_count": null,
      "metadata": {
        "colab": {
          "base_uri": "https://localhost:8080/"
        },
        "id": "eOR-YF2MpEXo",
        "outputId": "97c8f36b-3acb-4739-8c45-6462ce5ccb65"
      },
      "outputs": [
        {
          "name": "stdout",
          "output_type": "stream",
          "text": [
            "#Sample Matrix 4\n",
            "[[1. 0. 0. 0.]\n",
            " [0. 1. 0. 0.]\n",
            " [0. 0. 1. 0.]\n",
            " [0. 0. 0. 1.]]\n",
            "-----------------------------------------------------\n",
            "According to Shape,Size & Rank:\n",
            "Shape:\t(4, 4)\n",
            "Size:\t16\n",
            "Rank:\t2\n",
            "\n",
            "-----------------------------------------------------\n",
            "Matrix Classifications:\n",
            "This sample matrix is a ____\n",
            "- Square Matrix\n",
            "-  Not an Empty Matrix\n",
            "- Identity Matrix\n",
            "- Not a Ones Matrix\n",
            "- Non-Zero Matrix\n"
          ]
        }
      ],
      "source": [
        "print(\"#Sample Matrix 4\")\n",
        "J = np.eye(4)\n",
        "\n",
        "mat_desc(J)"
      ]
    },
    {
      "cell_type": "code",
      "execution_count": null,
      "metadata": {
        "colab": {
          "base_uri": "https://localhost:8080/"
        },
        "id": "IVzIU07TfO12",
        "outputId": "dbe73e58-4b66-4add-8595-16d22280e392"
      },
      "outputs": [
        {
          "name": "stdout",
          "output_type": "stream",
          "text": [
            "#Sample Matrix 3\n",
            "[[1 1 1 1]\n",
            " [1 1 1 1]\n",
            " [1 1 1 1]\n",
            " [1 1 1 1]]\n",
            "-----------------------------------------------------\n",
            "According to Shape,Size & Rank:\n",
            "Shape:\t(4, 4)\n",
            "Size:\t16\n",
            "Rank:\t2\n",
            "\n",
            "-----------------------------------------------------\n",
            "Matrix Classifications:\n",
            "This sample matrix is a ____\n",
            "- Square Matrix\n",
            "- Not an Empty Matrix\n",
            "- Not an Identity Matrix\n",
            "- Ones Matrix\n",
            "- Non-Zero Matrix\n"
          ]
        }
      ],
      "source": [
        "print(\"#Sample Matrix 4\")\n",
        "A = np.array([\n",
        "    [1,1,1,1],\n",
        "    [1,1,1,1],\n",
        "    [1,1,1,1],\n",
        "    [1,1,1,1]\n",
        "])\n",
        "mat_desc(A)"
      ]
    },
    {
      "cell_type": "code",
      "execution_count": null,
      "metadata": {
        "colab": {
          "base_uri": "https://localhost:8080/"
        },
        "id": "4KRznVamgt_F",
        "outputId": "90403d3b-1928-4734-9310-24b454509685"
      },
      "outputs": [
        {
          "name": "stdout",
          "output_type": "stream",
          "text": [
            "#Sample Matrix 5\n",
            "[[ 1  1  1  1]\n",
            " [ 1 22 11 23]\n",
            " [ 4  8 12 16]\n",
            " [ 3  3  6  8]\n",
            " [21  4  9  8]]\n",
            "-----------------------------------------------------\n",
            "According to Shape,Size & Rank:\n",
            "Shape:\t(5, 4)\n",
            "Size:\t20\n",
            "Rank:\t2\n",
            "\n",
            "-----------------------------------------------------\n",
            "Matrix Classifications:\n",
            "This sample matrix is a ____\n",
            "- Non-Square Matrix\n",
            "- Not an Empty Matrix\n",
            "- Not an Identity Matrix\n",
            "- Not a Ones Matrix\n",
            "- Non-Zero Matrix\n"
          ]
        }
      ],
      "source": [
        "print(\"#Sample Matrix 5\")\n",
        "Z = np.array([\n",
        "    [1,1,1,1],\n",
        "    [1,22,11,23],\n",
        "    [4,8,12,16],\n",
        "    [3,3,6,8],\n",
        "    [21,4,9,8],\n",
        "\n",
        "])\n",
        "mat_desc(Z)"
      ]
    },
    {
      "cell_type": "markdown",
      "source": [
        "##Task #2"
      ],
      "metadata": {
        "id": "wRZWARlfysBJ"
      }
    },
    {
      "cell_type": "code",
      "execution_count": null,
      "metadata": {
        "id": "4nyTbB5j9C1P"
      },
      "outputs": [],
      "source": [
        "##Create a function named mat_operations() that takes in two matrices a input parameters it should:\n",
        "#Determines if the matrices are viable for operation and returns your own error message \n",
        "#if they are not viable.\n",
        "#Returns the sum of the matrices.\n",
        "#Returns the difference of the matrices.\n",
        "#Returns the element-wise multiplication of the matrices.\n",
        "#Returns the element-wise division of the matrices.\n",
        "\n",
        "def mat_operations(matrix_A, matrix_B):\n",
        "    matrix_A = np.array(matrix_A)\n",
        "    matrix_B = np.array(matrix_B)\n",
        "    print('Matrix A:', matrix_A)\n",
        "    print('Matrix B:', matrix_B)\n",
        "    if(matrix_A.shape != matrix_B.shape):\n",
        "        print('Matrix Error: The operation is not viable.')\n",
        "        return\n",
        "    print('By Addition: Sum of Matrices:')\n",
        "    matrix_sum = matrix_A + matrix_B\n",
        "    print(matrix_sum)\n",
        "    print('By Subtration: Difference Matrices:')\n",
        "    matrix_diff = matrix_A - matrix_B\n",
        "    print(matrix_diff)\n",
        "    print('By Element-wise Multiplication of Matrices:')\n",
        "    matrix_multiply = np.multiply(matrix_A, matrix_B)\n",
        "    print(matrix_multiply)\n",
        "    print('By Element-wise Division of of Matrices:')\n",
        "    matrix_divide = np.divide(matrix_A, matrix_B)\n",
        "    print(matrix_divide)\n"
      ]
    },
    {
      "cell_type": "code",
      "execution_count": null,
      "metadata": {
        "colab": {
          "base_uri": "https://localhost:8080/"
        },
        "id": "10YtV_dkyouL",
        "outputId": "4dd9423e-3761-44b2-a227-8b58a0d2309c"
      },
      "outputs": [
        {
          "name": "stdout",
          "output_type": "stream",
          "text": [
            "#Sample Matrix 1\n",
            "Matrix A: [[10  2  3]\n",
            " [ 3  4  3]]\n",
            "Matrix B: [[1 2 1]\n",
            " [8 3 7]]\n",
            "By Addition: Sum of Matrices:\n",
            "[[11  4  4]\n",
            " [11  7 10]]\n",
            "By Subtration: Difference Matrices:\n",
            "[[ 9  0  2]\n",
            " [-5  1 -4]]\n",
            "By Element-wise Multiplication of Matrices:\n",
            "[[10  4  3]\n",
            " [24 12 21]]\n",
            "By Element-wise Division of of Matrices:\n",
            "[[10.          1.          3.        ]\n",
            " [ 0.375       1.33333333  0.42857143]]\n"
          ]
        }
      ],
      "source": [
        "print(\"#Sample Matrix 1\")\n",
        "matrix_A = np.array([\n",
        "    [10,2,3],\n",
        "    [3,4,3], \n",
        "                        \n",
        "]) \n",
        "matrix_B= np.array([\n",
        "    [1,2,1],\n",
        "    [8,3,7]           \n",
        "\n",
        "])\n",
        "mat_operations(matrix_A, matrix_B)"
      ]
    },
    {
      "cell_type": "code",
      "execution_count": null,
      "metadata": {
        "colab": {
          "base_uri": "https://localhost:8080/"
        },
        "id": "ZY9Sn9XA1UbK",
        "outputId": "498725d1-623f-4fdd-9a23-f62b60975953"
      },
      "outputs": [
        {
          "name": "stdout",
          "output_type": "stream",
          "text": [
            "#Sample Matrix 2\n",
            "Matrix A: [[ 4  2  3  7]\n",
            " [ 3  4  3  1]\n",
            " [11  4  9  2]]\n",
            "Matrix B: [[1 2 1]\n",
            " [8 3 7]]\n",
            "Matrix Error: The operation is not viable.\n"
          ]
        }
      ],
      "source": [
        "print(\"#Sample Matrix 2\")\n",
        "matrix_A = np.array([\n",
        "    [4,2,3,7],\n",
        "    [3,4,3,1], \n",
        "    [11,4,9,2]\n",
        "                        \n",
        "]) \n",
        "matrix_B= np.array([\n",
        "    [1,2,1],\n",
        "    [8,3,7]           \n",
        "\n",
        "])\n",
        "mat_operations(matrix_A, matrix_B)"
      ]
    },
    {
      "cell_type": "code",
      "execution_count": null,
      "metadata": {
        "colab": {
          "base_uri": "https://localhost:8080/"
        },
        "id": "5PnoPJmM2boT",
        "outputId": "83e35538-1fd7-4384-b9a9-60aae313e633"
      },
      "outputs": [
        {
          "output_type": "stream",
          "name": "stdout",
          "text": [
            "#Sample Matrix 3\n",
            "Matrix A: [[4 2 3]\n",
            " [4 1 9]\n",
            " [7 3 5]]\n",
            "Matrix B: [[6 2 1]\n",
            " [4 4 6]]\n",
            "Matrix Error: The operation is not viable.\n",
            "-----------------------------------------------------\n",
            "#Sample Matrix 4\n",
            "Matrix A: [[3.   2.   1.   9.   1.5 ]\n",
            " [1.01 2.   3.   1.2  1.  ]\n",
            " [8.   1.   8.   9.   2.  ]]\n",
            "Matrix B: [[5.  4.  1.  3.  8. ]\n",
            " [8.  3.  4.  4.1 2. ]\n",
            " [2.  1.  2.  3.  3. ]]\n",
            "By Addition: Sum of Matrices:\n",
            "[[ 8.    6.    2.   12.    9.5 ]\n",
            " [ 9.01  5.    7.    5.3   3.  ]\n",
            " [10.    2.   10.   12.    5.  ]]\n",
            "By Subtration: Difference Matrices:\n",
            "[[-2.   -2.    0.    6.   -6.5 ]\n",
            " [-6.99 -1.   -1.   -2.9  -1.  ]\n",
            " [ 6.    0.    6.    6.   -1.  ]]\n",
            "By Element-wise Multiplication of Matrices:\n",
            "[[15.    8.    1.   27.   12.  ]\n",
            " [ 8.08  6.   12.    4.92  2.  ]\n",
            " [16.    1.   16.   27.    6.  ]]\n",
            "By Element-wise Division of of Matrices:\n",
            "[[0.6        0.5        1.         3.         0.1875    ]\n",
            " [0.12625    0.66666667 0.75       0.29268293 0.5       ]\n",
            " [4.         1.         4.         3.         0.66666667]]\n",
            "-----------------------------------------------------\n",
            "#Sample Matrix 5\n",
            "Matrix A: [[ 1  2  4  2]\n",
            " [ 8 16 23  1]\n",
            " [ 4  3  1  7]]\n",
            "Matrix B: [[2 2 2 2]]\n",
            "Matrix Error: The operation is not viable.\n"
          ]
        }
      ],
      "source": [
        "print(\"#Sample Matrix 3\")\n",
        "mat_operations([[4, 2, 3], [4,1,9], [7,3,5]], [[6,2,1],[4,4,6]])\n",
        "print(\"-----------------------------------------------------\")\n",
        "print(\"#Sample Matrix 4\")\n",
        "mat_operations([[3,2,1,9,1.5], [1.01,2,3,1.2,1], [8,1,8,9,2]], [[5,4,1,3,8],[8,3,4,4.1,2],[2,1,2,3,3]])\n",
        "print(\"-----------------------------------------------------\")\n",
        "print(\"#Sample Matrix 5\")\n",
        "mat_operations([[1, 2, 4,2], [8,16,23,1], [4,3,1,7]], [[2,2,2,2]])"
      ]
    }
  ],
  "metadata": {
    "colab": {
      "collapsed_sections": [],
      "name": "Assignment3",
      "provenance": [],
      "include_colab_link": true
    },
    "kernelspec": {
      "display_name": "Python 3",
      "name": "python3"
    },
    "language_info": {
      "name": "python"
    }
  },
  "nbformat": 4,
  "nbformat_minor": 0
}