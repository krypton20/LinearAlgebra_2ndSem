{
  "nbformat": 4,
  "nbformat_minor": 0,
  "metadata": {
    "colab": {
      "name": "Assignment 5",
      "provenance": [],
      "collapsed_sections": [],
      "include_colab_link": true
    },
    "kernelspec": {
      "name": "python3",
      "display_name": "Python 3"
    },
    "language_info": {
      "name": "python"
    }
  },
  "cells": [
    {
      "cell_type": "markdown",
      "metadata": {
        "id": "view-in-github",
        "colab_type": "text"
      },
      "source": [
        "<a href=\"https://colab.research.google.com/github/krypton20/LinearAlgebra_2ndSem/blob/main/Assignment_5.ipynb\" target=\"_parent\"><img src=\"https://colab.research.google.com/assets/colab-badge.svg\" alt=\"Open In Colab\"/></a>"
      ]
    },
    {
      "cell_type": "markdown",
      "source": [
        "#Laboratory 3 : Matrix Operations\n"
      ],
      "metadata": {
        "id": "yY6BczA4D2-U"
      }
    },
    {
      "cell_type": "markdown",
      "source": [
        "### Objectives\n",
        "In the previous laboratory activity, the students have learned and applied the basic principles, and techniques of using Python in creating and representing matrices. However, this laboratory activity focuses on the application of other matrix operations in Python such as the transposition, dot product, determinant, and inverse matrix operations. Through this activity, the students will be able to learn the application of various matrix operations in programming together with its basic operations and techniques. Upon learning its applications, the students will be able to apply their knowledge in translating matrix operations and properties using Python."
      ],
      "metadata": {
        "id": "69aKbw4yD93X"
      }
    },
    {
      "cell_type": "markdown",
      "source": [
        "#Discussion"
      ],
      "metadata": {
        "id": "s3CGjQT2ETSx"
      }
    },
    {
      "cell_type": "code",
      "source": [
        "import numpy as np\n",
        "import matplotlib.pyplot as plt\n",
        "%matplotlib inline"
      ],
      "metadata": {
        "id": "8B9dyZQ9Ec4Q"
      },
      "execution_count": null,
      "outputs": []
    },
    {
      "cell_type": "markdown",
      "source": [
        "- Numerical Python or \"numpy\" in short, supports a broad range of mathematical operations on arrays. It extends Python with sophisticated data formats that ensure fast array and matrix computations, as well as a vast library of elevated numerical methods that work on these matrices and arrays [1].\n",
        "- Matplotlib.pyplot is a set of algorithms that enable matplotlib to operate similarly to MATLAB. Each pyplot function modifies a figure in a certain way [2].\n",
        "\n"
      ],
      "metadata": {
        "id": "4AVukTFtEmpG"
      }
    },
    {
      "cell_type": "markdown",
      "source": [
        "#Transposition"
      ],
      "metadata": {
        "id": "MDXMEOPoE5_t"
      }
    },
    {
      "cell_type": "markdown",
      "source": [
        "This is known to transpose a matrix wherein the values in the row and column have interchange or switch positions through the codes \"np.transpose\" and \".T\". [4]"
      ],
      "metadata": {
        "id": "WfkRQdAkgWfD"
      }
    },
    {
      "cell_type": "markdown",
      "source": [
        "$$M = \\begin{bmatrix} 3 & 2 & 1&2\\\\8 &2 &3&1 \\\\ 1& -3 &-1& 3\\end{bmatrix}$$\n",
        "\n",
        "\n",
        "$$M^T = \\begin{bmatrix} 3 & 8 & 1\\\\2 & 2 &-3 \\\\ 1 & 3 & -1\\\\2&1&3\\end{bmatrix}$$\n"
      ],
      "metadata": {
        "id": "w8u4iSs1FFUc"
      }
    },
    {
      "cell_type": "code",
      "source": [
        "M = np.array([\n",
        "    [3 ,2, 1, 2],\n",
        "    [8, 2, 3,1],\n",
        "    [1, -3, -1,3]\n",
        "])\n",
        "M"
      ],
      "metadata": {
        "colab": {
          "base_uri": "https://localhost:8080/"
        },
        "id": "weWIOlS3FukU",
        "outputId": "02d24a8a-3f53-4348-876f-661b8e599279"
      },
      "execution_count": 54,
      "outputs": [
        {
          "output_type": "execute_result",
          "data": {
            "text/plain": [
              "array([[ 3,  2,  1,  2],\n",
              "       [ 8,  2,  3,  1],\n",
              "       [ 1, -3, -1,  3]])"
            ]
          },
          "metadata": {},
          "execution_count": 54
        }
      ]
    },
    {
      "cell_type": "code",
      "source": [
        "M_trans1 = np.transpose(M)\n",
        "M_trans1"
      ],
      "metadata": {
        "colab": {
          "base_uri": "https://localhost:8080/"
        },
        "id": "-IcrO8fxFzOk",
        "outputId": "b25a162e-0d3d-4f1b-92d3-5c5ec8a449f7"
      },
      "execution_count": 55,
      "outputs": [
        {
          "output_type": "execute_result",
          "data": {
            "text/plain": [
              "array([[ 3,  8,  1],\n",
              "       [ 2,  2, -3],\n",
              "       [ 1,  3, -1],\n",
              "       [ 2,  1,  3]])"
            ]
          },
          "metadata": {},
          "execution_count": 55
        }
      ]
    },
    {
      "cell_type": "code",
      "source": [
        "M_trans2 = M.T\n",
        "M_trans2"
      ],
      "metadata": {
        "colab": {
          "base_uri": "https://localhost:8080/"
        },
        "id": "tv1ruA_yF6KU",
        "outputId": "8d2893b5-4f9f-4e22-bd41-dd34e85c40d0"
      },
      "execution_count": 56,
      "outputs": [
        {
          "output_type": "execute_result",
          "data": {
            "text/plain": [
              "array([[ 3,  8,  1],\n",
              "       [ 2,  2, -3],\n",
              "       [ 1,  3, -1],\n",
              "       [ 2,  1,  3]])"
            ]
          },
          "metadata": {},
          "execution_count": 56
        }
      ]
    },
    {
      "cell_type": "code",
      "source": [
        "np.array_equiv(M_trans1, M_trans2)"
      ],
      "metadata": {
        "colab": {
          "base_uri": "https://localhost:8080/"
        },
        "id": "ez86imScGD4u",
        "outputId": "a7b65af1-0299-4130-fb35-88fc1b09f741"
      },
      "execution_count": 57,
      "outputs": [
        {
          "output_type": "execute_result",
          "data": {
            "text/plain": [
              "True"
            ]
          },
          "metadata": {},
          "execution_count": 57
        }
      ]
    },
    {
      "cell_type": "code",
      "source": [
        "GP = np.array([\n",
        "   [ 3, 8, 1],\n",
        "   [ 2, 2, -3],\n",
        "   [ 1, 3, -1],\n",
        "    [ 2, 1, 3]\n",
        "])\n",
        "GP.shape"
      ],
      "metadata": {
        "colab": {
          "base_uri": "https://localhost:8080/"
        },
        "id": "GqFbJY1SGSGm",
        "outputId": "bcb4107a-01cd-4dc5-91e6-588902f9edc3"
      },
      "execution_count": 58,
      "outputs": [
        {
          "output_type": "execute_result",
          "data": {
            "text/plain": [
              "(4, 3)"
            ]
          },
          "metadata": {},
          "execution_count": 58
        }
      ]
    },
    {
      "cell_type": "code",
      "source": [
        "np.transpose(GP).shape"
      ],
      "metadata": {
        "colab": {
          "base_uri": "https://localhost:8080/"
        },
        "id": "jhZxJdLlGTlI",
        "outputId": "dd5868e8-4a50-457a-bf14-992464dd4c0d"
      },
      "execution_count": 59,
      "outputs": [
        {
          "output_type": "execute_result",
          "data": {
            "text/plain": [
              "(3, 4)"
            ]
          },
          "metadata": {},
          "execution_count": 59
        }
      ]
    },
    {
      "cell_type": "code",
      "source": [
        "GP.T.shape"
      ],
      "metadata": {
        "colab": {
          "base_uri": "https://localhost:8080/"
        },
        "id": "tfOObLSuGZIb",
        "outputId": "c758c431-8cb2-44a3-9ec1-101e8c87e5d5"
      },
      "execution_count": 60,
      "outputs": [
        {
          "output_type": "execute_result",
          "data": {
            "text/plain": [
              "(3, 4)"
            ]
          },
          "metadata": {},
          "execution_count": 60
        }
      ]
    },
    {
      "cell_type": "markdown",
      "source": [
        "  ### Try to create your own matrix (you can try non-squares) to test transposition."
      ],
      "metadata": {
        "id": "kFOI0iA5GdVS"
      }
    },
    {
      "cell_type": "code",
      "source": [
        "Z = np.array([\n",
        "    [35 ,2, 12, 20],\n",
        "    [10, 12, 3,21],\n",
        "    [11, -23, -1,31]\n",
        "])\n",
        "Z"
      ],
      "metadata": {
        "id": "mko92FD8GjcU",
        "colab": {
          "base_uri": "https://localhost:8080/"
        },
        "outputId": "e25440ee-d491-4343-d25b-007e4cc52ae6"
      },
      "execution_count": 61,
      "outputs": [
        {
          "output_type": "execute_result",
          "data": {
            "text/plain": [
              "array([[ 35,   2,  12,  20],\n",
              "       [ 10,  12,   3,  21],\n",
              "       [ 11, -23,  -1,  31]])"
            ]
          },
          "metadata": {},
          "execution_count": 61
        }
      ]
    },
    {
      "cell_type": "code",
      "source": [
        "Z_trans1 = np.transpose(Z)\n",
        "Z_trans1"
      ],
      "metadata": {
        "colab": {
          "base_uri": "https://localhost:8080/"
        },
        "id": "1AANCo-V-2Bd",
        "outputId": "bc4b7271-ce3f-4cde-d71d-e82437c71c69"
      },
      "execution_count": 62,
      "outputs": [
        {
          "output_type": "execute_result",
          "data": {
            "text/plain": [
              "array([[ 35,  10,  11],\n",
              "       [  2,  12, -23],\n",
              "       [ 12,   3,  -1],\n",
              "       [ 20,  21,  31]])"
            ]
          },
          "metadata": {},
          "execution_count": 62
        }
      ]
    },
    {
      "cell_type": "code",
      "source": [
        "np.transpose(Z).shape"
      ],
      "metadata": {
        "id": "wrE09vH7GvAx",
        "colab": {
          "base_uri": "https://localhost:8080/"
        },
        "outputId": "1e3ef642-97d7-4502-eae9-2bb84ac15543"
      },
      "execution_count": 63,
      "outputs": [
        {
          "output_type": "execute_result",
          "data": {
            "text/plain": [
              "(4, 3)"
            ]
          },
          "metadata": {},
          "execution_count": 63
        }
      ]
    },
    {
      "cell_type": "code",
      "source": [
        "Z.T.shape"
      ],
      "metadata": {
        "colab": {
          "base_uri": "https://localhost:8080/"
        },
        "id": "_JXavIHj_DU-",
        "outputId": "029a1e11-afdc-48af-d353-dee101778e51"
      },
      "execution_count": 64,
      "outputs": [
        {
          "output_type": "execute_result",
          "data": {
            "text/plain": [
              "(4, 3)"
            ]
          },
          "metadata": {},
          "execution_count": 64
        }
      ]
    },
    {
      "cell_type": "markdown",
      "source": [
        "# Dot Product / Inner Product"
      ],
      "metadata": {
        "id": "9wC9ZtRjG8X0"
      }
    },
    {
      "cell_type": "markdown",
      "source": [
        "In this operation, the product of the two matrices is displayed using three different codes: np.dot(), np.matmul() and @ operator. The matrix dot product is more complicated than vector dot products due to the fact that there are rules to follow in the matrix dot product. [3]"
      ],
      "metadata": {
        "id": "HD2U5CYzHPA7"
      }
    },
    {
      "cell_type": "markdown",
      "source": [
        "So if we have two matrices $X$ and $Y$:\n",
        "$$X = \\begin{bmatrix}x_{(0,0)}&x_{(0,1)}\\\\ x_{(1,0)}&x_{(1,1)}\\end{bmatrix}, Y = \\begin{bmatrix}y_{(0,0)}&y_{(0,1)}\\\\ y_{(1,0)}&y_{(1,1)}\\end{bmatrix}$$\n",
        "\n",
        "The dot product will then be computed as:\n",
        "$$X \\cdot Y= \\begin{bmatrix} x_{(0,0)}*y_{(0,0)} + x_{(0,1)}*y_{(1,0)} & x_{(0,0)}*y_{(0,1)} + x_{(0,1)}*y_{(1,1)} \\\\  x_{(1,0)}*y_{(0,0)} + x_{(1,1)}*y_{(1,0)} & x_{(1,0)}*y_{(0,1)} + x_{(1,1)}*y_{(1,1)}\n",
        "\\end{bmatrix}$$\n",
        "\n",
        "So if we assign values to $X$ and $Y$:\n",
        "$$X = \\begin{bmatrix}1&2\\\\ 0&1\\end{bmatrix}, Y = \\begin{bmatrix}-1&0\\\\ 2&2\\end{bmatrix}$$\n",
        "\n",
        "$$X \\cdot Y= \\begin{bmatrix} 1*-1 + 2*2 & 1*0 + 2*2 \\\\  0*-1 + 1*2 & 0*0 + 1*2 \\end{bmatrix} = \\begin{bmatrix} 3 & 4 \\\\2 & 2 \\end{bmatrix}$$"
      ],
      "metadata": {
        "id": "QNXyHgivk-G1"
      }
    },
    {
      "cell_type": "code",
      "source": [
        "M = np.array([\n",
        "    [8,9,-1],\n",
        "    [3,2,2],\n",
        "    [5,2,3],\n",
        "    [9,3,1]\n",
        "])\n",
        "G = np.array([\n",
        "    [1,3,-2,3],\n",
        "    [12,8,1,7],\n",
        "    [3,3,3,3],\n",
        "   \n",
        "])"
      ],
      "metadata": {
        "id": "XzdQkOMoIS6G"
      },
      "execution_count": 65,
      "outputs": []
    },
    {
      "cell_type": "code",
      "source": [
        "np.dot(M,G)"
      ],
      "metadata": {
        "colab": {
          "base_uri": "https://localhost:8080/"
        },
        "id": "5XsxRna_ITmE",
        "outputId": "2e492b3f-cb15-4b26-de60-90222798681c"
      },
      "execution_count": 66,
      "outputs": [
        {
          "output_type": "execute_result",
          "data": {
            "text/plain": [
              "array([[113,  93, -10,  84],\n",
              "       [ 33,  31,   2,  29],\n",
              "       [ 38,  40,   1,  38],\n",
              "       [ 48,  54, -12,  51]])"
            ]
          },
          "metadata": {},
          "execution_count": 66
        }
      ]
    },
    {
      "cell_type": "code",
      "source": [
        "np.dot(G,M)"
      ],
      "metadata": {
        "colab": {
          "base_uri": "https://localhost:8080/"
        },
        "id": "ExLksMha-KNC",
        "outputId": "cf973090-baf0-4962-9bdd-44c19d4e79de"
      },
      "execution_count": 67,
      "outputs": [
        {
          "output_type": "execute_result",
          "data": {
            "text/plain": [
              "array([[ 34,  20,   2],\n",
              "       [188, 147,  14],\n",
              "       [ 75,  48,  15]])"
            ]
          },
          "metadata": {},
          "execution_count": 67
        }
      ]
    },
    {
      "cell_type": "code",
      "source": [
        "M.dot(G)"
      ],
      "metadata": {
        "colab": {
          "base_uri": "https://localhost:8080/"
        },
        "id": "GbxPhpsoIV_9",
        "outputId": "142833f5-9c29-4344-85ac-a96869c3cc45"
      },
      "execution_count": 68,
      "outputs": [
        {
          "output_type": "execute_result",
          "data": {
            "text/plain": [
              "array([[113,  93, -10,  84],\n",
              "       [ 33,  31,   2,  29],\n",
              "       [ 38,  40,   1,  38],\n",
              "       [ 48,  54, -12,  51]])"
            ]
          },
          "metadata": {},
          "execution_count": 68
        }
      ]
    },
    {
      "cell_type": "code",
      "source": [
        "G.dot(M)"
      ],
      "metadata": {
        "colab": {
          "base_uri": "https://localhost:8080/"
        },
        "id": "01BxoOYj-OUb",
        "outputId": "b8790caf-12a1-4ae7-a7a1-4d92577d4b17"
      },
      "execution_count": 69,
      "outputs": [
        {
          "output_type": "execute_result",
          "data": {
            "text/plain": [
              "array([[ 34,  20,   2],\n",
              "       [188, 147,  14],\n",
              "       [ 75,  48,  15]])"
            ]
          },
          "metadata": {},
          "execution_count": 69
        }
      ]
    },
    {
      "cell_type": "code",
      "source": [
        "M @ G"
      ],
      "metadata": {
        "colab": {
          "base_uri": "https://localhost:8080/"
        },
        "id": "S-IL5JsYIYQJ",
        "outputId": "586d8db5-aa6b-4010-d739-7b3edb5ed2ad"
      },
      "execution_count": 70,
      "outputs": [
        {
          "output_type": "execute_result",
          "data": {
            "text/plain": [
              "array([[113,  93, -10,  84],\n",
              "       [ 33,  31,   2,  29],\n",
              "       [ 38,  40,   1,  38],\n",
              "       [ 48,  54, -12,  51]])"
            ]
          },
          "metadata": {},
          "execution_count": 70
        }
      ]
    },
    {
      "cell_type": "code",
      "source": [
        "G @ M"
      ],
      "metadata": {
        "colab": {
          "base_uri": "https://localhost:8080/"
        },
        "id": "ZwONdsR9-TRx",
        "outputId": "0d858c0e-82ac-441a-f2c6-881a178721df"
      },
      "execution_count": 71,
      "outputs": [
        {
          "output_type": "execute_result",
          "data": {
            "text/plain": [
              "array([[ 34,  20,   2],\n",
              "       [188, 147,  14],\n",
              "       [ 75,  48,  15]])"
            ]
          },
          "metadata": {},
          "execution_count": 71
        }
      ]
    },
    {
      "cell_type": "code",
      "source": [
        "np.matmul(M,G)"
      ],
      "metadata": {
        "colab": {
          "base_uri": "https://localhost:8080/"
        },
        "id": "x3wbKgLrIaYZ",
        "outputId": "252d7252-ca68-4de1-fc7f-e84e37d54987"
      },
      "execution_count": 72,
      "outputs": [
        {
          "output_type": "execute_result",
          "data": {
            "text/plain": [
              "array([[113,  93, -10,  84],\n",
              "       [ 33,  31,   2,  29],\n",
              "       [ 38,  40,   1,  38],\n",
              "       [ 48,  54, -12,  51]])"
            ]
          },
          "metadata": {},
          "execution_count": 72
        }
      ]
    },
    {
      "cell_type": "code",
      "source": [
        "np.matmul(G,M)"
      ],
      "metadata": {
        "colab": {
          "base_uri": "https://localhost:8080/"
        },
        "id": "of-kQCPE-W5S",
        "outputId": "2f8e39af-aea0-4679-9cdd-6922c340846e"
      },
      "execution_count": 73,
      "outputs": [
        {
          "output_type": "execute_result",
          "data": {
            "text/plain": [
              "array([[ 34,  20,   2],\n",
              "       [188, 147,  14],\n",
              "       [ 75,  48,  15]])"
            ]
          },
          "metadata": {},
          "execution_count": 73
        }
      ]
    },
    {
      "cell_type": "markdown",
      "source": [
        "\n",
        "### Rule 1: The inner dimensions of the two matrices in question must be the same. \n",
        "\n",
        "This pertains to the limitation of multiplying matrices, wherein the number of columns in the first matrix equals the number of rows in the second matrix. To further understand, the product of matrix $M$ and matrix $A$ can be shown since the shape of matrix $M$ is $(3,3)$ and matrix $A$ has a shape of $(3,4)$.\n",
        "\n",
        "$$M = \\begin{bmatrix}3&3&3\\\\1&-3&8\\\\9&7&13\\end{bmatrix}, A = \\begin{bmatrix}11&21&3&14\\\\7&8&-8&1\\\\9&-2&11&-10\\end{bmatrix}, T = \\begin{bmatrix}4&8&9\\\\4&3&1\\\\12&11&14\\\\-18&8&9\\end{bmatrix}$$\n",
        "\n",
        "So in this case $M$ has a shape of $(3,3)$, $A$ has a shape of $(3,4)$ and $T$ has a shape of $(4,3)$. So the only matrix pairs that is eligible to perform dot product is matrices $M \\cdot T$, or $A \\cdot T$.  "
      ],
      "metadata": {
        "id": "Twbzf7s4I0Ue"
      }
    },
    {
      "cell_type": "code",
      "source": [
        "M = np.array([\n",
        "    [3, 3, 3],\n",
        "    [5, 2, 2],\n",
        "    [1, 8, 12]\n",
        "])\n",
        "A = np.array([\n",
        "    [10, 20, 8, 9],\n",
        "    [7, 9,-8, 1],\n",
        "    [1, -2, 11, -1]\n",
        "])\n",
        "T = np.array([\n",
        "    [3, 2, 1.25],\n",
        "    [3, 2, 2.5],\n",
        "    [9, 1, 4],\n",
        "    [-3, 1, 2]\n",
        "])\n",
        "print(M.shape)\n",
        "print(A.shape)\n",
        "print(T.shape)"
      ],
      "metadata": {
        "colab": {
          "base_uri": "https://localhost:8080/"
        },
        "id": "WcJ9bEeiI3dQ",
        "outputId": "008ffb8a-6c7d-4465-f4c4-8c2a29e53486"
      },
      "execution_count": 74,
      "outputs": [
        {
          "output_type": "stream",
          "name": "stdout",
          "text": [
            "(3, 3)\n",
            "(3, 4)\n",
            "(4, 3)\n"
          ]
        }
      ]
    },
    {
      "cell_type": "code",
      "source": [
        "M @ A"
      ],
      "metadata": {
        "colab": {
          "base_uri": "https://localhost:8080/"
        },
        "id": "kZLwAeKuI-3l",
        "outputId": "079a59e7-f2af-4270-e70c-54b2b3edba50"
      },
      "execution_count": 75,
      "outputs": [
        {
          "output_type": "execute_result",
          "data": {
            "text/plain": [
              "array([[ 54,  81,  33,  27],\n",
              "       [ 66, 114,  46,  45],\n",
              "       [ 78,  68,  76,   5]])"
            ]
          },
          "metadata": {},
          "execution_count": 75
        }
      ]
    },
    {
      "cell_type": "code",
      "source": [
        "T @ M"
      ],
      "metadata": {
        "colab": {
          "base_uri": "https://localhost:8080/"
        },
        "id": "yAKDoGYXI_Cs",
        "outputId": "3fb10c3e-bbbc-47e8-d705-de8856bd4819"
      },
      "execution_count": 76,
      "outputs": [
        {
          "output_type": "execute_result",
          "data": {
            "text/plain": [
              "array([[20.25, 23.  , 28.  ],\n",
              "       [21.5 , 33.  , 43.  ],\n",
              "       [36.  , 61.  , 77.  ],\n",
              "       [-2.  ,  9.  , 17.  ]])"
            ]
          },
          "metadata": {},
          "execution_count": 76
        }
      ]
    },
    {
      "cell_type": "code",
      "source": [
        "M @ T.T"
      ],
      "metadata": {
        "colab": {
          "base_uri": "https://localhost:8080/"
        },
        "id": "19ZZtR_9JK1t",
        "outputId": "418e2528-7a12-4ce2-809a-77074ac2cf98"
      },
      "execution_count": 77,
      "outputs": [
        {
          "output_type": "execute_result",
          "data": {
            "text/plain": [
              "array([[18.75, 22.5 , 42.  ,  0.  ],\n",
              "       [21.5 , 24.  , 55.  , -9.  ],\n",
              "       [34.  , 49.  , 65.  , 29.  ]])"
            ]
          },
          "metadata": {},
          "execution_count": 77
        }
      ]
    },
    {
      "cell_type": "code",
      "source": [
        "G = np.array([\n",
        "    [1.25,2,3,0]\n",
        "])\n",
        "Y = np.array([\n",
        "    [2,0,1,-11]\n",
        "])\n",
        "print(G.shape)\n",
        "print(Y.shape)"
      ],
      "metadata": {
        "colab": {
          "base_uri": "https://localhost:8080/"
        },
        "id": "_JMqPKnVJNND",
        "outputId": "b26c4676-f5ee-4ef8-b0d0-77a880e8e28e"
      },
      "execution_count": 78,
      "outputs": [
        {
          "output_type": "stream",
          "name": "stdout",
          "text": [
            "(1, 4)\n",
            "(1, 4)\n"
          ]
        }
      ]
    },
    {
      "cell_type": "code",
      "source": [
        "Y.T @ G"
      ],
      "metadata": {
        "colab": {
          "base_uri": "https://localhost:8080/"
        },
        "id": "tuCTqUckJP8L",
        "outputId": "8c1e1b0f-a903-4b15-81ae-827dcdedcaef"
      },
      "execution_count": 79,
      "outputs": [
        {
          "output_type": "execute_result",
          "data": {
            "text/plain": [
              "array([[  2.5 ,   4.  ,   6.  ,   0.  ],\n",
              "       [  0.  ,   0.  ,   0.  ,   0.  ],\n",
              "       [  1.25,   2.  ,   3.  ,   0.  ],\n",
              "       [-13.75, -22.  , -33.  ,   0.  ]])"
            ]
          },
          "metadata": {},
          "execution_count": 79
        }
      ]
    },
    {
      "cell_type": "markdown",
      "source": [
        "### Rule 2: Dot Product has special properties\n",
        "\n",
        "It was known that during the formulation of solutions in Dot Product, there are various distinct properties supposed to be recognized and taken into account.\n",
        " 1. $M \\cdot Z \\neq Z \\cdot M$\n",
        " 2. $M \\cdot (Z \\cdot W) = (M \\cdot Z) \\cdot W$\n",
        " 3. $M\\cdot(Z+W) = M\\cdot Z + M\\cdot W$\n",
        " 4. $(Z+W)\\cdot M = Z\\cdot M + W\\cdot M$\n",
        " 5. $M\\cdot I = M$\n",
        " 6. $M\\cdot \\emptyset = \\emptyset$"
      ],
      "metadata": {
        "id": "HVNDrpa2JdrO"
      }
    },
    {
      "cell_type": "code",
      "source": [
        "M = np.array([\n",
        "    [14,11,4,7,8],\n",
        "    [11,23,-5,8,-9],\n",
        "    [11,-9,7,3,0],\n",
        "    [3,-6,0,1,2],\n",
        "    [4,-1,12,2,14]\n",
        "])\n",
        "Z = np.array([\n",
        "    [30,2,20,9,3],\n",
        "    [17,8,-8,1,20],\n",
        "    [9,-2,11,-10,1],\n",
        "    [8,0,-1,3,-1],\n",
        "    [17,10,1,-3,4]\n",
        "])\n",
        "W = np.array([\n",
        "    [-12,8,17,3,4],\n",
        "    [1,3,3,3,10],\n",
        "    [0,19,11,14,-3],\n",
        "    [-3,8,12,4,10],\n",
        "    [1,3,-4,7,-6],\n",
        "])"
      ],
      "metadata": {
        "id": "sfyYkFA2JuIn"
      },
      "execution_count": 80,
      "outputs": []
    },
    {
      "cell_type": "code",
      "source": [
        "np.array_equal(M@Z, Z@M)"
      ],
      "metadata": {
        "colab": {
          "base_uri": "https://localhost:8080/"
        },
        "id": "V2bSzoalJvfp",
        "outputId": "17cb4802-062a-4dce-a0f3-71f2cf753212"
      },
      "execution_count": 81,
      "outputs": [
        {
          "output_type": "execute_result",
          "data": {
            "text/plain": [
              "False"
            ]
          },
          "metadata": {},
          "execution_count": 81
        }
      ]
    },
    {
      "cell_type": "code",
      "source": [
        "np.array_equal(M@(Z@W),(M@Z)@W)"
      ],
      "metadata": {
        "colab": {
          "base_uri": "https://localhost:8080/"
        },
        "id": "5M4LCittpTpS",
        "outputId": "3b894657-f3e4-4a38-dec2-aefb297cc272"
      },
      "execution_count": 82,
      "outputs": [
        {
          "output_type": "execute_result",
          "data": {
            "text/plain": [
              "True"
            ]
          },
          "metadata": {},
          "execution_count": 82
        }
      ]
    },
    {
      "cell_type": "code",
      "source": [
        "O = Z + W\n",
        "O"
      ],
      "metadata": {
        "colab": {
          "base_uri": "https://localhost:8080/"
        },
        "id": "oPuBPAUypWqz",
        "outputId": "2227e28b-4b99-4f30-f22d-ea51e0e7cb52"
      },
      "execution_count": 83,
      "outputs": [
        {
          "output_type": "execute_result",
          "data": {
            "text/plain": [
              "array([[18, 10, 37, 12,  7],\n",
              "       [18, 11, -5,  4, 30],\n",
              "       [ 9, 17, 22,  4, -2],\n",
              "       [ 5,  8, 11,  7,  9],\n",
              "       [18, 13, -3,  4, -2]])"
            ]
          },
          "metadata": {},
          "execution_count": 83
        }
      ]
    },
    {
      "cell_type": "code",
      "source": [
        "P = (Z@M) + (W@M)\n",
        "P"
      ],
      "metadata": {
        "colab": {
          "base_uri": "https://localhost:8080/"
        },
        "id": "zkQwvXwTJxME",
        "outputId": "862abf48-10ec-4dcd-daca-1587d89235f2"
      },
      "execution_count": 84,
      "outputs": [
        {
          "output_type": "execute_result",
          "data": {
            "text/plain": [
              "array([[ 833,   16,  365,  343,  176],\n",
              "       [ 450,  442,  342,  263,  473],\n",
              "       [ 559,  270,   81,  265, -101],\n",
              "       [ 336,   89,  165,  157,  108],\n",
              "       [ 366,  502,  -38,  221,    7]])"
            ]
          },
          "metadata": {},
          "execution_count": 84
        }
      ]
    },
    {
      "cell_type": "code",
      "source": [
        "np.array_equal(O@M, P)"
      ],
      "metadata": {
        "colab": {
          "base_uri": "https://localhost:8080/"
        },
        "id": "S6sc7wO5NV_L",
        "outputId": "b2a8a649-be9e-4820-8173-274f2709d194"
      },
      "execution_count": 85,
      "outputs": [
        {
          "output_type": "execute_result",
          "data": {
            "text/plain": [
              "True"
            ]
          },
          "metadata": {},
          "execution_count": 85
        }
      ]
    },
    {
      "cell_type": "code",
      "source": [
        "Q = np.eye(5)\n",
        "Q"
      ],
      "metadata": {
        "colab": {
          "base_uri": "https://localhost:8080/"
        },
        "id": "ssq7bINuNq8V",
        "outputId": "4b3d9cf9-c28b-4038-9f0f-65239f17ff5b"
      },
      "execution_count": 86,
      "outputs": [
        {
          "output_type": "execute_result",
          "data": {
            "text/plain": [
              "array([[1., 0., 0., 0., 0.],\n",
              "       [0., 1., 0., 0., 0.],\n",
              "       [0., 0., 1., 0., 0.],\n",
              "       [0., 0., 0., 1., 0.],\n",
              "       [0., 0., 0., 0., 1.]])"
            ]
          },
          "metadata": {},
          "execution_count": 86
        }
      ]
    },
    {
      "cell_type": "code",
      "source": [
        "np.array_equal(M@Q, M)"
      ],
      "metadata": {
        "colab": {
          "base_uri": "https://localhost:8080/"
        },
        "id": "m-1qFb-Fpx_6",
        "outputId": "28522c59-71da-4082-ebb3-748f71d81018"
      },
      "execution_count": 87,
      "outputs": [
        {
          "output_type": "execute_result",
          "data": {
            "text/plain": [
              "True"
            ]
          },
          "metadata": {},
          "execution_count": 87
        }
      ]
    },
    {
      "cell_type": "code",
      "source": [
        "V = M.dot(np.zeros(M.shape))\n",
        "V"
      ],
      "metadata": {
        "colab": {
          "base_uri": "https://localhost:8080/"
        },
        "id": "wiJTG15Gp_1k",
        "outputId": "b34ad680-a493-4878-d863-267142e1f9d3"
      },
      "execution_count": 88,
      "outputs": [
        {
          "output_type": "execute_result",
          "data": {
            "text/plain": [
              "array([[0., 0., 0., 0., 0.],\n",
              "       [0., 0., 0., 0., 0.],\n",
              "       [0., 0., 0., 0., 0.],\n",
              "       [0., 0., 0., 0., 0.],\n",
              "       [0., 0., 0., 0., 0.]])"
            ]
          },
          "metadata": {},
          "execution_count": 88
        }
      ]
    },
    {
      "cell_type": "code",
      "source": [
        "C = np.zeros(M.shape)\n",
        "C"
      ],
      "metadata": {
        "colab": {
          "base_uri": "https://localhost:8080/"
        },
        "id": "EQgncgR8P6xO",
        "outputId": "1584ea4a-5f59-4d46-a4f9-b7a2126c2c31"
      },
      "execution_count": 89,
      "outputs": [
        {
          "output_type": "execute_result",
          "data": {
            "text/plain": [
              "array([[0., 0., 0., 0., 0.],\n",
              "       [0., 0., 0., 0., 0.],\n",
              "       [0., 0., 0., 0., 0.],\n",
              "       [0., 0., 0., 0., 0.],\n",
              "       [0., 0., 0., 0., 0.]])"
            ]
          },
          "metadata": {},
          "execution_count": 89
        }
      ]
    },
    {
      "cell_type": "code",
      "source": [
        "np.array_equal(V,C)"
      ],
      "metadata": {
        "colab": {
          "base_uri": "https://localhost:8080/"
        },
        "id": "JWdZWKwtPSjt",
        "outputId": "b4d2348a-f573-4e5e-c533-f06d77d0292b"
      },
      "execution_count": 90,
      "outputs": [
        {
          "output_type": "execute_result",
          "data": {
            "text/plain": [
              "True"
            ]
          },
          "metadata": {},
          "execution_count": 90
        }
      ]
    },
    {
      "cell_type": "code",
      "source": [
        "z_mat = np.zeros(M.shape)\n",
        "z_mat"
      ],
      "metadata": {
        "colab": {
          "base_uri": "https://localhost:8080/"
        },
        "id": "lNBmqbyDHByo",
        "outputId": "05ed8df2-247c-4a12-ea8f-8e140f733475"
      },
      "execution_count": 91,
      "outputs": [
        {
          "output_type": "execute_result",
          "data": {
            "text/plain": [
              "array([[0., 0., 0., 0., 0.],\n",
              "       [0., 0., 0., 0., 0.],\n",
              "       [0., 0., 0., 0., 0.],\n",
              "       [0., 0., 0., 0., 0.],\n",
              "       [0., 0., 0., 0., 0.]])"
            ]
          },
          "metadata": {},
          "execution_count": 91
        }
      ]
    },
    {
      "cell_type": "code",
      "source": [
        "m_dot_z = M.dot(np.zeros(M.shape))\n",
        "m_dot_z"
      ],
      "metadata": {
        "colab": {
          "base_uri": "https://localhost:8080/"
        },
        "id": "dTrR8AiPHD1g",
        "outputId": "81f79be6-68f0-4495-ea48-546c6e9cb096"
      },
      "execution_count": 92,
      "outputs": [
        {
          "output_type": "execute_result",
          "data": {
            "text/plain": [
              "array([[0., 0., 0., 0., 0.],\n",
              "       [0., 0., 0., 0., 0.],\n",
              "       [0., 0., 0., 0., 0.],\n",
              "       [0., 0., 0., 0., 0.],\n",
              "       [0., 0., 0., 0., 0.]])"
            ]
          },
          "metadata": {},
          "execution_count": 92
        }
      ]
    },
    {
      "cell_type": "code",
      "source": [
        "np.array_equal(m_dot_z,z_mat)"
      ],
      "metadata": {
        "colab": {
          "base_uri": "https://localhost:8080/"
        },
        "id": "8Fi2WvumHF8Z",
        "outputId": "7eeb098b-31f0-456b-ec51-06fa26600f3e"
      },
      "execution_count": 93,
      "outputs": [
        {
          "output_type": "execute_result",
          "data": {
            "text/plain": [
              "True"
            ]
          },
          "metadata": {},
          "execution_count": 93
        }
      ]
    },
    {
      "cell_type": "code",
      "source": [
        "null_mat = np.empty(M.shape, dtype=float)\n",
        "null = np.array(null_mat,dtype=float)\n",
        "print(null)\n",
        "np.allclose(m_dot_z,null)"
      ],
      "metadata": {
        "colab": {
          "base_uri": "https://localhost:8080/"
        },
        "id": "isUrEzMbHH64",
        "outputId": "89643c0c-2c3a-4399-e9b6-22fd4c6bc443"
      },
      "execution_count": 94,
      "outputs": [
        {
          "output_type": "stream",
          "name": "stdout",
          "text": [
            "[[0. 0. 0. 0. 0.]\n",
            " [0. 0. 0. 0. 0.]\n",
            " [0. 0. 0. 0. 0.]\n",
            " [0. 0. 0. 0. 0.]\n",
            " [0. 0. 0. 0. 0.]]\n"
          ]
        },
        {
          "output_type": "execute_result",
          "data": {
            "text/plain": [
              "True"
            ]
          },
          "metadata": {},
          "execution_count": 94
        }
      ]
    },
    {
      "cell_type": "markdown",
      "source": [
        "#Determinant"
      ],
      "metadata": {
        "id": "vFPVP43TLtaJ"
      }
    },
    {
      "cell_type": "markdown",
      "source": [
        "The determinant of some matrix $A$ is denoted as $det(A)$ or $|A|$. So let's say $A$ is represented as:\n",
        "$$A = \\begin{bmatrix}a_{(0,0)}&a_{(0,1)}\\\\a_{(1,0)}&a_{(1,1)}\\end{bmatrix}$$\n",
        "We can compute for the determinant as:\n",
        "$$|A| = a_{(0,0)}*a_{(1,1)} - a_{(1,0)}*a_{(0,1)}$$\n",
        "So if we have $A$ as:\n",
        "$$A = \\begin{bmatrix}1&4\\\\0&3\\end{bmatrix}, |A| = 3$$\n",
        "\n",
        "In getting the determinant of a matrix, the code used is \"np.linalg.det()\", especially when the matrix has a shape of more than $(2,2)$. It is only applicable in square matrices. [5]"
      ],
      "metadata": {
        "id": "UdkxT41eLq_c"
      }
    },
    {
      "cell_type": "code",
      "source": [
        "O = np.array([\n",
        "    [7,6,3],\n",
        "    [8,2,1],\n",
        "    [11,2,3]\n",
        "])\n",
        "np.linalg.det(O)"
      ],
      "metadata": {
        "colab": {
          "base_uri": "https://localhost:8080/"
        },
        "id": "WyA5zZRpL7MS",
        "outputId": "0532bc82-7dfe-419d-f878-a1933c75de7c"
      },
      "execution_count": 95,
      "outputs": [
        {
          "output_type": "execute_result",
          "data": {
            "text/plain": [
              "-68.00000000000001"
            ]
          },
          "metadata": {},
          "execution_count": 95
        }
      ]
    },
    {
      "cell_type": "code",
      "source": [
        "Z = np.array([\n",
        "    [3,7,8,11],\n",
        "    [9,1,2,4],\n",
        "    [6,2,20,4],\n",
        "    [0.25,6,17,12]\n",
        "])\n",
        "np.linalg.det(Z)"
      ],
      "metadata": {
        "colab": {
          "base_uri": "https://localhost:8080/"
        },
        "id": "lliRd_kQMH7I",
        "outputId": "06b6f471-d4ba-4783-c2de-8e48be6e94ec"
      },
      "execution_count": 96,
      "outputs": [
        {
          "output_type": "execute_result",
          "data": {
            "text/plain": [
              "-3706.000000000003"
            ]
          },
          "metadata": {},
          "execution_count": 96
        }
      ]
    },
    {
      "cell_type": "markdown",
      "source": [
        "#Inverse"
      ],
      "metadata": {
        "id": "dsy5TgTERRYC"
      }
    },
    {
      "cell_type": "markdown",
      "source": [
        "This matrix operation involves steps when doing or solving it manually, but it can be easily done with python programming. The code for the inverse of a matrix is \"np.linalg.inv()\" and it can also use for matrices with a higher dimension. The expected outcome of the inverse of a matrix is an identity matrix when multiplied by the original matrix. [6]"
      ],
      "metadata": {
        "id": "rtIBDt18RTpd"
      }
    },
    {
      "cell_type": "code",
      "source": [
        "W = np.array([\n",
        "    [3,9,14],\n",
        "    [4,3,11],\n",
        "    [0,3,2]\n",
        "])\n",
        "\n",
        "np.array(W @ np.linalg.inv(W), dtype=int)"
      ],
      "metadata": {
        "colab": {
          "base_uri": "https://localhost:8080/"
        },
        "id": "hsQnPlJQRT_g",
        "outputId": "4234f7f7-0dbf-4867-a52a-49209fa1d364"
      },
      "execution_count": 97,
      "outputs": [
        {
          "output_type": "execute_result",
          "data": {
            "text/plain": [
              "array([[1, 0, 0],\n",
              "       [0, 1, 0],\n",
              "       [0, 0, 1]])"
            ]
          },
          "metadata": {},
          "execution_count": 97
        }
      ]
    },
    {
      "cell_type": "code",
      "source": [
        "Y = np.array([\n",
        "    [8,16,3,18],\n",
        "    [6,8,-3,14],\n",
        "    [20,-3,2,2],\n",
        "    [1,8,3,5]\n",
        "])\n",
        "Y_inv = np.linalg.inv(Y)\n",
        "np.array(Y @ Y_inv,dtype=int)"
      ],
      "metadata": {
        "colab": {
          "base_uri": "https://localhost:8080/"
        },
        "id": "baqrbDxxRVT2",
        "outputId": "1bef7c35-aaca-4ad9-fa13-e0621931c124"
      },
      "execution_count": 98,
      "outputs": [
        {
          "output_type": "execute_result",
          "data": {
            "text/plain": [
              "array([[0, 0, 0, 0],\n",
              "       [0, 1, 0, 0],\n",
              "       [0, 0, 1, 0],\n",
              "       [0, 0, 0, 0]])"
            ]
          },
          "metadata": {},
          "execution_count": 98
        }
      ]
    },
    {
      "cell_type": "code",
      "source": [
        "Y = np.array([\n",
        "    [8,16,3,18],\n",
        "    [6,8,-3,14],\n",
        "    [20,-3,2,2],\n",
        "    [1,8,3,5]\n",
        "])\n",
        "N = np.linalg.inv(Y)\n",
        "N"
      ],
      "metadata": {
        "colab": {
          "base_uri": "https://localhost:8080/"
        },
        "id": "9aTSI4B5LSuL",
        "outputId": "16e91543-c1c6-41bf-bd47-e71f96339017"
      },
      "execution_count": 99,
      "outputs": [
        {
          "output_type": "execute_result",
          "data": {
            "text/plain": [
              "array([[-0.16969447,  0.1209744 ,  0.06936416,  0.24442609],\n",
              "       [-0.46655656,  0.32287366,  0.05202312,  0.75474814],\n",
              "       [ 0.54170107, -0.46160198, -0.04624277, -0.63914121],\n",
              "       [ 0.45540875, -0.26383154, -0.06936416, -0.67299752]])"
            ]
          },
          "metadata": {},
          "execution_count": 99
        }
      ]
    },
    {
      "cell_type": "code",
      "source": [
        "Y @ N"
      ],
      "metadata": {
        "colab": {
          "base_uri": "https://localhost:8080/"
        },
        "id": "aaPmyB79LFWf",
        "outputId": "a0468183-f9e2-4ae8-f52f-516d0dc0a94f"
      },
      "execution_count": 100,
      "outputs": [
        {
          "output_type": "execute_result",
          "data": {
            "text/plain": [
              "array([[ 1.00000000e+00,  7.77156117e-16,  0.00000000e+00,\n",
              "        -8.88178420e-16],\n",
              "       [ 2.22044605e-16,  1.00000000e+00,  0.00000000e+00,\n",
              "        -8.88178420e-16],\n",
              "       [ 0.00000000e+00,  0.00000000e+00,  1.00000000e+00,\n",
              "         2.22044605e-16],\n",
              "       [ 3.33066907e-16, -5.55111512e-17, -5.55111512e-17,\n",
              "         1.00000000e+00]])"
            ]
          },
          "metadata": {},
          "execution_count": 100
        }
      ]
    },
    {
      "cell_type": "code",
      "source": [
        "L = np.array([\n",
        "    [17,3,-9,8,1,4,0,1],\n",
        "    [2,8,11,32,0,0,-4,1],\n",
        "    [17,2,-2,3,-4,18,25,9],\n",
        "    [1,-15,22,-8,10,11,34,3],\n",
        "    [-19,-4,-16,7,12,20,38,21],\n",
        "    [10,3,10,2,1,0,19,0],\n",
        "    [-8,3,25,37,0,15,2,4],\n",
        "    [9,8,7,6,-2,-6,7,9],\n",
        "])\n",
        "L_inv = np.linalg.inv(L)\n",
        "np.array(L @ L_inv,dtype=int)"
      ],
      "metadata": {
        "colab": {
          "base_uri": "https://localhost:8080/"
        },
        "id": "nh-iTnIIMQ3F",
        "outputId": "7141984b-f664-4098-b92c-5393d604a529"
      },
      "execution_count": 101,
      "outputs": [
        {
          "output_type": "execute_result",
          "data": {
            "text/plain": [
              "array([[1, 0, 0, 0, 0, 0, 0, 0],\n",
              "       [0, 1, 0, 0, 0, 0, 0, 0],\n",
              "       [0, 0, 1, 0, 0, 0, 0, 0],\n",
              "       [0, 0, 0, 1, 0, 0, 0, 0],\n",
              "       [0, 0, 0, 0, 1, 0, 0, 0],\n",
              "       [0, 0, 0, 0, 0, 0, 0, 0],\n",
              "       [0, 0, 0, 0, 0, 0, 0, 0],\n",
              "       [0, 0, 0, 0, 0, 0, 0, 1]])"
            ]
          },
          "metadata": {},
          "execution_count": 101
        }
      ]
    },
    {
      "cell_type": "code",
      "source": [
        "squad = np.array([\n",
        "    [1.20, 1.55, 0.4],\n",
        "    [0.30, 0.25, 0.5],\n",
        "    [0.9, 1.3, 2.0]\n",
        "])\n",
        "weights = np.array([\n",
        "    [0.3, 0.3, 0.4]\n",
        "])\n",
        "p_grade = squad @ weights.T\n",
        "p_grade"
      ],
      "metadata": {
        "colab": {
          "base_uri": "https://localhost:8080/"
        },
        "id": "0EGmzJYaRZSE",
        "outputId": "aebbd480-9c40-41fe-f8c7-eef513c3b455"
      },
      "execution_count": 102,
      "outputs": [
        {
          "output_type": "execute_result",
          "data": {
            "text/plain": [
              "array([[0.985],\n",
              "       [0.365],\n",
              "       [1.46 ]])"
            ]
          },
          "metadata": {},
          "execution_count": 102
        }
      ]
    },
    {
      "cell_type": "markdown",
      "source": [
        "#Activity\n",
        "###Task 1\n",
        "Prove and implement the remaining 6 matrix multiplication properties. You may create your own matrices in which their shapes should not be lower than $(3,3)$. In your methodology, create individual flowcharts for each property and discuss the property you would then present your proofs or validity of your implementation in the results section by comparing your result to present functions from NumPy."
      ],
      "metadata": {
        "id": "0T6DcfSMRmCs"
      }
    },
    {
      "cell_type": "code",
      "source": [
        "G = np.array([\n",
        "    [4,1,14,7,8],\n",
        "    [11,23,-5,8,-9],\n",
        "    [18,-9,7,13,0],\n",
        "    [5,-6,0,1,2],\n",
        "    [4,-13,1,2,4]\n",
        "])\n",
        "H = np.array([\n",
        "    [0,2,0,9,3],\n",
        "    [7,8,-8,1,0],\n",
        "    [19,-32,11,-10,1],\n",
        "    [18,0,-1,3,-11],\n",
        "    [7,0,1,-3,4]\n",
        "])\n",
        "I = np.array([\n",
        "    [-2,3,7,3,4],\n",
        "    [1,4,4,4,0],\n",
        "    [0,19,11,14,-3],\n",
        "    [-13,1,2,4,0],\n",
        "    [1,0,-5,7,-6],\n",
        "])"
      ],
      "metadata": {
        "id": "mk8xiVIb5BxI"
      },
      "execution_count": 103,
      "outputs": []
    },
    {
      "cell_type": "code",
      "source": [
        "#Test for Commutative Property of Multiplication\n",
        "A = G @ H\n",
        "B = H @ G\n",
        "print(f'G•H:\\n{A} \\n\\nH•G:\\n{B}\\n')\n",
        "print(\"--------------------------------------\")\n",
        "print(f'Commutative Property:{np.array_equal(A,B)}')"
      ],
      "metadata": {
        "colab": {
          "base_uri": "https://localhost:8080/"
        },
        "id": "3ZhiDBJAawMF",
        "outputId": "9b0e8b76-7949-40b1-b81f-5dd2398d3b45"
      },
      "execution_count": 104,
      "outputs": [
        {
          "output_type": "stream",
          "name": "stdout",
          "text": [
            "G•H:\n",
            "[[ 455 -432  147 -106  -19]\n",
            " [ 147  366 -256  223  -96]\n",
            " [ 304 -260  136  122  -82]\n",
            " [ -10  -38   49   36   12]\n",
            " [  -8 -128  117    7    7]] \n",
            "\n",
            "H•G:\n",
            "[[  79  -47   -7   31   12]\n",
            " [ -23  257    2   10  -14]\n",
            " [-124 -769  504   12  424]\n",
            " [  25  152  234   94  106]\n",
            " [  47  -36  109   67   66]]\n",
            "\n",
            "--------------------------------------\n",
            "Commutative Property:False\n"
          ]
        }
      ]
    },
    {
      "cell_type": "code",
      "source": [
        "#Test for Associative Property of Multiplication\n",
        "C = H @ I\n",
        "D = G @ H\n",
        "E = G @ C\n",
        "F = D @ I\n",
        "print(f'H•I:\\n{C} \\n\\nG•H:\\n{D}\\n')\n",
        "print(f'G•(H•I):\\n{E} \\n\\n(G•H)•I:\\n{F}\\n')\n",
        "print(\"--------------------------------------\")\n",
        "print(f'Associative Property:{np.array_equal(E,F)}')"
      ],
      "metadata": {
        "colab": {
          "base_uri": "https://localhost:8080/"
        },
        "id": "sT5O7YW0a1N7",
        "outputId": "ff7c0f07-380e-4ef6-c8ea-65bdc7b3b83e"
      },
      "execution_count": 105,
      "outputs": [
        {
          "output_type": "stream",
          "name": "stdout",
          "text": [
            "H•I:\n",
            "[[-112   17   11   65  -18]\n",
            " [ -19  -98   -5  -55   52]\n",
            " [  61  128  101   50   37]\n",
            " [ -86   38  176  -25  141]\n",
            " [  29   37   34   51    1]] \n",
            "\n",
            "G•H:\n",
            "[[ 455 -432  147 -106  -19]\n",
            " [ 147  366 -256  223  -96]\n",
            " [ 304 -260  136  122  -82]\n",
            " [ -10  -38   49   36   12]\n",
            " [  -8 -128  117    7    7]]\n",
            "\n",
            "G•(H•I):\n",
            "[[   17  2324  2957  1138  1493]\n",
            " [-2923 -2736   603 -1459  1932]\n",
            " [-2536  2578  3238  1690  1300]\n",
            " [ -474   785   329   732  -259]\n",
            " [ -196  1694   698  1179  -425]] \n",
            "\n",
            "(G•H)•I:\n",
            "[[   17  2324  2957  1138  1493]\n",
            " [-2923 -2736   603 -1459  1932]\n",
            " [-2536  2578  3238  1690  1300]\n",
            " [ -474   785   329   732  -259]\n",
            " [ -196  1694   698  1179  -425]]\n",
            "\n",
            "--------------------------------------\n",
            "Associative Property:True\n"
          ]
        }
      ]
    },
    {
      "cell_type": "code",
      "source": [
        "#Test for Left-Side Distributive Property of Multiplication\n",
        "J = H + I\n",
        "K = G @ H\n",
        "L = G @ I\n",
        "M = G @ J\n",
        "N = K + L\n",
        "print(f'H+I:\\n{J} \\n\\nG•H:\\n{K}\\n \\n\\nG•I:\\n{L}\\n')\n",
        "print(f'G•(H+I):\\n{M} \\n\\nG•H+G•I:\\n{N}\\n')\n",
        "print(\"--------------------------------------\")\n",
        "print(f'Left Distributive Property:{np.array_equal(M,N)}')"
      ],
      "metadata": {
        "colab": {
          "base_uri": "https://localhost:8080/"
        },
        "id": "IwOAIVZ0a3e9",
        "outputId": "dece5e5b-4a09-4025-9ff0-98b3fc06b0f3"
      },
      "execution_count": 106,
      "outputs": [
        {
          "output_type": "stream",
          "name": "stdout",
          "text": [
            "H+I:\n",
            "[[ -2   5   7  12   7]\n",
            " [  8  12  -4   5   0]\n",
            " [ 19 -13  22   4  -2]\n",
            " [  5   1   1   7 -11]\n",
            " [  8   0  -4   4  -2]] \n",
            "\n",
            "G•H:\n",
            "[[ 455 -432  147 -106  -19]\n",
            " [ 147  366 -256  223  -96]\n",
            " [ 304 -260  136  122  -82]\n",
            " [ -10  -38   49   36   12]\n",
            " [  -8 -128  117    7    7]]\n",
            " \n",
            "\n",
            "G•I:\n",
            "[[ -90  289  160  296  -74]\n",
            " [-112   38  175   24  113]\n",
            " [-214  164  193  168   51]\n",
            " [ -27   -8    3    9    8]\n",
            " [ -43  -19  -29   10  -11]]\n",
            "\n",
            "G•(H+I):\n",
            "[[ 365 -143  307  190  -93]\n",
            " [  35  404  -81  247   17]\n",
            " [  90  -96  329  290  -31]\n",
            " [ -37  -46   52   45   20]\n",
            " [ -51 -147   88   17   -4]] \n",
            "\n",
            "G•H+G•I:\n",
            "[[ 365 -143  307  190  -93]\n",
            " [  35  404  -81  247   17]\n",
            " [  90  -96  329  290  -31]\n",
            " [ -37  -46   52   45   20]\n",
            " [ -51 -147   88   17   -4]]\n",
            "\n",
            "--------------------------------------\n",
            "Left Distributive Property:True\n"
          ]
        }
      ]
    },
    {
      "cell_type": "code",
      "source": [
        "#Test for Right-Side Distributive Property of Multiplication\n",
        "O = H + I\n",
        "P = H @ G\n",
        "Q = I @ G\n",
        "R = O @ G\n",
        "S = P + Q\n",
        "print(f'H+I:\\n{O} \\n\\nH•G:\\n{P}\\n \\n\\nI•G:\\n{Q}\\n')\n",
        "print(f'(H+I)•G:\\n{R} \\n\\nH•G+I•G:\\n{S}\\n')\n",
        "print(\"--------------------------------------\")\n",
        "print(f'Right Distributive Property:{np.array_equal(R,S)}')"
      ],
      "metadata": {
        "colab": {
          "base_uri": "https://localhost:8080/"
        },
        "id": "q_96L-QAa6Am",
        "outputId": "3978630f-c970-40fa-9ddf-0dfd5e1b59b9"
      },
      "execution_count": 107,
      "outputs": [
        {
          "output_type": "stream",
          "name": "stdout",
          "text": [
            "H+I:\n",
            "[[ -2   5   7  12   7]\n",
            " [  8  12  -4   5   0]\n",
            " [ 19 -13  22   4  -2]\n",
            " [  5   1   1   7 -11]\n",
            " [  8   0  -4   4  -2]] \n",
            "\n",
            "H•G:\n",
            "[[  79  -47   -7   31   12]\n",
            " [ -23  257    2   10  -14]\n",
            " [-124 -769  504   12  424]\n",
            " [  25  152  234   94  106]\n",
            " [  47  -36  109   67   66]]\n",
            " \n",
            "\n",
            "I•G:\n",
            "[[ 182  -66   10  112  -21]\n",
            " [ 140   33   22   95  -20]\n",
            " [ 465  293  -21  303 -155]\n",
            " [  15  -32 -173  -53 -105]\n",
            " [ -75   82  -27  -63   -2]]\n",
            "\n",
            "(H+I)•G:\n",
            "[[ 261 -113    3  143   -9]\n",
            " [ 117  290   24  105  -34]\n",
            " [ 341 -476  483  315  269]\n",
            " [  40  120   61   41    1]\n",
            " [ -28   46   82    4   64]] \n",
            "\n",
            "H•G+I•G:\n",
            "[[ 261 -113    3  143   -9]\n",
            " [ 117  290   24  105  -34]\n",
            " [ 341 -476  483  315  269]\n",
            " [  40  120   61   41    1]\n",
            " [ -28   46   82    4   64]]\n",
            "\n",
            "--------------------------------------\n",
            "Right Distributive Property:True\n"
          ]
        }
      ]
    },
    {
      "cell_type": "code",
      "source": [
        "#Test for Multiplicative Identity Property\n",
        "T = np.eye(5)\n",
        "U = G @ T\n",
        "V = G\n",
        "print(f'G:\\n{V} \\n\\nG•I:\\n{U}\\n')\n",
        "print(\"--------------------------------------\")\n",
        "print(f'Multiplicative Identity Property:{np.array_equal(U,V)}')"
      ],
      "metadata": {
        "colab": {
          "base_uri": "https://localhost:8080/"
        },
        "id": "YYQcvRHZa8Bs",
        "outputId": "ba3053a3-2222-457a-aba4-e5fcba49b1f1"
      },
      "execution_count": 108,
      "outputs": [
        {
          "output_type": "stream",
          "name": "stdout",
          "text": [
            "G:\n",
            "[[  4   1  14   7   8]\n",
            " [ 11  23  -5   8  -9]\n",
            " [ 18  -9   7  13   0]\n",
            " [  5  -6   0   1   2]\n",
            " [  4 -13   1   2   4]] \n",
            "\n",
            "G•I:\n",
            "[[  4.   1.  14.   7.   8.]\n",
            " [ 11.  23.  -5.   8.  -9.]\n",
            " [ 18.  -9.   7.  13.   0.]\n",
            " [  5.  -6.   0.   1.   2.]\n",
            " [  4. -13.   1.   2.   4.]]\n",
            "\n",
            "--------------------------------------\n",
            "Multiplicative Identity Property:True\n"
          ]
        }
      ]
    },
    {
      "cell_type": "code",
      "source": [
        "#Test for Multiplicative Property of Zero\n",
        "W = G\n",
        "X = np.zeros(G.shape)\n",
        "Y = W @ X\n",
        "print(f'G:\\n{W}\\n\\nG•0:\\n{Y}\\n')\n",
        "print(\"--------------------------------------\")\n",
        "print(f'Multiplicative Property of Zero:{np.array_equal(Y,X)}')"
      ],
      "metadata": {
        "colab": {
          "base_uri": "https://localhost:8080/"
        },
        "id": "4K8qjHaZa-KW",
        "outputId": "0aa0ca54-f7de-461e-e28f-748636c439ba"
      },
      "execution_count": 109,
      "outputs": [
        {
          "output_type": "stream",
          "name": "stdout",
          "text": [
            "G:\n",
            "[[  4   1  14   7   8]\n",
            " [ 11  23  -5   8  -9]\n",
            " [ 18  -9   7  13   0]\n",
            " [  5  -6   0   1   2]\n",
            " [  4 -13   1   2   4]]\n",
            "\n",
            "G•0:\n",
            "[[0. 0. 0. 0. 0.]\n",
            " [0. 0. 0. 0. 0.]\n",
            " [0. 0. 0. 0. 0.]\n",
            " [0. 0. 0. 0. 0.]\n",
            " [0. 0. 0. 0. 0.]]\n",
            "\n",
            "--------------------------------------\n",
            "Multiplicative Property of Zero:True\n"
          ]
        }
      ]
    },
    {
      "cell_type": "markdown",
      "source": [
        "## Conclusion"
      ],
      "metadata": {
        "id": "llD08ZYFbAbb"
      }
    },
    {
      "cell_type": "markdown",
      "source": [
        "Through using Google Colab again, the students were able to expand their knowledge and skills about the fundamental matrix operations. Applying those matrix operations in Python programming has further improved their understanding of the different operations and their importance in Linear Algebra. In addition, the matrix operations discussed were transposition, dot product/inner product that has two rules, determinant and inverse. Different codes were presented, and each of them has shown its unique functions in Python programming as well as translating matrix equations and operations. Moreover, other introduced codes displayed the same results to show that there are different ways of presenting the matrix operations. The shape of the matrices is also determined, and there are six properties proven in this laboratory report.\n",
        "\n",
        "On top of that, the application of these matrix operations in Python has helped the students assess their capabilities in solving manually, for it can serve as a checking tool for the acquired answers. It may be known that students can do these matrix operations manually, but with higher dimensions, Python programming is a huge help for solving it. Hence, in this laboratory report, Python programming had played a significant role wherein it simply displayed the results of the matrix operations easily and immediately.\n",
        "\n",
        "With regards to the real-life application of matrices, it is undeniable that there are a myriad of things that we have right now that apply concepts and principles of matrices. Matrices have many significant applications that have a great impact on the modern world.  The impact of matrices and their applications in the mathematical world is widespread because they serve as a foundation for many theories and practices. Various problems relating to science and technology could be solved through the application of matrices because matrices could be utilized to provide rapid approximations to more complex calculations. Matrices also play a vital role in scientific methods and research as they are utilized in plotting graphs, data analysis, and statistics. In relation to the field of health care, these scientific methods and researches are critical to the advancement and eradication of issues in the healthcare systems. It is undeniable that the healthcare industry handles a lot of systematic analysis and data wherein matrices could be a very useful tool to obtain a desirable solution."
      ],
      "metadata": {
        "id": "EsVN26FIbE67"
      }
    }
  ]
}