{
  "nbformat": 4,
  "nbformat_minor": 0,
  "metadata": {
    "colab": {
      "name": "Assignment 5",
      "provenance": [],
      "collapsed_sections": [],
      "include_colab_link": true
    },
    "kernelspec": {
      "name": "python3",
      "display_name": "Python 3"
    },
    "language_info": {
      "name": "python"
    }
  },
  "cells": [
    {
      "cell_type": "markdown",
      "metadata": {
        "id": "view-in-github",
        "colab_type": "text"
      },
      "source": [
        "<a href=\"https://colab.research.google.com/github/krypton20/LinearAlgebra_2ndSem/blob/main/Assignment_5.ipynb\" target=\"_parent\"><img src=\"https://colab.research.google.com/assets/colab-badge.svg\" alt=\"Open In Colab\"/></a>"
      ]
    },
    {
      "cell_type": "markdown",
      "source": [
        "#Laboratory 6 : Matrix Operations\n"
      ],
      "metadata": {
        "id": "yY6BczA4D2-U"
      }
    },
    {
      "cell_type": "markdown",
      "source": [
        "### Objectives\n",
        "In the previous laboratory activity, the students have learned and applied the basic principles, and techniques of using Python in creating and representing matrices. However, this laboratory activity focuses on the application of other matrix operations in Python such as the transposition, dot product, determinant, and inverse matrix operations. Through this activity, the students will be able to learn the application of various matrix operations in programming together with its basic operations and techniques. Upon learning its applications, the students will be able to apply their knowledge in translating matrix operations and properties using Python."
      ],
      "metadata": {
        "id": "69aKbw4yD93X"
      }
    },
    {
      "cell_type": "markdown",
      "source": [
        "#Discussion"
      ],
      "metadata": {
        "id": "s3CGjQT2ETSx"
      }
    },
    {
      "cell_type": "code",
      "source": [
        "import numpy as np\n",
        "import matplotlib.pyplot as plt\n",
        "%matplotlib inline"
      ],
      "metadata": {
        "id": "8B9dyZQ9Ec4Q"
      },
      "execution_count": null,
      "outputs": []
    },
    {
      "cell_type": "markdown",
      "source": [
        "- Numerical Python or \"numpy\" in short, supports a broad range of mathematical operations on arrays. It extends Python with sophisticated data formats that ensure fast array and matrix computations, as well as a vast library of elevated numerical methods that work on these matrices and arrays [1].\n",
        "- Matplotlib.pyplot is a set of algorithms that enable matplotlib to operate similarly to MATLAB. Each pyplot function modifies a figure in a certain way [2].\n",
        "\n"
      ],
      "metadata": {
        "id": "4AVukTFtEmpG"
      }
    },
    {
      "cell_type": "markdown",
      "source": [
        "#Transposition"
      ],
      "metadata": {
        "id": "MDXMEOPoE5_t"
      }
    },
    {
      "cell_type": "markdown",
      "source": [
        "This is known to transpose a matrix wherein the values in the row and column have interchange or switch positions through the codes \"np.transpose\" and \".T\". [4]"
      ],
      "metadata": {
        "id": "WfkRQdAkgWfD"
      }
    },
    {
      "cell_type": "markdown",
      "source": [
        "$$M = \\begin{bmatrix} 3 & 2 & 1&2\\\\8 &2 &3&1 \\\\ 1& -3 &-1& 3\\end{bmatrix}$$\n",
        "\n",
        "\n",
        "$$M^T = \\begin{bmatrix} 3 & 8 & 1\\\\2 & 2 &-3 \\\\ 1 & 3 & -1\\\\2&1&3\\end{bmatrix}$$\n"
      ],
      "metadata": {
        "id": "w8u4iSs1FFUc"
      }
    },
    {
      "cell_type": "code",
      "source": [
        "M = np.array([\n",
        "    [3 ,2, 1, 2],\n",
        "    [8, 2, 3,1],\n",
        "    [1, -3, -1,3]\n",
        "])\n",
        "M"
      ],
      "metadata": {
        "colab": {
          "base_uri": "https://localhost:8080/"
        },
        "id": "weWIOlS3FukU",
        "outputId": "be30f1b1-aeec-4ac8-83f5-95b9e904dc59"
      },
      "execution_count": null,
      "outputs": [
        {
          "output_type": "execute_result",
          "data": {
            "text/plain": [
              "array([[ 3,  2,  1,  2],\n",
              "       [ 8,  2,  3,  1],\n",
              "       [ 1, -3, -1,  3]])"
            ]
          },
          "metadata": {},
          "execution_count": 3
        }
      ]
    },
    {
      "cell_type": "code",
      "source": [
        "M_trans1 = np.transpose(M)\n",
        "M_trans1"
      ],
      "metadata": {
        "colab": {
          "base_uri": "https://localhost:8080/"
        },
        "id": "-IcrO8fxFzOk",
        "outputId": "7ec0e137-0443-44fd-c697-a37f8da31882"
      },
      "execution_count": null,
      "outputs": [
        {
          "output_type": "execute_result",
          "data": {
            "text/plain": [
              "array([[ 3,  8,  1],\n",
              "       [ 2,  2, -3],\n",
              "       [ 1,  3, -1],\n",
              "       [ 2,  1,  3]])"
            ]
          },
          "metadata": {},
          "execution_count": 6
        }
      ]
    },
    {
      "cell_type": "code",
      "source": [
        "M_trans2 = M.T\n",
        "M_trans2"
      ],
      "metadata": {
        "colab": {
          "base_uri": "https://localhost:8080/"
        },
        "id": "tv1ruA_yF6KU",
        "outputId": "9cffb4cf-1222-4a5a-844f-8142aa684cbd"
      },
      "execution_count": null,
      "outputs": [
        {
          "output_type": "execute_result",
          "data": {
            "text/plain": [
              "array([[ 3,  8,  1],\n",
              "       [ 2,  2, -3],\n",
              "       [ 1,  3, -1],\n",
              "       [ 2,  1,  3]])"
            ]
          },
          "metadata": {},
          "execution_count": 4
        }
      ]
    },
    {
      "cell_type": "code",
      "source": [
        "np.array_equiv(M_trans1, M_trans2)"
      ],
      "metadata": {
        "colab": {
          "base_uri": "https://localhost:8080/"
        },
        "id": "ez86imScGD4u",
        "outputId": "512b52e4-b2fb-47cf-bee5-7f9059984594"
      },
      "execution_count": null,
      "outputs": [
        {
          "output_type": "execute_result",
          "data": {
            "text/plain": [
              "True"
            ]
          },
          "metadata": {},
          "execution_count": 11
        }
      ]
    },
    {
      "cell_type": "code",
      "source": [
        "GP = np.array([\n",
        "   [ 3, 8, 1],\n",
        "   [ 2, 2, -3],\n",
        "   [ 1, 3, -1],\n",
        "    [ 2, 1, 3]\n",
        "])\n",
        "GP.shape"
      ],
      "metadata": {
        "colab": {
          "base_uri": "https://localhost:8080/"
        },
        "id": "GqFbJY1SGSGm",
        "outputId": "e9a2f6ba-6c2f-4380-f372-a59b2c1c4cc2"
      },
      "execution_count": null,
      "outputs": [
        {
          "output_type": "execute_result",
          "data": {
            "text/plain": [
              "(4, 3)"
            ]
          },
          "metadata": {},
          "execution_count": 11
        }
      ]
    },
    {
      "cell_type": "code",
      "source": [
        "np.transpose(GP).shape"
      ],
      "metadata": {
        "colab": {
          "base_uri": "https://localhost:8080/"
        },
        "id": "jhZxJdLlGTlI",
        "outputId": "56fbc31d-21cc-4de2-f0dd-b356423c5edd"
      },
      "execution_count": null,
      "outputs": [
        {
          "output_type": "execute_result",
          "data": {
            "text/plain": [
              "(3, 4)"
            ]
          },
          "metadata": {},
          "execution_count": 12
        }
      ]
    },
    {
      "cell_type": "code",
      "source": [
        "GP.T.shape"
      ],
      "metadata": {
        "colab": {
          "base_uri": "https://localhost:8080/"
        },
        "id": "tfOObLSuGZIb",
        "outputId": "fed61667-07dd-48b9-8374-d1bed3390b54"
      },
      "execution_count": null,
      "outputs": [
        {
          "output_type": "execute_result",
          "data": {
            "text/plain": [
              "(3, 4)"
            ]
          },
          "metadata": {},
          "execution_count": 13
        }
      ]
    },
    {
      "cell_type": "markdown",
      "source": [
        "  ### Try to create your own matrix (you can try non-squares) to test transposition."
      ],
      "metadata": {
        "id": "kFOI0iA5GdVS"
      }
    },
    {
      "cell_type": "code",
      "source": [
        "Z = np.array([\n",
        "    [35 ,2, 12, 20],\n",
        "    [10, 12, 3,21],\n",
        "    [11, -23, -1,31]\n",
        "])\n",
        "Z"
      ],
      "metadata": {
        "id": "mko92FD8GjcU",
        "colab": {
          "base_uri": "https://localhost:8080/"
        },
        "outputId": "2fbb7c3c-574a-421d-b135-3e2815497572"
      },
      "execution_count": null,
      "outputs": [
        {
          "output_type": "execute_result",
          "data": {
            "text/plain": [
              "array([[ 35,   2,  12,  20],\n",
              "       [ 10,  12,   3,  21],\n",
              "       [ 11, -23,  -1,  31]])"
            ]
          },
          "metadata": {},
          "execution_count": 28
        }
      ]
    },
    {
      "cell_type": "code",
      "source": [
        "Z_trans1 = np.transpose(Z)\n",
        "Z_trans1"
      ],
      "metadata": {
        "colab": {
          "base_uri": "https://localhost:8080/"
        },
        "id": "1AANCo-V-2Bd",
        "outputId": "f8e1ac24-44bd-4b72-8181-df9ed49faa24"
      },
      "execution_count": null,
      "outputs": [
        {
          "output_type": "execute_result",
          "data": {
            "text/plain": [
              "array([[ 35,  10,  11],\n",
              "       [  2,  12, -23],\n",
              "       [ 12,   3,  -1],\n",
              "       [ 20,  21,  31]])"
            ]
          },
          "metadata": {},
          "execution_count": 29
        }
      ]
    },
    {
      "cell_type": "code",
      "source": [
        "np.transpose(Z).shape"
      ],
      "metadata": {
        "id": "wrE09vH7GvAx",
        "colab": {
          "base_uri": "https://localhost:8080/"
        },
        "outputId": "81db6114-5303-4829-f4ba-2fae7217a8a6"
      },
      "execution_count": null,
      "outputs": [
        {
          "output_type": "execute_result",
          "data": {
            "text/plain": [
              "(4, 3)"
            ]
          },
          "metadata": {},
          "execution_count": 30
        }
      ]
    },
    {
      "cell_type": "code",
      "source": [
        "Z.T.shape"
      ],
      "metadata": {
        "colab": {
          "base_uri": "https://localhost:8080/"
        },
        "id": "_JXavIHj_DU-",
        "outputId": "de16d0a3-ef52-46a3-e360-e47e0e66dddf"
      },
      "execution_count": null,
      "outputs": [
        {
          "output_type": "execute_result",
          "data": {
            "text/plain": [
              "(4, 3)"
            ]
          },
          "metadata": {},
          "execution_count": 31
        }
      ]
    },
    {
      "cell_type": "markdown",
      "source": [
        "# Dot Product / Inner Product"
      ],
      "metadata": {
        "id": "9wC9ZtRjG8X0"
      }
    },
    {
      "cell_type": "markdown",
      "source": [
        "In this operation, the product of the two matrices is displayed using three different codes: np.dot(), np.matmul() and @ operator. The matrix dot product is more complicated than vector dot products due to the fact that there are rules to follow in the matrix dot product. [3]"
      ],
      "metadata": {
        "id": "HD2U5CYzHPA7"
      }
    },
    {
      "cell_type": "markdown",
      "source": [
        "So if we have two matrices $X$ and $Y$:\n",
        "$$X = \\begin{bmatrix}x_{(0,0)}&x_{(0,1)}\\\\ x_{(1,0)}&x_{(1,1)}\\end{bmatrix}, Y = \\begin{bmatrix}y_{(0,0)}&y_{(0,1)}\\\\ y_{(1,0)}&y_{(1,1)}\\end{bmatrix}$$\n",
        "\n",
        "The dot product will then be computed as:\n",
        "$$X \\cdot Y= \\begin{bmatrix} x_{(0,0)}*y_{(0,0)} + x_{(0,1)}*y_{(1,0)} & x_{(0,0)}*y_{(0,1)} + x_{(0,1)}*y_{(1,1)} \\\\  x_{(1,0)}*y_{(0,0)} + x_{(1,1)}*y_{(1,0)} & x_{(1,0)}*y_{(0,1)} + x_{(1,1)}*y_{(1,1)}\n",
        "\\end{bmatrix}$$\n",
        "\n",
        "So if we assign values to $X$ and $Y$:\n",
        "$$X = \\begin{bmatrix}1&2\\\\ 0&1\\end{bmatrix}, Y = \\begin{bmatrix}-1&0\\\\ 2&2\\end{bmatrix}$$\n",
        "\n",
        "$$X \\cdot Y= \\begin{bmatrix} 1*-1 + 2*2 & 1*0 + 2*2 \\\\  0*-1 + 1*2 & 0*0 + 1*2 \\end{bmatrix} = \\begin{bmatrix} 3 & 4 \\\\2 & 2 \\end{bmatrix}$$"
      ],
      "metadata": {
        "id": "QNXyHgivk-G1"
      }
    },
    {
      "cell_type": "code",
      "source": [
        "M = np.array([\n",
        "    [8,9,-1],\n",
        "    [3,2,2],\n",
        "    [5,2,3],\n",
        "    [9,3,1]\n",
        "])\n",
        "G = np.array([\n",
        "    [1,3,-2,3],\n",
        "    [12,8,1,7],\n",
        "    [3,3,3,3],\n",
        "   \n",
        "])"
      ],
      "metadata": {
        "id": "XzdQkOMoIS6G"
      },
      "execution_count": null,
      "outputs": []
    },
    {
      "cell_type": "code",
      "source": [
        "np.dot(M,G)"
      ],
      "metadata": {
        "colab": {
          "base_uri": "https://localhost:8080/"
        },
        "id": "5XsxRna_ITmE",
        "outputId": "de591766-d9d2-4743-d4de-77f206c6e0e3"
      },
      "execution_count": null,
      "outputs": [
        {
          "output_type": "execute_result",
          "data": {
            "text/plain": [
              "array([[113,  93, -10,  84],\n",
              "       [ 33,  31,   2,  29],\n",
              "       [ 38,  40,   1,  38],\n",
              "       [ 48,  54, -12,  51]])"
            ]
          },
          "metadata": {},
          "execution_count": 15
        }
      ]
    },
    {
      "cell_type": "code",
      "source": [
        "np.dot(G,M)"
      ],
      "metadata": {
        "colab": {
          "base_uri": "https://localhost:8080/"
        },
        "id": "ExLksMha-KNC",
        "outputId": "cbb6e99b-82e9-4034-e0d6-2333cd947434"
      },
      "execution_count": null,
      "outputs": [
        {
          "output_type": "execute_result",
          "data": {
            "text/plain": [
              "array([[ 34,  20,   2],\n",
              "       [188, 147,  14],\n",
              "       [ 75,  48,  15]])"
            ]
          },
          "metadata": {},
          "execution_count": 21
        }
      ]
    },
    {
      "cell_type": "code",
      "source": [
        "M.dot(G)"
      ],
      "metadata": {
        "colab": {
          "base_uri": "https://localhost:8080/"
        },
        "id": "GbxPhpsoIV_9",
        "outputId": "00fa4bf2-f8da-45c4-e66e-05cd3be4bbb3"
      },
      "execution_count": null,
      "outputs": [
        {
          "output_type": "execute_result",
          "data": {
            "text/plain": [
              "array([[113,  93, -10,  84],\n",
              "       [ 33,  31,   2,  29],\n",
              "       [ 38,  40,   1,  38],\n",
              "       [ 48,  54, -12,  51]])"
            ]
          },
          "metadata": {},
          "execution_count": 19
        }
      ]
    },
    {
      "cell_type": "code",
      "source": [
        "G.dot(M)"
      ],
      "metadata": {
        "colab": {
          "base_uri": "https://localhost:8080/"
        },
        "id": "01BxoOYj-OUb",
        "outputId": "4062fef7-8311-4d78-a1b0-9a5285c9c868"
      },
      "execution_count": null,
      "outputs": [
        {
          "output_type": "execute_result",
          "data": {
            "text/plain": [
              "array([[ 34,  20,   2],\n",
              "       [188, 147,  14],\n",
              "       [ 75,  48,  15]])"
            ]
          },
          "metadata": {},
          "execution_count": 22
        }
      ]
    },
    {
      "cell_type": "code",
      "source": [
        "M @ G"
      ],
      "metadata": {
        "colab": {
          "base_uri": "https://localhost:8080/"
        },
        "id": "S-IL5JsYIYQJ",
        "outputId": "0f9f0c03-1078-4543-fa15-24fec1053a22"
      },
      "execution_count": null,
      "outputs": [
        {
          "output_type": "execute_result",
          "data": {
            "text/plain": [
              "array([[113,  93, -10,  84],\n",
              "       [ 33,  31,   2,  29],\n",
              "       [ 38,  40,   1,  38],\n",
              "       [ 48,  54, -12,  51]])"
            ]
          },
          "metadata": {},
          "execution_count": 17
        }
      ]
    },
    {
      "cell_type": "code",
      "source": [
        "G @ M"
      ],
      "metadata": {
        "colab": {
          "base_uri": "https://localhost:8080/"
        },
        "id": "ZwONdsR9-TRx",
        "outputId": "3c910bb8-a146-42a8-b8a7-9e6f3c46aa59"
      },
      "execution_count": null,
      "outputs": [
        {
          "output_type": "execute_result",
          "data": {
            "text/plain": [
              "array([[ 34,  20,   2],\n",
              "       [188, 147,  14],\n",
              "       [ 75,  48,  15]])"
            ]
          },
          "metadata": {},
          "execution_count": 23
        }
      ]
    },
    {
      "cell_type": "code",
      "source": [
        "np.matmul(M,G)"
      ],
      "metadata": {
        "colab": {
          "base_uri": "https://localhost:8080/"
        },
        "id": "x3wbKgLrIaYZ",
        "outputId": "dc54c4c2-c8a2-492d-81fc-51c443eb772c"
      },
      "execution_count": null,
      "outputs": [
        {
          "output_type": "execute_result",
          "data": {
            "text/plain": [
              "array([[113,  93, -10,  84],\n",
              "       [ 33,  31,   2,  29],\n",
              "       [ 38,  40,   1,  38],\n",
              "       [ 48,  54, -12,  51]])"
            ]
          },
          "metadata": {},
          "execution_count": 24
        }
      ]
    },
    {
      "cell_type": "code",
      "source": [
        "np.matmul(G,M)"
      ],
      "metadata": {
        "colab": {
          "base_uri": "https://localhost:8080/"
        },
        "id": "of-kQCPE-W5S",
        "outputId": "c3724894-8674-4eef-cafd-e4103be7e50f"
      },
      "execution_count": null,
      "outputs": [
        {
          "output_type": "execute_result",
          "data": {
            "text/plain": [
              "array([[ 34,  20,   2],\n",
              "       [188, 147,  14],\n",
              "       [ 75,  48,  15]])"
            ]
          },
          "metadata": {},
          "execution_count": 27
        }
      ]
    },
    {
      "cell_type": "markdown",
      "source": [
        "\n",
        "### Rule 1: The inner dimensions of the two matrices in question must be the same. \n",
        "\n",
        "This pertains to the limitation of multiplying matrices, wherein the number of columns in the first matrix equals the number of rows in the second matrix. To further understand, the product of matrix $M$ and matrix $A$ can be shown since the shape of matrix $M$ is $(3,3)$ and matrix $A$ has a shape of $(3,4)$.\n",
        "\n",
        "$$M = \\begin{bmatrix}3&3&3\\\\1&-3&8\\\\9&7&13\\end{bmatrix}, A = \\begin{bmatrix}11&21&3&14\\\\7&8&-8&1\\\\9&-2&11&-10\\end{bmatrix}, T = \\begin{bmatrix}4&8&9\\\\4&3&1\\\\12&11&14\\\\-18&8&9\\end{bmatrix}$$\n",
        "\n",
        "So in this case $M$ has a shape of $(3,3)$, $A$ has a shape of $(3,4)$ and $T$ has a shape of $(4,3)$. So the only matrix pairs that is eligible to perform dot product is matrices $M \\cdot T$, or $A \\cdot T$.  "
      ],
      "metadata": {
        "id": "Twbzf7s4I0Ue"
      }
    },
    {
      "cell_type": "code",
      "source": [
        "M = np.array([\n",
        "    [3, 3, 3],\n",
        "    [5, 2, 2],\n",
        "    [1, 8, 12]\n",
        "])\n",
        "A = np.array([\n",
        "    [10, 20, 8, 9],\n",
        "    [7, 9,-8, 1],\n",
        "    [1, -2, 11, -1]\n",
        "])\n",
        "T = np.array([\n",
        "    [3, 2, 1.25],\n",
        "    [3, 2, 2.5],\n",
        "    [9, 1, 4],\n",
        "    [-3, 1, 2]\n",
        "])\n",
        "print(M.shape)\n",
        "print(A.shape)\n",
        "print(T.shape)"
      ],
      "metadata": {
        "colab": {
          "base_uri": "https://localhost:8080/"
        },
        "id": "WcJ9bEeiI3dQ",
        "outputId": "77ed005b-494a-4676-83b2-692df32bfd16"
      },
      "execution_count": null,
      "outputs": [
        {
          "output_type": "stream",
          "name": "stdout",
          "text": [
            "(3, 3)\n",
            "(3, 4)\n",
            "(4, 3)\n"
          ]
        }
      ]
    },
    {
      "cell_type": "code",
      "source": [
        "M @ A"
      ],
      "metadata": {
        "colab": {
          "base_uri": "https://localhost:8080/"
        },
        "id": "kZLwAeKuI-3l",
        "outputId": "05b552ec-df30-4b3f-c801-350c5421b1e8"
      },
      "execution_count": null,
      "outputs": [
        {
          "output_type": "execute_result",
          "data": {
            "text/plain": [
              "array([[ 54,  81,  33,  27],\n",
              "       [ 66, 114,  46,  45],\n",
              "       [ 78,  68,  76,   5]])"
            ]
          },
          "metadata": {},
          "execution_count": 48
        }
      ]
    },
    {
      "cell_type": "code",
      "source": [
        "T @ M"
      ],
      "metadata": {
        "colab": {
          "base_uri": "https://localhost:8080/"
        },
        "id": "yAKDoGYXI_Cs",
        "outputId": "eca67d47-3aa4-470e-9aed-422c4cbcd57a"
      },
      "execution_count": null,
      "outputs": [
        {
          "output_type": "execute_result",
          "data": {
            "text/plain": [
              "array([[20.25, 23.  , 28.  ],\n",
              "       [21.5 , 33.  , 43.  ],\n",
              "       [36.  , 61.  , 77.  ],\n",
              "       [-2.  ,  9.  , 17.  ]])"
            ]
          },
          "metadata": {},
          "execution_count": 41
        }
      ]
    },
    {
      "cell_type": "code",
      "source": [
        "M @ T.T"
      ],
      "metadata": {
        "colab": {
          "base_uri": "https://localhost:8080/"
        },
        "id": "19ZZtR_9JK1t",
        "outputId": "881d2180-aa4f-4898-9d6a-3a29b51e0bda"
      },
      "execution_count": null,
      "outputs": [
        {
          "output_type": "execute_result",
          "data": {
            "text/plain": [
              "array([[18.75, 22.5 , 42.  ,  0.  ],\n",
              "       [21.5 , 24.  , 55.  , -9.  ],\n",
              "       [34.  , 49.  , 65.  , 29.  ]])"
            ]
          },
          "metadata": {},
          "execution_count": 50
        }
      ]
    },
    {
      "cell_type": "code",
      "source": [
        "G = np.array([\n",
        "    [1.25,2,3,0]\n",
        "])\n",
        "Y = np.array([\n",
        "    [2,0,1,-11]\n",
        "])\n",
        "print(G.shape)\n",
        "print(Y.shape)"
      ],
      "metadata": {
        "colab": {
          "base_uri": "https://localhost:8080/"
        },
        "id": "_JMqPKnVJNND",
        "outputId": "828cbb79-dde2-4e2d-920f-3043e5bb25c6"
      },
      "execution_count": null,
      "outputs": [
        {
          "output_type": "stream",
          "name": "stdout",
          "text": [
            "(1, 4)\n",
            "(1, 4)\n"
          ]
        }
      ]
    },
    {
      "cell_type": "code",
      "source": [
        "Y.T @ G"
      ],
      "metadata": {
        "colab": {
          "base_uri": "https://localhost:8080/"
        },
        "id": "tuCTqUckJP8L",
        "outputId": "d2808d0a-83c0-4e81-df74-481aa83303d7"
      },
      "execution_count": null,
      "outputs": [
        {
          "output_type": "execute_result",
          "data": {
            "text/plain": [
              "array([[ 1,  2,  3,  0],\n",
              "       [ 0,  0,  0,  0],\n",
              "       [ 4,  8, 12,  0],\n",
              "       [-1, -2, -3,  0]])"
            ]
          },
          "metadata": {},
          "execution_count": 30
        }
      ]
    },
    {
      "cell_type": "markdown",
      "source": [
        "### Rule 2: Dot Product has special properties\n",
        "\n",
        "It was known that during the formulation of solutions in Dot Product, there are various distinct properties supposed to be recognized and taken into account.\n",
        " 1. $M \\cdot Z \\neq Z \\cdot M$\n",
        " 2. $M \\cdot (Z \\cdot W) = (M \\cdot Z) \\cdot W$\n",
        " 3. $M\\cdot(Z+W) = M\\cdot Z + M\\cdot W$\n",
        " 4. $(Z+W)\\cdot M = Z\\cdot M + W\\cdot M$\n",
        " 5. $M\\cdot I = GM$\n",
        " 6. $M\\cdot \\emptyset = \\emptyset$"
      ],
      "metadata": {
        "id": "HVNDrpa2JdrO"
      }
    },
    {
      "cell_type": "code",
      "source": [
        "M = np.array([\n",
        "    [14,11,4,7,8],\n",
        "    [11,23,-5,8,-9],\n",
        "    [11,-9,7,3,0],\n",
        "    [3,-6,0,1,2],\n",
        "    [4,-1,12,2,14]\n",
        "])\n",
        "Z = np.array([\n",
        "    [30,2,20,9,3],\n",
        "    [17,8,-8,1,20],\n",
        "    [9,-2,11,-10,1],\n",
        "    [8,0,-1,3,-1],\n",
        "    [17,10,1,-3,4]\n",
        "])\n",
        "W = np.array([\n",
        "    [-12,8,17,3,4],\n",
        "    [1,3,3,3,10],\n",
        "    [0,19,11,14,-3],\n",
        "    [-3,8,12,4,10],\n",
        "    [1,3,-4,7,-6],\n",
        "])"
      ],
      "metadata": {
        "id": "sfyYkFA2JuIn"
      },
      "execution_count": 29,
      "outputs": []
    },
    {
      "cell_type": "code",
      "source": [
        "np.array_equal(M@Z, Z@M)"
      ],
      "metadata": {
        "colab": {
          "base_uri": "https://localhost:8080/"
        },
        "id": "V2bSzoalJvfp",
        "outputId": "68afc62b-ebb3-4cfc-bf45-c624b122b417"
      },
      "execution_count": 30,
      "outputs": [
        {
          "output_type": "execute_result",
          "data": {
            "text/plain": [
              "False"
            ]
          },
          "metadata": {},
          "execution_count": 30
        }
      ]
    },
    {
      "cell_type": "code",
      "source": [
        "np.array_equal(M@(Z@W),(M@Z)@W)"
      ],
      "metadata": {
        "colab": {
          "base_uri": "https://localhost:8080/"
        },
        "id": "5M4LCittpTpS",
        "outputId": "c266efcc-a7af-4753-fdea-4cff3bf2403b"
      },
      "execution_count": 31,
      "outputs": [
        {
          "output_type": "execute_result",
          "data": {
            "text/plain": [
              "True"
            ]
          },
          "metadata": {},
          "execution_count": 31
        }
      ]
    },
    {
      "cell_type": "code",
      "source": [
        "O = Z + W\n",
        "O"
      ],
      "metadata": {
        "colab": {
          "base_uri": "https://localhost:8080/"
        },
        "id": "oPuBPAUypWqz",
        "outputId": "ffedad9d-38cd-420f-edd6-42e14a7e7aa5"
      },
      "execution_count": 39,
      "outputs": [
        {
          "output_type": "execute_result",
          "data": {
            "text/plain": [
              "array([[18, 10, 37, 12,  7],\n",
              "       [18, 11, -5,  4, 30],\n",
              "       [ 9, 17, 22,  4, -2],\n",
              "       [ 5,  8, 11,  7,  9],\n",
              "       [18, 13, -3,  4, -2]])"
            ]
          },
          "metadata": {},
          "execution_count": 39
        }
      ]
    },
    {
      "cell_type": "code",
      "source": [
        "P = (Z@M) + (W@M)\n",
        "P"
      ],
      "metadata": {
        "colab": {
          "base_uri": "https://localhost:8080/"
        },
        "id": "zkQwvXwTJxME",
        "outputId": "cb98699f-c319-455a-eb7a-6bc45513482a"
      },
      "execution_count": 33,
      "outputs": [
        {
          "output_type": "execute_result",
          "data": {
            "text/plain": [
              "array([[ 833,   16,  365,  343,  176],\n",
              "       [ 450,  442,  342,  263,  473],\n",
              "       [ 559,  270,   81,  265, -101],\n",
              "       [ 336,   89,  165,  157,  108],\n",
              "       [ 366,  502,  -38,  221,    7]])"
            ]
          },
          "metadata": {},
          "execution_count": 33
        }
      ]
    },
    {
      "cell_type": "code",
      "source": [
        "np.array_equal(O@M, P)"
      ],
      "metadata": {
        "colab": {
          "base_uri": "https://localhost:8080/"
        },
        "id": "S6sc7wO5NV_L",
        "outputId": "888c30d3-d8ff-4d0a-cf3b-9ebac6896aad"
      },
      "execution_count": 40,
      "outputs": [
        {
          "output_type": "execute_result",
          "data": {
            "text/plain": [
              "True"
            ]
          },
          "metadata": {},
          "execution_count": 40
        }
      ]
    },
    {
      "cell_type": "code",
      "source": [
        "Q = np.eye(5)\n",
        "Q"
      ],
      "metadata": {
        "colab": {
          "base_uri": "https://localhost:8080/"
        },
        "id": "ssq7bINuNq8V",
        "outputId": "dddbcd4e-010a-4c0e-c252-109ed1eaebaa"
      },
      "execution_count": 24,
      "outputs": [
        {
          "output_type": "execute_result",
          "data": {
            "text/plain": [
              "array([[1., 0., 0., 0., 0.],\n",
              "       [0., 1., 0., 0., 0.],\n",
              "       [0., 0., 1., 0., 0.],\n",
              "       [0., 0., 0., 1., 0.],\n",
              "       [0., 0., 0., 0., 1.]])"
            ]
          },
          "metadata": {},
          "execution_count": 24
        }
      ]
    },
    {
      "cell_type": "code",
      "source": [
        "np.array_equal(M@Q, M)"
      ],
      "metadata": {
        "colab": {
          "base_uri": "https://localhost:8080/"
        },
        "id": "m-1qFb-Fpx_6",
        "outputId": "a397e4cb-3437-4def-fdd9-284b6cfb31f0"
      },
      "execution_count": 41,
      "outputs": [
        {
          "output_type": "execute_result",
          "data": {
            "text/plain": [
              "True"
            ]
          },
          "metadata": {},
          "execution_count": 41
        }
      ]
    },
    {
      "cell_type": "code",
      "source": [
        "V = M.dot(np.zeros(M.shape))\n",
        "V"
      ],
      "metadata": {
        "colab": {
          "base_uri": "https://localhost:8080/"
        },
        "id": "wiJTG15Gp_1k",
        "outputId": "04d9233c-cad0-4618-9cda-0da598a0ed81"
      },
      "execution_count": 45,
      "outputs": [
        {
          "output_type": "execute_result",
          "data": {
            "text/plain": [
              "array([[0., 0., 0., 0., 0.],\n",
              "       [0., 0., 0., 0., 0.],\n",
              "       [0., 0., 0., 0., 0.],\n",
              "       [0., 0., 0., 0., 0.],\n",
              "       [0., 0., 0., 0., 0.]])"
            ]
          },
          "metadata": {},
          "execution_count": 45
        }
      ]
    },
    {
      "cell_type": "code",
      "source": [
        "C = np.zeros(M.shape)\n",
        "C"
      ],
      "metadata": {
        "colab": {
          "base_uri": "https://localhost:8080/"
        },
        "id": "EQgncgR8P6xO",
        "outputId": "0bf7d8d3-df2d-4039-9d83-0c6fe5c3661c"
      },
      "execution_count": 44,
      "outputs": [
        {
          "output_type": "execute_result",
          "data": {
            "text/plain": [
              "array([[0., 0., 0., 0., 0.],\n",
              "       [0., 0., 0., 0., 0.],\n",
              "       [0., 0., 0., 0., 0.],\n",
              "       [0., 0., 0., 0., 0.],\n",
              "       [0., 0., 0., 0., 0.]])"
            ]
          },
          "metadata": {},
          "execution_count": 44
        }
      ]
    },
    {
      "cell_type": "code",
      "source": [
        "np.array_equal(V,C)"
      ],
      "metadata": {
        "colab": {
          "base_uri": "https://localhost:8080/"
        },
        "id": "JWdZWKwtPSjt",
        "outputId": "05160694-8f16-4c86-e997-08640255aee5"
      },
      "execution_count": 46,
      "outputs": [
        {
          "output_type": "execute_result",
          "data": {
            "text/plain": [
              "True"
            ]
          },
          "metadata": {},
          "execution_count": 46
        }
      ]
    },
    {
      "cell_type": "code",
      "source": [
        "z_mat = np.zeros(M.shape)\n",
        "z_mat"
      ],
      "metadata": {
        "colab": {
          "base_uri": "https://localhost:8080/"
        },
        "id": "lNBmqbyDHByo",
        "outputId": "44a94fe5-d529-45cc-e66c-e485e262bfa2"
      },
      "execution_count": null,
      "outputs": [
        {
          "output_type": "execute_result",
          "data": {
            "text/plain": [
              "array([[0., 0., 0., 0., 0.],\n",
              "       [0., 0., 0., 0., 0.],\n",
              "       [0., 0., 0., 0., 0.],\n",
              "       [0., 0., 0., 0., 0.],\n",
              "       [0., 0., 0., 0., 0.]])"
            ]
          },
          "metadata": {},
          "execution_count": 107
        }
      ]
    },
    {
      "cell_type": "code",
      "source": [
        "m_dot_z = M.dot(np.zeros(M.shape))\n",
        "m_dot_z"
      ],
      "metadata": {
        "colab": {
          "base_uri": "https://localhost:8080/"
        },
        "id": "dTrR8AiPHD1g",
        "outputId": "0df534bd-5b15-44a4-b70a-455587d09e64"
      },
      "execution_count": 49,
      "outputs": [
        {
          "output_type": "execute_result",
          "data": {
            "text/plain": [
              "array([[0., 0., 0., 0., 0.],\n",
              "       [0., 0., 0., 0., 0.],\n",
              "       [0., 0., 0., 0., 0.],\n",
              "       [0., 0., 0., 0., 0.],\n",
              "       [0., 0., 0., 0., 0.]])"
            ]
          },
          "metadata": {},
          "execution_count": 49
        }
      ]
    },
    {
      "cell_type": "code",
      "source": [
        "np.array_equal(m_dot_z,z_mat)"
      ],
      "metadata": {
        "colab": {
          "base_uri": "https://localhost:8080/"
        },
        "id": "8Fi2WvumHF8Z",
        "outputId": "4b6b02a2-f795-448c-e333-2de281981359"
      },
      "execution_count": 51,
      "outputs": [
        {
          "output_type": "execute_result",
          "data": {
            "text/plain": [
              "True"
            ]
          },
          "metadata": {},
          "execution_count": 51
        }
      ]
    },
    {
      "cell_type": "code",
      "source": [
        "null_mat = np.empty(M.shape, dtype=float)\n",
        "null = np.array(null_mat,dtype=float)\n",
        "print(null)\n",
        "np.allclose(m_dot_z,null)"
      ],
      "metadata": {
        "colab": {
          "base_uri": "https://localhost:8080/"
        },
        "id": "isUrEzMbHH64",
        "outputId": "af036d03-8d23-4a03-c97e-688474661385"
      },
      "execution_count": 53,
      "outputs": [
        {
          "output_type": "stream",
          "name": "stdout",
          "text": [
            "[[0. 0. 0. 0. 0.]\n",
            " [0. 0. 0. 0. 0.]\n",
            " [0. 0. 0. 0. 0.]\n",
            " [0. 0. 0. 0. 0.]\n",
            " [0. 0. 0. 0. 0.]]\n"
          ]
        },
        {
          "output_type": "execute_result",
          "data": {
            "text/plain": [
              "True"
            ]
          },
          "metadata": {},
          "execution_count": 53
        }
      ]
    },
    {
      "cell_type": "markdown",
      "source": [
        "#Determinant"
      ],
      "metadata": {
        "id": "vFPVP43TLtaJ"
      }
    },
    {
      "cell_type": "markdown",
      "source": [
        "The determinant of some matrix $A$ is denoted as $det(A)$ or $|A|$. So let's say $A$ is represented as:\n",
        "$$A = \\begin{bmatrix}a_{(0,0)}&a_{(0,1)}\\\\a_{(1,0)}&a_{(1,1)}\\end{bmatrix}$$\n",
        "We can compute for the determinant as:\n",
        "$$|A| = a_{(0,0)}*a_{(1,1)} - a_{(1,0)}*a_{(0,1)}$$\n",
        "So if we have $A$ as:\n",
        "$$A = \\begin{bmatrix}1&4\\\\0&3\\end{bmatrix}, |A| = 3$$\n",
        "\n",
        "In getting the determinant of a matrix, the code used is \"np.linalg.det()\", especially when the matrix has a shape of more than $(2,2)$. It is only applicable in square matrices. [5]"
      ],
      "metadata": {
        "id": "UdkxT41eLq_c"
      }
    },
    {
      "cell_type": "code",
      "source": [
        "O = np.array([\n",
        "    [7,6,3],\n",
        "    [8,2,1],\n",
        "    [11,2,3]\n",
        "])\n",
        "np.linalg.det(O)"
      ],
      "metadata": {
        "colab": {
          "base_uri": "https://localhost:8080/"
        },
        "id": "WyA5zZRpL7MS",
        "outputId": "b8402e5b-1ead-4dae-b402-cfd3eede459e"
      },
      "execution_count": null,
      "outputs": [
        {
          "output_type": "execute_result",
          "data": {
            "text/plain": [
              "-68.00000000000001"
            ]
          },
          "metadata": {},
          "execution_count": 58
        }
      ]
    },
    {
      "cell_type": "code",
      "source": [
        "Z = np.array([\n",
        "    [3,7,8,11],\n",
        "    [9,1,2,4],\n",
        "    [6,2,20,4],\n",
        "    [0.25,6,17,12]\n",
        "])\n",
        "np.linalg.det(Z)"
      ],
      "metadata": {
        "colab": {
          "base_uri": "https://localhost:8080/"
        },
        "id": "lliRd_kQMH7I",
        "outputId": "5c4bf5aa-eb75-47c8-bfb9-4ce8c5f86a4f"
      },
      "execution_count": null,
      "outputs": [
        {
          "output_type": "execute_result",
          "data": {
            "text/plain": [
              "-3706.000000000003"
            ]
          },
          "metadata": {},
          "execution_count": 60
        }
      ]
    },
    {
      "cell_type": "markdown",
      "source": [
        "#Inverse"
      ],
      "metadata": {
        "id": "dsy5TgTERRYC"
      }
    },
    {
      "cell_type": "markdown",
      "source": [
        "This matrix operation involves steps when doing or solving it manually, but it can be easily done with python programming. The code for the inverse of a matrix is \"np.linalg.inv()\" and it can also use for matrices with a higher dimension. The expected outcome of the inverse of a matrix is an identity matrix when multiplied by the original matrix. [6]"
      ],
      "metadata": {
        "id": "rtIBDt18RTpd"
      }
    },
    {
      "cell_type": "code",
      "source": [
        "W = np.array([\n",
        "    [3,9,14],\n",
        "    [4,3,11],\n",
        "    [0,3,2]\n",
        "])\n",
        "\n",
        "np.array(W @ np.linalg.inv(W), dtype=int)"
      ],
      "metadata": {
        "colab": {
          "base_uri": "https://localhost:8080/"
        },
        "id": "hsQnPlJQRT_g",
        "outputId": "a7ea759a-a77b-41a0-8dc2-a27afc38cf9e"
      },
      "execution_count": null,
      "outputs": [
        {
          "output_type": "execute_result",
          "data": {
            "text/plain": [
              "array([[1, 0, 0],\n",
              "       [0, 1, 0],\n",
              "       [0, 0, 1]])"
            ]
          },
          "metadata": {},
          "execution_count": 5
        }
      ]
    },
    {
      "cell_type": "code",
      "source": [
        "Y = np.array([\n",
        "    [8,16,3,18],\n",
        "    [6,8,-3,14],\n",
        "    [20,-3,2,2],\n",
        "    [1,8,3,5]\n",
        "])\n",
        "Y_inv = np.linalg.inv(Y)\n",
        "np.array(Y @ Y_inv,dtype=int)"
      ],
      "metadata": {
        "colab": {
          "base_uri": "https://localhost:8080/"
        },
        "id": "baqrbDxxRVT2",
        "outputId": "d0078aac-3203-407e-c996-3e24070f288d"
      },
      "execution_count": null,
      "outputs": [
        {
          "output_type": "execute_result",
          "data": {
            "text/plain": [
              "array([[0, 0, 0, 0],\n",
              "       [0, 1, 0, 0],\n",
              "       [0, 0, 1, 0],\n",
              "       [0, 0, 0, 0]])"
            ]
          },
          "metadata": {},
          "execution_count": 6
        }
      ]
    },
    {
      "cell_type": "code",
      "source": [
        "Y = np.array([\n",
        "    [8,16,3,18],\n",
        "    [6,8,-3,14],\n",
        "    [20,-3,2,2],\n",
        "    [1,8,3,5]\n",
        "])\n",
        "N = np.linalg.inv(Y)\n",
        "N"
      ],
      "metadata": {
        "colab": {
          "base_uri": "https://localhost:8080/"
        },
        "id": "9aTSI4B5LSuL",
        "outputId": "979ee521-a598-406c-e569-12d301f78674"
      },
      "execution_count": null,
      "outputs": [
        {
          "output_type": "execute_result",
          "data": {
            "text/plain": [
              "array([[-0.16969447,  0.1209744 ,  0.06936416,  0.24442609],\n",
              "       [-0.46655656,  0.32287366,  0.05202312,  0.75474814],\n",
              "       [ 0.54170107, -0.46160198, -0.04624277, -0.63914121],\n",
              "       [ 0.45540875, -0.26383154, -0.06936416, -0.67299752]])"
            ]
          },
          "metadata": {},
          "execution_count": 9
        }
      ]
    },
    {
      "cell_type": "code",
      "source": [
        "Y @ N"
      ],
      "metadata": {
        "colab": {
          "base_uri": "https://localhost:8080/"
        },
        "id": "aaPmyB79LFWf",
        "outputId": "df59436f-1f72-4771-8814-a8c9d8b640ae"
      },
      "execution_count": null,
      "outputs": [
        {
          "output_type": "execute_result",
          "data": {
            "text/plain": [
              "array([[ 1.00000000e+00,  7.77156117e-16,  0.00000000e+00,\n",
              "        -8.88178420e-16],\n",
              "       [ 2.22044605e-16,  1.00000000e+00,  0.00000000e+00,\n",
              "        -8.88178420e-16],\n",
              "       [ 0.00000000e+00,  0.00000000e+00,  1.00000000e+00,\n",
              "         2.22044605e-16],\n",
              "       [ 3.33066907e-16, -5.55111512e-17, -5.55111512e-17,\n",
              "         1.00000000e+00]])"
            ]
          },
          "metadata": {},
          "execution_count": 12
        }
      ]
    },
    {
      "cell_type": "code",
      "source": [
        "L = np.array([\n",
        "    [17,3,-9,8,1,4,0,1],\n",
        "    [2,8,11,32,0,0,-4,1],\n",
        "    [17,2,-2,3,-4,18,25,9],\n",
        "    [1,-15,22,-8,10,11,34,3],\n",
        "    [-19,-4,-16,7,12,20,38,21],\n",
        "    [10,3,10,2,1,0,19,0],\n",
        "    [-8,3,25,37,0,15,2,4],\n",
        "    [9,8,7,6,-2,-6,7,9],\n",
        "])\n",
        "L_inv = np.linalg.inv(L)\n",
        "np.array(L @ L_inv,dtype=int)"
      ],
      "metadata": {
        "colab": {
          "base_uri": "https://localhost:8080/"
        },
        "id": "nh-iTnIIMQ3F",
        "outputId": "9b97317a-5db5-4e57-a3a7-a8f84c4a6140"
      },
      "execution_count": null,
      "outputs": [
        {
          "output_type": "execute_result",
          "data": {
            "text/plain": [
              "array([[1, 0, 0, 0, 0, 0, 0, 0],\n",
              "       [0, 1, 0, 0, 0, 0, 0, 0],\n",
              "       [0, 0, 1, 0, 0, 0, 0, 0],\n",
              "       [0, 0, 0, 1, 0, 0, 0, 0],\n",
              "       [0, 0, 0, 0, 1, 0, 0, 0],\n",
              "       [0, 0, 0, 0, 0, 0, 0, 0],\n",
              "       [0, 0, 0, 0, 0, 0, 0, 0],\n",
              "       [0, 0, 0, 0, 0, 0, 0, 1]])"
            ]
          },
          "metadata": {},
          "execution_count": 14
        }
      ]
    },
    {
      "cell_type": "code",
      "source": [
        "squad = np.array([\n",
        "    [1.20, 1.55, 0.4],\n",
        "    [0.30, 0.25, 0.5],\n",
        "    [0.9, 1.3, 2.0]\n",
        "])\n",
        "weights = np.array([\n",
        "    [0.3, 0.3, 0.4]\n",
        "])\n",
        "p_grade = squad @ weights.T\n",
        "p_grade"
      ],
      "metadata": {
        "colab": {
          "base_uri": "https://localhost:8080/"
        },
        "id": "0EGmzJYaRZSE",
        "outputId": "62174c98-1609-47f4-8c58-b7e4169f507d"
      },
      "execution_count": null,
      "outputs": [
        {
          "output_type": "execute_result",
          "data": {
            "text/plain": [
              "array([[0.985],\n",
              "       [0.365],\n",
              "       [1.46 ]])"
            ]
          },
          "metadata": {},
          "execution_count": 9
        }
      ]
    },
    {
      "cell_type": "markdown",
      "source": [
        "#Activity\n",
        "###Task 1\n",
        "Prove and implement the remaining 6 matrix multiplication properties. You may create your own matrices in which their shapes should not be lower than $(3,3)$. In your methodology, create individual flowcharts for each property and discuss the property you would then present your proofs or validity of your implementation in the results section by comparing your result to present functions from NumPy."
      ],
      "metadata": {
        "id": "0T6DcfSMRmCs"
      }
    },
    {
      "cell_type": "code",
      "source": [
        "G = np.array([\n",
        "    [4,1,14,7,8],\n",
        "    [11,23,-5,8,-9],\n",
        "    [18,-9,7,13,0],\n",
        "    [5,-6,0,1,2],\n",
        "    [4,-13,1,2,4]\n",
        "])\n",
        "H = np.array([\n",
        "    [0,2,0,9,3],\n",
        "    [7,8,-8,1,0],\n",
        "    [19,-32,11,-10,1],\n",
        "    [18,0,-1,3,-11],\n",
        "    [7,0,1,-3,4]\n",
        "])\n",
        "I = np.array([\n",
        "    [-2,3,7,3,4],\n",
        "    [1,4,4,4,0],\n",
        "    [0,19,11,14,-3],\n",
        "    [-13,1,2,4,0],\n",
        "    [1,0,-5,7,-6],\n",
        "])"
      ],
      "metadata": {
        "id": "mk8xiVIb5BxI"
      },
      "execution_count": null,
      "outputs": []
    },
    {
      "cell_type": "code",
      "source": [
        "#Test for Commutative Property of Multiplication\n",
        "A = G @ H\n",
        "B = H @ G\n",
        "print(f'G•H:\\n{A} \\n\\nH•G:\\n{B}\\n')\n",
        "print(\"--------------------------------------\")\n",
        "print(f'Commutative Property:{np.array_equal(A,B)}')"
      ],
      "metadata": {
        "colab": {
          "base_uri": "https://localhost:8080/"
        },
        "id": "3ZhiDBJAawMF",
        "outputId": "d57664a7-816d-4adf-fdb7-9bbd3a4f047c"
      },
      "execution_count": null,
      "outputs": [
        {
          "output_type": "stream",
          "name": "stdout",
          "text": [
            "G•H:\n",
            "[[ 455 -432  147 -106  -19]\n",
            " [ 147  366 -256  223  -96]\n",
            " [ 304 -260  136  122  -82]\n",
            " [ -10  -38   49   36   12]\n",
            " [  -8 -128  117    7    7]] \n",
            "\n",
            "H•G:\n",
            "[[  79  -47   -7   31   12]\n",
            " [ -23  257    2   10  -14]\n",
            " [-124 -769  504   12  424]\n",
            " [  25  152  234   94  106]\n",
            " [  47  -36  109   67   66]]\n",
            "\n",
            "--------------------------------------\n",
            "Commutative Property:False\n"
          ]
        }
      ]
    },
    {
      "cell_type": "code",
      "source": [
        "#Test for Associative Property of Multiplication\n",
        "C = H @ I\n",
        "D = G @ H\n",
        "E = G @ C\n",
        "F = D @ I\n",
        "print(f'H•I:\\n{C} \\n\\nG•H:\\n{D}\\n')\n",
        "print(f'G•(H•I):\\n{E} \\n\\n(G•H)•I:\\n{F}\\n')\n",
        "print(\"--------------------------------------\")\n",
        "print(f'Associative Property:{np.array_equal(E,F)}')"
      ],
      "metadata": {
        "colab": {
          "base_uri": "https://localhost:8080/"
        },
        "id": "sT5O7YW0a1N7",
        "outputId": "2812db00-9f2f-43db-fab3-afd0ec409469"
      },
      "execution_count": null,
      "outputs": [
        {
          "output_type": "stream",
          "name": "stdout",
          "text": [
            "H•I:\n",
            "[[-112   17   11   65  -18]\n",
            " [ -19  -98   -5  -55   52]\n",
            " [  61  128  101   50   37]\n",
            " [ -86   38  176  -25  141]\n",
            " [  29   37   34   51    1]] \n",
            "\n",
            "G•H:\n",
            "[[ 455 -432  147 -106  -19]\n",
            " [ 147  366 -256  223  -96]\n",
            " [ 304 -260  136  122  -82]\n",
            " [ -10  -38   49   36   12]\n",
            " [  -8 -128  117    7    7]]\n",
            "\n",
            "G•(H•I):\n",
            "[[   17  2324  2957  1138  1493]\n",
            " [-2923 -2736   603 -1459  1932]\n",
            " [-2536  2578  3238  1690  1300]\n",
            " [ -474   785   329   732  -259]\n",
            " [ -196  1694   698  1179  -425]] \n",
            "\n",
            "(G•H)•I:\n",
            "[[   17  2324  2957  1138  1493]\n",
            " [-2923 -2736   603 -1459  1932]\n",
            " [-2536  2578  3238  1690  1300]\n",
            " [ -474   785   329   732  -259]\n",
            " [ -196  1694   698  1179  -425]]\n",
            "\n",
            "--------------------------------------\n",
            "Associative Property:True\n"
          ]
        }
      ]
    },
    {
      "cell_type": "code",
      "source": [
        "#Test for Left-Side Distributive Property of Multiplication\n",
        "J = H + I\n",
        "K = G @ H\n",
        "L = G @ I\n",
        "M = G @ J\n",
        "N = K + L\n",
        "print(f'H+I:\\n{J} \\n\\nG•H:\\n{K}\\n \\n\\nG•I:\\n{L}\\n')\n",
        "print(f'G•(H+I):\\n{M} \\n\\nG•H+G•I:\\n{N}\\n')\n",
        "print(\"--------------------------------------\")\n",
        "print(f'Left Distributive Property:{np.array_equal(M,N)}')"
      ],
      "metadata": {
        "colab": {
          "base_uri": "https://localhost:8080/"
        },
        "id": "IwOAIVZ0a3e9",
        "outputId": "b92130cd-8646-4074-8299-76ffc5dbe948"
      },
      "execution_count": null,
      "outputs": [
        {
          "output_type": "stream",
          "name": "stdout",
          "text": [
            "H+I:\n",
            "[[ -2   5   7  12   7]\n",
            " [  8  12  -4   5   0]\n",
            " [ 19 -13  22   4  -2]\n",
            " [  5   1   1   7 -11]\n",
            " [  8   0  -4   4  -2]] \n",
            "\n",
            "G•H:\n",
            "[[ 455 -432  147 -106  -19]\n",
            " [ 147  366 -256  223  -96]\n",
            " [ 304 -260  136  122  -82]\n",
            " [ -10  -38   49   36   12]\n",
            " [  -8 -128  117    7    7]]\n",
            " \n",
            "\n",
            "G•I:\n",
            "[[ -90  289  160  296  -74]\n",
            " [-112   38  175   24  113]\n",
            " [-214  164  193  168   51]\n",
            " [ -27   -8    3    9    8]\n",
            " [ -43  -19  -29   10  -11]]\n",
            "\n",
            "G•(H+I):\n",
            "[[ 365 -143  307  190  -93]\n",
            " [  35  404  -81  247   17]\n",
            " [  90  -96  329  290  -31]\n",
            " [ -37  -46   52   45   20]\n",
            " [ -51 -147   88   17   -4]] \n",
            "\n",
            "G•H+G•I:\n",
            "[[ 365 -143  307  190  -93]\n",
            " [  35  404  -81  247   17]\n",
            " [  90  -96  329  290  -31]\n",
            " [ -37  -46   52   45   20]\n",
            " [ -51 -147   88   17   -4]]\n",
            "\n",
            "--------------------------------------\n",
            "Left Distributive Property:True\n"
          ]
        }
      ]
    },
    {
      "cell_type": "code",
      "source": [
        "#Test for Right-Side Distributive Property of Multiplication\n",
        "O = H + I\n",
        "P = H @ G\n",
        "Q = I @ G\n",
        "R = O @ G\n",
        "S = P + Q\n",
        "print(f'H+I:\\n{O} \\n\\nH•G:\\n{P}\\n \\n\\nI•G:\\n{Q}\\n')\n",
        "print(f'(H+I)•G:\\n{R} \\n\\nH•G+I•G:\\n{S}\\n')\n",
        "print(\"--------------------------------------\")\n",
        "print(f'Right Distributive Property:{np.array_equal(R,S)}')"
      ],
      "metadata": {
        "colab": {
          "base_uri": "https://localhost:8080/"
        },
        "id": "q_96L-QAa6Am",
        "outputId": "8af27d56-18a7-434f-e0d2-872babc98dff"
      },
      "execution_count": null,
      "outputs": [
        {
          "output_type": "stream",
          "name": "stdout",
          "text": [
            "H+I:\n",
            "[[ -2   5   7  12   7]\n",
            " [  8  12  -4   5   0]\n",
            " [ 19 -13  22   4  -2]\n",
            " [  5   1   1   7 -11]\n",
            " [  8   0  -4   4  -2]] \n",
            "\n",
            "H•G:\n",
            "[[  79  -47   -7   31   12]\n",
            " [ -23  257    2   10  -14]\n",
            " [-124 -769  504   12  424]\n",
            " [  25  152  234   94  106]\n",
            " [  47  -36  109   67   66]]\n",
            " \n",
            "\n",
            "I•G:\n",
            "[[ 182  -66   10  112  -21]\n",
            " [ 140   33   22   95  -20]\n",
            " [ 465  293  -21  303 -155]\n",
            " [  15  -32 -173  -53 -105]\n",
            " [ -75   82  -27  -63   -2]]\n",
            "\n",
            "(H+I)•G:\n",
            "[[ 261 -113    3  143   -9]\n",
            " [ 117  290   24  105  -34]\n",
            " [ 341 -476  483  315  269]\n",
            " [  40  120   61   41    1]\n",
            " [ -28   46   82    4   64]] \n",
            "\n",
            "H•G+I•G:\n",
            "[[ 261 -113    3  143   -9]\n",
            " [ 117  290   24  105  -34]\n",
            " [ 341 -476  483  315  269]\n",
            " [  40  120   61   41    1]\n",
            " [ -28   46   82    4   64]]\n",
            "\n",
            "--------------------------------------\n",
            "Right Distributive Property:True\n"
          ]
        }
      ]
    },
    {
      "cell_type": "code",
      "source": [
        "#Test for Multiplicative Identity Property\n",
        "T = np.eye(5)\n",
        "U = G @ T\n",
        "V = G\n",
        "print(f'G:\\n{V} \\n\\nG•I:\\n{U}\\n')\n",
        "print(\"--------------------------------------\")\n",
        "print(f'Multiplicative Identity Property:{np.array_equal(U,V)}')"
      ],
      "metadata": {
        "colab": {
          "base_uri": "https://localhost:8080/"
        },
        "id": "YYQcvRHZa8Bs",
        "outputId": "c5cc5f3c-76cd-49a9-b81e-e58b08394416"
      },
      "execution_count": null,
      "outputs": [
        {
          "output_type": "stream",
          "name": "stdout",
          "text": [
            "G:\n",
            "[[  4   1  14   7   8]\n",
            " [ 11  23  -5   8  -9]\n",
            " [ 18  -9   7  13   0]\n",
            " [  5  -6   0   1   2]\n",
            " [  4 -13   1   2   4]] \n",
            "\n",
            "G•I:\n",
            "[[  4.   1.  14.   7.   8.]\n",
            " [ 11.  23.  -5.   8.  -9.]\n",
            " [ 18.  -9.   7.  13.   0.]\n",
            " [  5.  -6.   0.   1.   2.]\n",
            " [  4. -13.   1.   2.   4.]]\n",
            "\n",
            "--------------------------------------\n",
            "Multiplicative Identity Property:True\n"
          ]
        }
      ]
    },
    {
      "cell_type": "code",
      "source": [
        "#Test for Multiplicative Property of Zero\n",
        "W = G\n",
        "X = np.zeros(G.shape)\n",
        "Y = W @ X\n",
        "print(f'G:\\n{W}\\n\\nG•0:\\n{Y}\\n')\n",
        "print(\"--------------------------------------\")\n",
        "print(f'Multiplicative Property of Zero:{np.array_equal(Y,X)}')"
      ],
      "metadata": {
        "colab": {
          "base_uri": "https://localhost:8080/"
        },
        "id": "4K8qjHaZa-KW",
        "outputId": "97ab0b8b-0d31-4add-87c6-3895efc4087f"
      },
      "execution_count": null,
      "outputs": [
        {
          "output_type": "stream",
          "name": "stdout",
          "text": [
            "G:\n",
            "[[  4   1  14   7   8]\n",
            " [ 11  23  -5   8  -9]\n",
            " [ 18  -9   7  13   0]\n",
            " [  5  -6   0   1   2]\n",
            " [  4 -13   1   2   4]]\n",
            "\n",
            "G•0:\n",
            "[[0. 0. 0. 0. 0.]\n",
            " [0. 0. 0. 0. 0.]\n",
            " [0. 0. 0. 0. 0.]\n",
            " [0. 0. 0. 0. 0.]\n",
            " [0. 0. 0. 0. 0.]]\n",
            "\n",
            "--------------------------------------\n",
            "Multiplicative Property of Zero:True\n"
          ]
        }
      ]
    },
    {
      "cell_type": "markdown",
      "source": [
        "## Conclusion"
      ],
      "metadata": {
        "id": "llD08ZYFbAbb"
      }
    },
    {
      "cell_type": "markdown",
      "source": [
        "Through using Google Colab again, the students were able to expand their knowledge and skills about the fundamental matrix operations. Applying those matrix operations in Python programming has further improved their understanding of the different operations and their importance in Linear Algebra. In addition, the matrix operations discussed were transposition, dot product/inner product that has two rules, determinant and inverse. Different codes were presented, and each of them has shown its unique functions in Python programming as well as translating matrix equations and operations. Moreover, other introduced codes displayed the same results to show that there are different ways of presenting the matrix operations. The shape of the matrices is also determined, and there are six properties proven in this laboratory report.\n",
        "\n",
        "On top of that, the application of these matrix operations in Python has helped the students assess their capabilities in solving manually, for it can serve as a checking tool for the acquired answers. It may be known that students can do these matrix operations manually, but with higher dimensions, Python programming is a huge help for solving it. Hence, in this laboratory report, Python programming had played a significant role wherein it simply displayed the results of the matrix operations easily and immediately.\n",
        "\n",
        "With regards to the real-life application of matrices, it is undeniable that there are a myriad of things that we have right now that apply concepts and principles of matrices. Matrices have many significant applications that have a great impact on the modern world.  The impact of matrices and their applications in the mathematical world is widespread because they serve as a foundation for many theories and practices. Various problems relating to science and technology could be solved through the application of matrices because matrices could be utilized to provide rapid approximations to more complex calculations. Matrices also play a vital role in scientific methods and research as they are utilized in plotting graphs, data analysis, and statistics. In relation to the field of health care, these scientific methods and researches are critical to the advancement and eradication of issues in the healthcare systems. It is undeniable that the healthcare industry handles a lot of systematic analysis and data wherein matrices could be a very useful tool to obtain a desirable solution."
      ],
      "metadata": {
        "id": "EsVN26FIbE67"
      }
    }
  ]
}