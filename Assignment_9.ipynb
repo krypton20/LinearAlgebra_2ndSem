{
  "nbformat": 4,
  "nbformat_minor": 0,
  "metadata": {
    "colab": {
      "name": "Assignment 9",
      "provenance": [],
      "collapsed_sections": [],
      "authorship_tag": "ABX9TyPfrTWCzWYbaWGhQ0Mfse32",
      "include_colab_link": true
    },
    "kernelspec": {
      "name": "python3",
      "display_name": "Python 3"
    },
    "language_info": {
      "name": "python"
    }
  },
  "cells": [
    {
      "cell_type": "markdown",
      "metadata": {
        "id": "view-in-github",
        "colab_type": "text"
      },
      "source": [
        "<a href=\"https://colab.research.google.com/github/krypton20/LinearAlgebra_2ndSem/blob/main/Assignment_9.ipynb\" target=\"_parent\"><img src=\"https://colab.research.google.com/assets/colab-badge.svg\" alt=\"Open In Colab\"/></a>"
      ]
    },
    {
      "cell_type": "markdown",
      "source": [
        "# Linear Algebra for ChE\n",
        "#Lab 2 - Plotting Vector using NumPy and MatPlotLib"
      ],
      "metadata": {
        "id": "uRMRpGQsYccn"
      }
    },
    {
      "cell_type": "markdown",
      "source": [
        "###Objectives"
      ],
      "metadata": {
        "id": "EJxrxjEb2oG8"
      }
    },
    {
      "cell_type": "markdown",
      "source": [
        "In the previous laboratory activity, the students have expanded their knowledge and skills about fundamental matrix operations. Applying those matrix operations in Python programming has further improved their understanding of the different operations and their importance in Linear Algebra. However, in this laboratory activity, it focuses on using Python programming to represent and visualize vectors. Using Python to represent vectors is somehow similar to representing matrices. Additionally, this laboratory activity will also focus on learning the python libraries for numerical and scientific programming as well as the different vector operations. "
      ],
      "metadata": {
        "id": "uyXu9-u-20x8"
      }
    },
    {
      "cell_type": "markdown",
      "source": [
        "#Discussion"
      ],
      "metadata": {
        "id": "JsBvWGbj21C6"
      }
    },
    {
      "cell_type": "code",
      "source": [
        "import numpy as np\n",
        "import matplotlib.pyplot as plt\n",
        "%matplotlib inline"
      ],
      "metadata": {
        "id": "7WGzfLQ0xw7B"
      },
      "execution_count": null,
      "outputs": []
    },
    {
      "cell_type": "markdown",
      "source": [
        "### NumPy\n",
        "NumPy, also known as Numerical Python, refers to a library containing multidimensional array objects and various functions for manipulating them. NumPy allows you to conduct mathematical and logical operations on arrays. [1] Jim Hugunin developed Numeric, the precursor of NumPy. Numarray, a package with some extra features, was also created. Travis Oliphant introduced the NumPy package in 2005 by combining the functionality of Numarray with Numeric. This open-source project has a large number of contributors. [2]\n"
      ],
      "metadata": {
        "id": "codudgqnbnms"
      }
    },
    {
      "cell_type": "markdown",
      "source": [
        "##NumPy\n",
        "NumPy or Numerical Python, is mainly used for matrix and vector operations. It is capable of declaring computing and representing matrices. Most Python scienitifc programming libraries uses NumPy as the basic code.\n",
        "\n",
        "###Representing Vectors\n",
        "Vectors can be presented with the use of importing the library NumPy as \"import numpy as np\" first before declaring the values of the vectors. The code used here is the \"np.array\" function.\n",
        "Now that you know how to represent vectors using their component and matrix form we can now hard-code them in Python. Let's say that you have the vectors:\n",
        "$$ N = -5\\hat{x} + 7\\hat{y}\\\\\n",
        "U = 16\\hat{x} - 9\\hat{y} + 2\\hat{z}\\\\\n",
        "M = 12\\hat{w} + 6\\hat{x} - 17\\hat{y} - 3\\hat{z}\\\\\n",
        "P = -9ax - 4ay + 13az \\\\\n",
        "Y = 5\\hat{i} - 10\\hat{j} + 8\\hat{k}$$\n",
        "In which it's matrix equivalent is:\n",
        "\n",
        "$$ N = \\begin{bmatrix} -5 \\\\ 7\\end{bmatrix} , U = \\begin{bmatrix} 16 \\\\ -9\\\\ 2\\end{bmatrix} , M = \\begin{bmatrix} 12 \\\\ 6 \\\\  -17 \\\\ -3\\end{bmatrix}, P = \\begin{bmatrix} -9 \\\\ -4 \\\\ 13\\end{bmatrix}, Y = \\begin{bmatrix} 5 \\\\ -10 \\\\  8 \\end{bmatrix},\n",
        "$$\n",
        "$$ N = \\begin{bmatrix} -5 & 7\\end{bmatrix} , U = \\begin{bmatrix} 16 & -9 & 2\\end{bmatrix} , M = \\begin{bmatrix} 12 & 6 & -17 & -3\\end{bmatrix} , P = \\begin{bmatrix} -9 & -4 & 13\\end{bmatrix}, Y = \\begin{bmatrix} 5 & -10 & 8\\end{bmatrix} \n",
        "$$"
      ],
      "metadata": {
        "id": "UWuxc16F29eg"
      }
    },
    {
      "cell_type": "markdown",
      "source": [
        "We can then start doing numpy code with this by:"
      ],
      "metadata": {
        "id": "eN66dD-McQZ_"
      }
    },
    {
      "cell_type": "code",
      "source": [
        "## Importing necessary libraries\n",
        "import numpy as np ## 'np' here is short-hand name of the library (numpy) or a nickname."
      ],
      "metadata": {
        "id": "x-E_375j3zoQ"
      },
      "execution_count": null,
      "outputs": []
    },
    {
      "cell_type": "code",
      "source": [
        "M = np.array([3,3,3])\n",
        "O = np.array([\n",
        "              [8,-9,12,11],\n",
        "              [11,23,17,12]\n",
        "])\n",
        "\n",
        "R = np.array([\n",
        "              [2,-3,1,1],\n",
        "              [10,3,11,2],\n",
        "              [9,-3,2,11],\n",
        "              [1,3,7,12]\n",
        "])\n",
        "A = np.array ([[3,1,7,6,8,11,2],\n",
        "              [-2,3,4,1,1,1,3],\n",
        "              [3,1,2,12,-3,4,2]])\n",
        "L = np.array([[11,-39,12],\n",
        "              [1,33,17]])\n",
        "\n",
        "print('*Vector M:')\n",
        "print(M)\n",
        "print('*Vector O:')\n",
        "print(O)\n",
        "print('*Vector R:')\n",
        "print(R)\n",
        "print('*Vector A:')\n",
        "print(A)\n",
        "print('*Vector L:')\n",
        "print(L)\n"
      ],
      "metadata": {
        "id": "rtxbAXcb31zq",
        "colab": {
          "base_uri": "https://localhost:8080/"
        },
        "outputId": "24b6772f-50d4-4fe7-ef97-7c5286947e59"
      },
      "execution_count": null,
      "outputs": [
        {
          "output_type": "stream",
          "name": "stdout",
          "text": [
            "*Vector M:\n",
            "[3 3 3]\n",
            "*Vector O:\n",
            "[[ 8 -9 12 11]\n",
            " [11 23 17 12]]\n",
            "*Vector R:\n",
            "[[ 2 -3  1  1]\n",
            " [10  3 11  2]\n",
            " [ 9 -3  2 11]\n",
            " [ 1  3  7 12]]\n",
            "*Vector A:\n",
            "[[ 3  1  7  6  8 11  2]\n",
            " [-2  3  4  1  1  1  3]\n",
            " [ 3  1  2 12 -3  4  2]]\n",
            "*Vector L:\n",
            "[[ 11 -39  12]\n",
            " [  1  33  17]]\n"
          ]
        }
      ]
    },
    {
      "cell_type": "markdown",
      "source": [
        "##Describing vectors in NumPy\n",
        "For the users to execute basic to complex operations using vectors, it is a must to define them first. Determining the shape, size, and dimensions of vectors is the primary approach to describing them. The code used to display them were \".shape,\" \".size,\" and \".ndim.\""
      ],
      "metadata": {
        "id": "RdDYUWAS38ws"
      }
    },
    {
      "cell_type": "code",
      "source": [
        "G = np.array([[3,1,7,6,8,11,2],\n",
        "              [-2,3,4,1,1,1,3],\n",
        "              [3,1,2,12,-3,4,2]])\n",
        "print ('Vector G_Shape')\n",
        "G.shape"
      ],
      "metadata": {
        "id": "nb9x6eoi4Jnx",
        "colab": {
          "base_uri": "https://localhost:8080/"
        },
        "outputId": "3728a970-ece5-4461-f508-d59e5cc880f0"
      },
      "execution_count": null,
      "outputs": [
        {
          "output_type": "stream",
          "name": "stdout",
          "text": [
            "Vector G_Shape\n"
          ]
        },
        {
          "output_type": "execute_result",
          "data": {
            "text/plain": [
              "(3, 7)"
            ]
          },
          "metadata": {},
          "execution_count": 43
        }
      ]
    },
    {
      "cell_type": "code",
      "source": [
        "print ('Vector G_Size')\n",
        "G.size"
      ],
      "metadata": {
        "colab": {
          "base_uri": "https://localhost:8080/"
        },
        "id": "InGlzuh0IKJ_",
        "outputId": "141efa6e-2db3-439a-eac9-ba5f019cb41f"
      },
      "execution_count": null,
      "outputs": [
        {
          "output_type": "stream",
          "name": "stdout",
          "text": [
            "Vector G_Size\n"
          ]
        },
        {
          "output_type": "execute_result",
          "data": {
            "text/plain": [
              "21"
            ]
          },
          "metadata": {},
          "execution_count": 41
        }
      ]
    },
    {
      "cell_type": "code",
      "source": [
        "print ('Vector G_Dimension')\n",
        "G.ndim"
      ],
      "metadata": {
        "id": "K9khJ3sR4O7H",
        "colab": {
          "base_uri": "https://localhost:8080/"
        },
        "outputId": "efc7b830-5bdf-4b64-892d-08f0a5cbdc8e"
      },
      "execution_count": null,
      "outputs": [
        {
          "output_type": "stream",
          "name": "stdout",
          "text": [
            "Vector G_Dimension\n"
          ]
        },
        {
          "output_type": "execute_result",
          "data": {
            "text/plain": [
              "2"
            ]
          },
          "metadata": {},
          "execution_count": 42
        }
      ]
    },
    {
      "cell_type": "markdown",
      "source": [
        "##Performing Operations with Vectors"
      ],
      "metadata": {
        "id": "8GokJm244h5t"
      }
    },
    {
      "cell_type": "markdown",
      "source": [
        "#### $Addition$\n",
        "\n",
        "In addition, two vectors are added and display the sum of them. The codes used were \"np.add\" and the \"+\" sign between the two vectors.\n",
        "\n",
        "#### $Subtraction$\n",
        "\n",
        "To perform this operation, the codes used were \"np.subtract\" and the \"-\" sign in the middle of the two vectors. This operation gives the difference between the two vectors.\n",
        "\n",
        "#### $Multiplication$\n",
        "\n",
        "This operation allows providing the product of two vectors. With the use of the codes \"np.multiply\" and \"*\" sign between the two vectors, they can be multiplied.\n",
        "\n",
        "#### $Division$\n",
        "\n",
        "Division is an operation that divides two vectors using the codes \"np.divide\" and \"/\" sign in the middle of the two vectors. This presents the quotient of two vectors.\n"
      ],
      "metadata": {
        "id": "z_qwmjaMcbVV"
      }
    },
    {
      "cell_type": "markdown",
      "source": [
        "##Addition\n"
      ],
      "metadata": {
        "id": "y8a8UxcX5MLR"
      }
    },
    {
      "cell_type": "markdown",
      "source": [
        "The addition rule is simple, the we just need to add the elements of the matrices according to their index. So in this case if we add vector  and vector  we will have a resulting vector:\n",
        "\n"
      ],
      "metadata": {
        "id": "sCb5dUit5a8b"
      }
    },
    {
      "cell_type": "code",
      "source": [
        "Y = np.array([[3,-3,3,1],\n",
        "              [0,1,3,9],\n",
        "              [3,3,7,11]])\n",
        "\n",
        "A = np.array([[2,2,2,2],\n",
        "              [1,0,4,10],\n",
        "              [4,14,17,21]])\n",
        "             "
      ],
      "metadata": {
        "id": "4G5w9QslSW4S"
      },
      "execution_count": null,
      "outputs": []
    },
    {
      "cell_type": "code",
      "source": [
        "Zf = np.add(Y,A)\n",
        "Zf"
      ],
      "metadata": {
        "id": "G4mpV3RH5rRP",
        "colab": {
          "base_uri": "https://localhost:8080/"
        },
        "outputId": "86cbc164-b805-4a02-e8c6-7ca00faa7ba6"
      },
      "execution_count": null,
      "outputs": [
        {
          "output_type": "execute_result",
          "data": {
            "text/plain": [
              "array([[ 5, -1,  5,  3],\n",
              "       [ 1,  1,  7, 19],\n",
              "       [ 7, 17, 24, 32]])"
            ]
          },
          "metadata": {},
          "execution_count": 64
        }
      ]
    },
    {
      "cell_type": "code",
      "source": [
        "Ufm = np.multiply(A,Y)\n",
        "Ufm"
      ],
      "metadata": {
        "id": "yppi7aHj5tsH",
        "colab": {
          "base_uri": "https://localhost:8080/"
        },
        "outputId": "49cb8559-c08d-4a5a-c7dc-6134c45d76d0"
      },
      "execution_count": null,
      "outputs": [
        {
          "output_type": "execute_result",
          "data": {
            "text/plain": [
              "array([[  6,  -6,   6,   2],\n",
              "       [  0,   0,  12,  90],\n",
              "       [ 12,  42, 119, 231]])"
            ]
          },
          "metadata": {},
          "execution_count": 66
        }
      ]
    },
    {
      "cell_type": "code",
      "source": [
        "Rf = np.subtract(Y,A)\n",
        "Rf"
      ],
      "metadata": {
        "colab": {
          "base_uri": "https://localhost:8080/"
        },
        "id": "nD_1IKWOVhQr",
        "outputId": "57a5e25f-9e1b-4f61-ee8a-752aa178e2e3"
      },
      "execution_count": null,
      "outputs": [
        {
          "output_type": "execute_result",
          "data": {
            "text/plain": [
              "array([[  1,  -5,   1,  -1],\n",
              "       [ -1,   1,  -1,  -1],\n",
              "       [ -1, -11, -10, -10]])"
            ]
          },
          "metadata": {},
          "execution_count": 71
        }
      ]
    },
    {
      "cell_type": "code",
      "source": [
        "Ze = A + Y   \n",
        "Ze"
      ],
      "metadata": {
        "id": "X9oXFgXN5sCV",
        "colab": {
          "base_uri": "https://localhost:8080/"
        },
        "outputId": "e4f28bcd-9e2b-4e59-a899-510d6add308b"
      },
      "execution_count": null,
      "outputs": [
        {
          "output_type": "execute_result",
          "data": {
            "text/plain": [
              "array([[ 5, -1,  5,  3],\n",
              "       [ 1,  1,  7, 19],\n",
              "       [ 7, 17, 24, 32]])"
            ]
          },
          "metadata": {},
          "execution_count": 65
        }
      ]
    },
    {
      "cell_type": "code",
      "source": [
        "Re = Y-A\n",
        "Re"
      ],
      "metadata": {
        "colab": {
          "base_uri": "https://localhost:8080/"
        },
        "id": "foeOEB7LVbke",
        "outputId": "a391d710-c479-4b24-a02c-074fed9444b3"
      },
      "execution_count": null,
      "outputs": [
        {
          "output_type": "execute_result",
          "data": {
            "text/plain": [
              "array([[  1,  -5,   1,  -1],\n",
              "       [ -1,   1,  -1,  -1],\n",
              "       [ -1, -11, -10, -10]])"
            ]
          },
          "metadata": {},
          "execution_count": 68
        }
      ]
    },
    {
      "cell_type": "code",
      "source": [
        "Ue = Y*A\n",
        "Ue"
      ],
      "metadata": {
        "id": "DzcZhlJuoP2I",
        "colab": {
          "base_uri": "https://localhost:8080/"
        },
        "outputId": "1f3c155d-ea29-4a63-af30-5b4ceb5cafdd"
      },
      "execution_count": null,
      "outputs": [
        {
          "output_type": "execute_result",
          "data": {
            "text/plain": [
              "array([[  6,  -6,   6,   2],\n",
              "       [  0,   0,  12,  90],\n",
              "       [ 12,  42, 119, 231]])"
            ]
          },
          "metadata": {},
          "execution_count": 67
        }
      ]
    },
    {
      "cell_type": "code",
      "source": [
        "position1 = np.array([[8,-9,2],\n",
        "                 [1,3,7]])\n",
        "position2 = np.array([[1,-3,2],\n",
        "                 [12,13,1]])\n",
        "position3 = np.array([[10,-1,2],\n",
        "                 [0,3,3]])\n",
        "position4 = np.array([[2,8,2],\n",
        "                 [8,3,9]])\n",
        "V = position1 + position2 + position3 + position4\n",
        "V"
      ],
      "metadata": {
        "id": "nSgOuLSAZBrD",
        "colab": {
          "base_uri": "https://localhost:8080/"
        },
        "outputId": "b6062cfc-5161-4971-b86e-20501a6f6b7b"
      },
      "execution_count": null,
      "outputs": [
        {
          "output_type": "execute_result",
          "data": {
            "text/plain": [
              "array([[21, -5,  8],\n",
              "       [21, 22, 20]])"
            ]
          },
          "metadata": {},
          "execution_count": 14
        }
      ]
    },
    {
      "cell_type": "code",
      "source": [
        "R = (position1-position3)+(position2*position4)\n",
        "R"
      ],
      "metadata": {
        "colab": {
          "base_uri": "https://localhost:8080/"
        },
        "id": "HyXnCXXQmodR",
        "outputId": "c9d5155e-b363-4ed5-91b3-4078f8928ad4"
      },
      "execution_count": null,
      "outputs": [
        {
          "output_type": "execute_result",
          "data": {
            "text/plain": [
              "array([[  0, -32,   4],\n",
              "       [ 97,  39,  13]])"
            ]
          },
          "metadata": {},
          "execution_count": 15
        }
      ]
    },
    {
      "cell_type": "code",
      "source": [
        "LR = (np.multiply(position3, position4))+position1\n",
        "LR"
      ],
      "metadata": {
        "colab": {
          "base_uri": "https://localhost:8080/"
        },
        "id": "IdWHSb6enQrr",
        "outputId": "eed1caee-6196-4f94-dd71-1bed3392038e"
      },
      "execution_count": null,
      "outputs": [
        {
          "output_type": "execute_result",
          "data": {
            "text/plain": [
              "array([[ 28, -17,   6],\n",
              "       [  1,  12,  34]])"
            ]
          },
          "metadata": {},
          "execution_count": 16
        }
      ]
    },
    {
      "cell_type": "markdown",
      "source": [
        "Try for yourself!\n",
        "Try to implement subtraction and division with vectors  and !"
      ],
      "metadata": {
        "id": "BhE7aClqojLv"
      }
    },
    {
      "cell_type": "code",
      "source": [
        "W = np.array([1, 1])\n",
        "T = np.array([-2, -3])\n",
        "# R3 = np.add(W,np.multiply(T,np.multiply(-1,W)))\n",
        "R3 = W + (T*(-1*W))\n",
        "R3"
      ],
      "metadata": {
        "id": "is8CkEuQoysE"
      },
      "execution_count": null,
      "outputs": []
    },
    {
      "cell_type": "markdown",
      "source": [
        "##Scaling"
      ],
      "metadata": {
        "id": "DkS-Xq2Eo9kp"
      }
    },
    {
      "cell_type": "markdown",
      "source": [
        "Scaling or scalar multiplication takes a scalar value and performs multiplication with a vector. Let's take the example below:\n",
        "                                           S = 5 \\cdot A"
      ],
      "metadata": {
        "id": "f2DWvc0_pAsB"
      }
    },
    {
      "cell_type": "code",
      "source": [
        "T = np.array([[3,-3,3,1],\n",
        "              [0,1,3,9],\n",
        "              [3,3,7,11]])\n",
        "\n",
        "O = np.array([[2,2,2,2],\n",
        "              [1,0,4,10],\n",
        "              [4,14,17,21]])"
      ],
      "metadata": {
        "id": "dIiPq-Qjs2mZ"
      },
      "execution_count": null,
      "outputs": []
    },
    {
      "cell_type": "code",
      "source": [
        "Scale_1 = 3/2 * O\n",
        "Scale_1"
      ],
      "metadata": {
        "id": "3wuNGGyBpSu2",
        "colab": {
          "base_uri": "https://localhost:8080/"
        },
        "outputId": "38ace363-77a6-4bc4-f710-9e7919a4baa7"
      },
      "execution_count": null,
      "outputs": [
        {
          "output_type": "execute_result",
          "data": {
            "text/plain": [
              "array([[ 3. ,  3. ,  3. ,  3. ],\n",
              "       [ 1.5,  0. ,  6. , 15. ],\n",
              "       [ 6. , 21. , 25.5, 31.5]])"
            ]
          },
          "metadata": {},
          "execution_count": 10
        }
      ]
    },
    {
      "cell_type": "code",
      "source": [
        "Scale_2 = 8.33 * T\n",
        "Scale_2"
      ],
      "metadata": {
        "colab": {
          "base_uri": "https://localhost:8080/"
        },
        "id": "-GOLkuX6vEa0",
        "outputId": "872ef870-1d3a-4f35-ae6c-eecf1cfe8d97"
      },
      "execution_count": null,
      "outputs": [
        {
          "output_type": "execute_result",
          "data": {
            "text/plain": [
              "array([[ 24.99, -24.99,  24.99,   8.33],\n",
              "       [  0.  ,   8.33,  24.99,  74.97],\n",
              "       [ 24.99,  24.99,  58.31,  91.63]])"
            ]
          },
          "metadata": {},
          "execution_count": 11
        }
      ]
    },
    {
      "cell_type": "code",
      "source": [
        "Scale_3 = np.multiply(3.33,O)\n",
        "Scale_3"
      ],
      "metadata": {
        "id": "7Xflqvq6pU-l",
        "colab": {
          "base_uri": "https://localhost:8080/"
        },
        "outputId": "045edbd6-f563-4b80-9840-71ce86758b23"
      },
      "execution_count": null,
      "outputs": [
        {
          "output_type": "execute_result",
          "data": {
            "text/plain": [
              "array([[ 6.66,  6.66,  6.66,  6.66],\n",
              "       [ 3.33,  0.  , 13.32, 33.3 ],\n",
              "       [13.32, 46.62, 56.61, 69.93]])"
            ]
          },
          "metadata": {},
          "execution_count": 14
        }
      ]
    },
    {
      "cell_type": "markdown",
      "source": [
        "R = 3X + Y\\\\X = \\hat{x} + \\hat{y} , Y = 2\\hat{x} - 3\\hat{y}"
      ],
      "metadata": {
        "id": "G57GDDDfpcgh"
      }
    },
    {
      "cell_type": "code",
      "source": [
        "X = np.array([1, 1])\n",
        "Y = np.array([2, -3])\n",
        "# R = np.add(np.multiply(3,X),Y) ## functional method\n",
        "R = 3*X + Y\n",
        "R"
      ],
      "metadata": {
        "id": "6aFcbtxgpeA7",
        "colab": {
          "base_uri": "https://localhost:8080/"
        },
        "outputId": "3a217f26-ddef-4cc4-c7a2-bd059ad4ad27"
      },
      "execution_count": null,
      "outputs": [
        {
          "output_type": "execute_result",
          "data": {
            "text/plain": [
              "array([5, 0])"
            ]
          },
          "metadata": {},
          "execution_count": 13
        }
      ]
    },
    {
      "cell_type": "markdown",
      "source": [
        "##MatPlotLib\n",
        "In python, it is a plotting library that allows producing static, animated, and interactive visualization. [6] Also defined as a multi-platform data visualization package based on NumPy arrays and intended to operate with the SciPy stack, first developed in 2002 by John Hunter. Matplotlib has a large number of plots. Plots aid in the understanding of trends, patterns, and relationships. Thus, it is often used to make decisions based on numerical data. [7] Figure 8 shows what to import first in MatPlotLib.\n",
        "\n",
        "###Visualizing Data\n",
        "One of the most significant advantages of visualization is that it provides access to visual/graphical to massive volumes of data in simply understandable graphics. Line, bar, scatter, histogram, and more graphs are available in Matplotlib. [7] In order to execute this, it is a must to import necessary programming libraries first."
      ],
      "metadata": {
        "id": "YYM6txr_pi9r"
      }
    },
    {
      "cell_type": "code",
      "source": [
        "import matplotlib.pyplot as plt  \n",
        "import matplotlib\n",
        "%matplotlib inline"
      ],
      "metadata": {
        "id": "nCQADGFfpqWR"
      },
      "execution_count": null,
      "outputs": []
    },
    {
      "cell_type": "code",
      "source": [
        "Point_1 = [2, 4]\n",
        "Point_2 = [-3, 1]\n",
        "Point_3 = [4, 7]\n",
        "Point_4 = [-9, 2]\n",
        "Point_5 = [8, 3]\n",
        "Point_6 = [-7, 6]\n",
        "Point_7 = [1, 8]\n",
        "Point_8 = [3, 9]\n",
        "plt.scatter(Point_1[0], Point_1[1], label='Point_1', c='blue')\n",
        "plt.scatter(Point_2[0], Point_2[1], label='Point_2', c='purple')\n",
        "plt.scatter(Point_3[0], Point_3[1], label='Point_3', c='green')\n",
        "plt.scatter(Point_4[0], Point_4[1], label='Point_4', c='orange')\n",
        "plt.scatter(Point_5[0], Point_5[1], label='Point_5', c='magenta')\n",
        "plt.scatter(Point_6[0], Point_6[1], label='Point_6', c='black')\n",
        "plt.scatter(Point_7[0], Point_7[1], label='Point_7', c='pink')\n",
        "plt.scatter(Point_8[0], Point_8[1], label='Point_8', c='brown')\n",
        "plt.grid()\n",
        "plt.legend()\n",
        "plt.show()"
      ],
      "metadata": {
        "colab": {
          "base_uri": "https://localhost:8080/",
          "height": 265
        },
        "id": "vehtYvnCubkL",
        "outputId": "ec36d89a-af3f-490c-8191-117052faa7c7"
      },
      "execution_count": null,
      "outputs": [
        {
          "output_type": "display_data",
          "data": {
            "text/plain": [
              "<Figure size 432x288 with 1 Axes>"
            ],
            "image/png": "[encoded data removed]"
          },
          "metadata": {
            "needs_background": "light"
          }
        }
      ]
    },
    {
      "cell_type": "code",
      "source": [
        "Vector_X= np.array([-4, 1])\n",
        "Vector_Y = np.array([3, -5])\n",
        "print(\"Vector_X:{}\" .format(Vector_X))\n",
        "print(\"Vector_Y:{}\" .format(Vector_Y))\n",
        "R = Vector_X + Vector_Y\n",
        "print(\"Resultant:{}\".format(R))\n",
        "Magnitude = np.sqrt(np.sum(R**2))\n",
        "print ('Magnitude:{}'.format(Magnitude))\n",
        "print('---------------------------------------------------')\n",
        "plt.title(\"Resultant Vector\\nMagnitude:{}\" .format(Magnitude))\n",
        "plt.xlim(-5, 5)\n",
        "plt.ylim(-5, 5)\n",
        "plt.quiver(0, 0, Vector_X[0], Vector_X[1], angles='xy', scale_units='xy', scale=1, color='green')\n",
        "plt.quiver(Vector_X[0], Vector_X[1], Vector_Y[0], Vector_Y[1], angles='xy', scale_units='xy', scale=1, color='orange')\n",
        "plt.quiver(0, 0, R[0], R[1], angles='xy', scale_units='xy', scale=1, color='blue')\n",
        "plt.grid(color='teal')\n",
        "plt.show()\n",
        "Slope = R[1]/R[0]\n",
        "print ('Slope:{}'.format(Slope))\n",
        "Angle = (np.arctan(Slope))*(180/np.pi)\n",
        "print('Angle:{}'.format(Angle))"
      ],
      "metadata": {
        "colab": {
          "base_uri": "https://localhost:8080/",
          "height": 424
        },
        "id": "zAyT6zbruiEH",
        "outputId": "8449cc93-40b7-4e16-e338-b5ddfa6ddb32"
      },
      "execution_count": null,
      "outputs": [
        {
          "output_type": "stream",
          "name": "stdout",
          "text": [
            "Vector_X:[-4  1]\n",
            "Vector_Y:[ 3 -5]\n",
            "Resultant:[-1 -4]\n",
            "Magnitude:4.123105625617661\n",
            "---------------------------------------------------\n"
          ]
        },
        {
          "output_type": "display_data",
          "data": {
            "text/plain": [
              "<Figure size 432x288 with 1 Axes>"
            ],
            "image/png": "[encoded data removed]"
          },
          "metadata": {
            "needs_background": "light"
          }
        },
        {
          "output_type": "stream",
          "name": "stdout",
          "text": [
            "Slope:4.0\n",
            "Angle:75.96375653207353\n"
          ]
        }
      ]
    },
    {
      "cell_type": "code",
      "source": [
        "n = Vector_X.shape[0]\n",
        "plt.xlim(-7, 7)\n",
        "plt.ylim(-7, 7)\n",
        "plt.quiver(0,0, Vector_X[0], Vector_X[1], angles='xy', scale_units='xy',scale=1, color ='blue')\n",
        "plt.quiver(Vector_X[0],Vector_X[1], Vector_Y[0], Vector_Y[1], angles='xy', scale_units='xy',scale=1, color ='orange')\n",
        "plt.quiver(0,0, R[0], R[1], angles='xy', scale_units='xy',scale=1, color ='purple')\n",
        "plt.grid(color='pink')\n",
        "plt.show()"
      ],
      "metadata": {
        "id": "mAOw_TaYpu_j",
        "outputId": "4d248e02-0f8a-4421-c6eb-419d43540b6c",
        "colab": {
          "base_uri": "https://localhost:8080/",
          "height": 265
        }
      },
      "execution_count": null,
      "outputs": [
        {
          "output_type": "display_data",
          "data": {
            "text/plain": [
              "<Figure size 432x288 with 1 Axes>"
            ],
            "image/png": "[encoded data removed]"
          },
          "metadata": {
            "needs_background": "light"
          }
        }
      ]
    },
    {
      "cell_type": "markdown",
      "source": [
        "Try plotting Three Vectors and show the Resultant Vector as a result.\n",
        "Use Head to Tail Method."
      ],
      "metadata": {
        "id": "yYFhpvVkc9D3"
      }
    },
    {
      "cell_type": "code",
      "source": [
        "AAA = np.array([2, -8])\n",
        "BBB = np.array([3, -7])\n",
        "CCC = AAA + BBB\n",
        "DDD = np.array([-5, 4])\n",
        "EEE = AAA + BBB + DDD\n",
        "Magnitude = np.sqrt(np.sum(EEE**2))\n",
        "plt.title(\"Resultant Vector\\nMagnitude: {} \\n Resultant: {}\" .format(Magnitude, EEE))\n",
        "plt.xlim(9, -19)\n",
        "plt.ylim(11, -19)\n",
        "plt.quiver(0, 0, AAA[0], AAA[1], angles='xy', scale_units='xy', scale=1, color='magenta')\n",
        "plt.quiver(AAA[0], AAA[1], BBB[0], BBB[1], angles='xy', scale_units='xy', scale=1, color='blue')\n",
        "plt.quiver(CCC[0], CCC[1], DDD[0], DDD[1], angles='xy', scale_units='xy', scale=1, color='orange')\n",
        "plt.quiver(0, 0, EEE[0], EEE[1], angles='xy', scale_units='xy', scale=1, color='lime')\n",
        "plt.grid()\n",
        "plt.show()"
      ],
      "metadata": {
        "id": "KeI6es5hUJCz",
        "colab": {
          "base_uri": "https://localhost:8080/",
          "height": 311
        },
        "outputId": "99cb592a-30dd-4ace-c565-1159c00f5f0a"
      },
      "execution_count": null,
      "outputs": [
        {
          "output_type": "display_data",
          "data": {
            "text/plain": [
              "<Figure size 432x288 with 1 Axes>"
            ],
            "image/png": "[encoded data removed]"
          },
          "metadata": {
            "needs_background": "light"
          }
        }
      ]
    },
    {
      "cell_type": "code",
      "source": [
        "FFF = np.array([-4, -6])\n",
        "GGG = np.array([2, -8])\n",
        "HHH = FFF + GGG\n",
        "III = np.array([6, 7])\n",
        "JJJ = FFF + GGG + III\n",
        "Magnitude = np.sqrt(np.sum(JJJ**2))\n",
        "plt.title(\"Resultant Vector\\nMagnitude: {} \\n Resultant: {}\" .format(Magnitude, JJJ))\n",
        "plt.xlim(12, -23)\n",
        "plt.ylim(11, -23)\n",
        "plt.quiver(0, 0, FFF[0], FFF[1], angles='xy', scale_units='xy', scale=1, color='cyan')\n",
        "plt.quiver(FFF[0], FFF[1], GGG[0], GGG[1], angles='xy', scale_units='xy', scale=1, color='orange')\n",
        "plt.quiver(HHH[0], HHH[1], III[0], III[1], angles='xy', scale_units='xy', scale=1, color='blue')\n",
        "plt.quiver(0, 0, JJJ[0], JJJ[1], angles='xy', scale_units='xy', scale=1, color='purple')\n",
        "plt.grid()\n",
        "plt.show()"
      ],
      "metadata": {
        "colab": {
          "base_uri": "https://localhost:8080/",
          "height": 311
        },
        "id": "JRiADwYozmEx",
        "outputId": "5ffd2395-e9ff-43c3-e066-832eea5410a0"
      },
      "execution_count": null,
      "outputs": [
        {
          "output_type": "display_data",
          "data": {
            "text/plain": [
              "<Figure size 432x288 with 1 Axes>"
            ],
            "image/png": "[encoded data removed]"
          },
          "metadata": {
            "needs_background": "light"
          }
        }
      ]
    },
    {
      "cell_type": "markdown",
      "source": [
        "#Conclusion\n",
        "\n",
        "In this laboratory report, the researchers have fully utilized the features of Google Colab in line with understanding the principles and application of python programming. With the topics discussed, the researchers have enhanced their knowledge and skills and performed the activity with ease and confidence. Upon doing the activity, the researchers learned the significance of importing the necessary programming libraries like \"import numpy as np\" and \"import matplotlib.pyplot as plt\" to execute commands and for the succeeding codes to work their functions. The objective of this laboratory activity has been achieved wherein the researchers have familiarized themselves with python libraries for numerical and scientific programming. In addition, the researchers were able to represent a vector using the code \"np.array\" and describe a vector according to its shape, size, and dimension with the codes \".shape,\" \".size,\" and \".ndim.\" \n",
        "\n",
        "Along with representing and describing vectors, the researchers have also tackled performing operations with vectors, including addition, subtraction, multiplication, and division. There were two ways of executing the operations: the functional method and the explicit method. The functional method involves the signs such as \"np.add,\" \"np.subtract,\" \"np.multiply,\" and \"np.divide\" for the addition, subtraction, multiplication, and addition, respectively. While in the explicit method, the codes used were \"+,\" \"-,\" \"*,\" and \"/\"  for the same arrangement of operations. Scaling has been discussed as well with the use of the code \"np.multiply\" for scaling a vector. For the MatPlotLib, it was comprehended its significance in python programming and how helpful it is in presenting a plot of data to be utilized in the interpretation of trends, patterns, and relationships. In line with this, the codes introduced allowed the researchers to display the resultant vector, magnitude, slope, and angle of the given vectors.\n",
        "\n",
        "Through this laboratory activity, the researchers have further improved their proficiency in python programming with the use of the platform Google Colab. The different commands taught were recognized and acquainted with their usage in the activity, especially in doing the given task. Moreover, everything that has been discussed in this laboratory report will help the researchers to establish a good foundation regarding vectors and which they can use for future purposes. As a final point, the researchers have gained more knowledge and desire to apply everything they have learned in a real-life situation and field of work."
      ],
      "metadata": {
        "id": "9eayWm-7djsz"
      }
    }
  ]
}