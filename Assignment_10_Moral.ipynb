{
  "nbformat": 4,
  "nbformat_minor": 0,
  "metadata": {
    "colab": {
      "name": "Assignment 10_Moral",
      "provenance": [],
      "authorship_tag": "ABX9TyMhTeLFXOIXTJLorj2iFgro",
      "include_colab_link": true
    },
    "kernelspec": {
      "name": "python3",
      "display_name": "Python 3"
    },
    "language_info": {
      "name": "python"
    }
  },
  "cells": [
    {
      "cell_type": "markdown",
      "metadata": {
        "id": "view-in-github",
        "colab_type": "text"
      },
      "source": [
        "<a href=\"https://colab.research.google.com/github/krypton20/LinearAlgebra_2ndSem/blob/main/Assignment_10_Moral.ipynb\" target=\"_parent\"><img src=\"https://colab.research.google.com/assets/colab-badge.svg\" alt=\"Open In Colab\"/></a>"
      ]
    },
    {
      "cell_type": "markdown",
      "source": [
        "#Linear Algebra for ChE"
      ],
      "metadata": {
        "id": "xQk9EW8dQecB"
      }
    },
    {
      "cell_type": "markdown",
      "source": [
        "##Laboratory 5 : Linear Combination and Vector Spaces\n"
      ],
      "metadata": {
        "id": "8TYJ9CkqQ42X"
      }
    },
    {
      "cell_type": "markdown",
      "source": [
        "### Objectives\n",
        "In the previous laboratory activity, the students have learned about the basic principles and techniques of the application of Python programming in vectors. Using Python in understanding vectors is somehow similar when it comes to performing matrices, especially in terms of operations. However, in this laboratory activity, it focuses on using Python programming to represent and visualize linear combinations as well as vector spaces. Using Python to represent vectors is somehow similar to representing matrices. Furthermore, this laboratory activity will mainly focus on learning to represent linear combinations in a 2-D plane, visualize spans using vector fields in Python, and conduct vector field operations using scientific programming."
      ],
      "metadata": {
        "id": "zbyDxTITY9Ng"
      }
    },
    {
      "cell_type": "markdown",
      "source": [
        "##Discussion"
      ],
      "metadata": {
        "id": "IoFPbcF0RP-9"
      }
    },
    {
      "cell_type": "code",
      "source": [
        "import numpy as np\n",
        "import matplotlib.pyplot as plt\n",
        "%matplotlib inline"
      ],
      "metadata": {
        "id": "PXgsdcM_RU6p"
      },
      "execution_count": 1,
      "outputs": []
    },
    {
      "cell_type": "markdown",
      "source": [
        "#Linear Combination\n",
        "Linear Combination is a process or a method of combining a linear scaling and the adding of vectors with its constituents. Applying it to two or more vectors, it is where a vector formed by operating a multiplication within the vectors of distinct direction by scalar quantities [12].\n",
        "\n",
        "We will try to visualize the vectors and their linear combinations by plotting a sample of real number values for the scalars for the vectors. Let's first try the vectors below:\n",
        "$$M = \\begin{bmatrix} 3\\\\3\\\\\\end{bmatrix} , G = \\begin{bmatrix} 8\\\\23\\\\\\end{bmatrix} $$"
      ],
      "metadata": {
        "id": "S9Y4psIzRnau"
      }
    },
    {
      "cell_type": "code",
      "source": [
        "Vector_M =  np.array([3,3])\n",
        "Vector_G =  np.array([8,23])\n",
        "print ('Vector_M:{}' .format(Vector_M))\n",
        "print ('Vector_G:{}' .format(Vector_G))"
      ],
      "metadata": {
        "id": "_u2tvZulRwjA",
        "colab": {
          "base_uri": "https://localhost:8080/"
        },
        "outputId": "eb9e88e5-a648-4055-af93-6d94229e29b7"
      },
      "execution_count": 3,
      "outputs": [
        {
          "output_type": "stream",
          "name": "stdout",
          "text": [
            "Vector_M:[3 3]\n",
            "Vector_G:[ 8 23]\n"
          ]
        }
      ]
    },
    {
      "cell_type": "markdown",
      "source": [
        "###Span of single vectors\n",
        "Vectors are significantly linked to coordinates, which are pairs of numbers. At the same time, span is a collection of the resulting vectors which display the two vectors' linear combination. The span for these vectors will be the whole plane. If two vectors are aligned, or one vector is a scaled version of another, the span is simply the line from which the two vectors meet. When we conceive vectors as arrows, a span can be difficult to comprehend/visualize. We can, on the other hand, consider them as points. [13] A span of single vectors was said to be shown by a line span, and Figure X depicts how it is done. The codes used were also displayed below, and vectors M and G were separated to be clearly understood.\n",
        "\n",
        "As discussed in the lecture, the span of individual vectors can be represented by a line span. Let's take vector $X$ as an example.\n",
        "\n",
        "$$M = c\\cdot \\begin{bmatrix} 3\\\\3\\ \\\\\\end{bmatrix} $$"
      ],
      "metadata": {
        "id": "ArLw2SJiR7B6"
      }
    },
    {
      "cell_type": "code",
      "source": [
        "c = np.arange(-30,30,1)\n",
        "#Spanning of Single Vector\n",
        "plt.scatter(c*Vector_M[0],c*Vector_M[1], color='magenta')\n",
        "plt.xlim(-30,30)\n",
        "plt.ylim(-30,30)\n",
        "plt.axhline(y=0, color='blue')\n",
        "plt.axvline(x=0, color='blue')\n",
        "plt.grid(color='green')\n",
        "plt.show()"
      ],
      "metadata": {
        "colab": {
          "base_uri": "https://localhost:8080/",
          "height": 269
        },
        "id": "Ih_MyhRZSJ-x",
        "outputId": "35ea44ed-8eb2-460b-dee2-24f91b5ba74d"
      },
      "execution_count": null,
      "outputs": [
        {
          "output_type": "display_data",
          "data": {
            "text/plain": [
              "<Figure size 432x288 with 1 Axes>"
            ],
            "image/png": "[encoded data removed]"
          },
          "metadata": {
            "needs_background": "light"
          }
        }
      ]
    },
    {
      "cell_type": "code",
      "source": [
        "c = np.arange(-30,30,1)\n",
        "# Without spanning or multiplying a scalar value into a single vector\n",
        "plt.scatter(Vector_M[0],Vector_M[1], color='magenta')\n",
        "plt.xlim(-30,30)\n",
        "plt.ylim(-30,30)\n",
        "plt.axhline(y=0, color='blue')\n",
        "plt.axvline(x=0, color='blue')\n",
        "plt.grid(color='orange')\n",
        "plt.show()"
      ],
      "metadata": {
        "colab": {
          "base_uri": "https://localhost:8080/",
          "height": 269
        },
        "outputId": "ff080352-f81e-49ad-f206-ad5e30679c91",
        "id": "pYTAw3qPJs7i"
      },
      "execution_count": null,
      "outputs": [
        {
          "output_type": "display_data",
          "data": {
            "text/plain": [
              "<Figure size 432x288 with 1 Axes>"
            ],
            "image/png": "[encoded data removed]"
          },
          "metadata": {
            "needs_background": "light"
          }
        }
      ]
    },
    {
      "cell_type": "markdown",
      "source": [
        "$$G = c\\cdot \\begin{bmatrix} 8\\\\3\\ \\\\\\end{bmatrix} $$\n",
        "\n"
      ],
      "metadata": {
        "id": "NUNJCO5dVbGF"
      }
    },
    {
      "cell_type": "code",
      "source": [
        "c = np.arange(-20,20,0.3)\n",
        "#Spanning of Single Vector\n",
        "plt.scatter(c*Vector_G[0],c*Vector_G[1], color='green')\n",
        "plt.xlim(-40,40)\n",
        "plt.ylim(-40,40)\n",
        "plt.axhline(y=0, color='magenta')\n",
        "plt.axvline(x=0, color='magenta')\n",
        "plt.grid(color='pink')\n",
        "plt.show()"
      ],
      "metadata": {
        "colab": {
          "base_uri": "https://localhost:8080/",
          "height": 269
        },
        "outputId": "9d585b6f-8d47-4f56-bd1a-50e6039cb5c5",
        "id": "KUf3pI8tUtkH"
      },
      "execution_count": null,
      "outputs": [
        {
          "output_type": "display_data",
          "data": {
            "text/plain": [
              "<Figure size 432x288 with 1 Axes>"
            ],
            "image/png": "[encoded data removed]"
          },
          "metadata": {
            "needs_background": "light"
          }
        }
      ]
    },
    {
      "cell_type": "markdown",
      "source": [
        "### Span of a linear combination of vectors"
      ],
      "metadata": {
        "id": "zv-lwuYqZjWc"
      }
    },
    {
      "cell_type": "markdown",
      "source": [
        "In mathematics, a linear combination is a representation created by multiplying by a constant each term, and then the results are added. [14] In this method, not one vector but two or more vectors are utilized. The code \"np.arange\" is employed to set the range of the scalar quantity to be multiplied by the values in the two vectors. The function of \"np.meshgrid\" is to create a vector of all the combinations of the resultant, and it calls out the values indicated in \"c1\" and \"c2\" as \"R\"; thus, adding two vectors results in vector R, which is the resultant vector. Additionally, \"spanRx\" implies the span of Rx (resultant of x), which is the \"c1\" and \"c2\" such that the variables for the x-component and y-component of a vector are from the \"spanRx\" and \"spanRy.\" Another function used was \"plt.scatter\" wherein it scatters the points and will display the combination of the two vectors, but the points are separated. However, in spanning a linear combination of vectors, the example code, which is \"plt.scatter(spanRx,spanRy, s=5, alpha=0.75),\" is utilized to scatter the values of \"spanRx\" and \"spanRy.\" In plotting, the values can be changed by altering the range. Below is the example of spanning a linear combination of vectors."
      ],
      "metadata": {
        "id": "mmErlOyDZfL0"
      }
    },
    {
      "cell_type": "markdown",
      "source": [
        "$$Sample = \\begin{Bmatrix} c_1 \\cdot\\begin{bmatrix} 11\\\\4 \\\\\\end{bmatrix}, \n",
        "c_2 \\cdot \\begin{bmatrix} 3\\\\-9 \\\\\\end{bmatrix}\\end{Bmatrix} $$"
      ],
      "metadata": {
        "id": "4_58kgzjtk40"
      }
    },
    {
      "cell_type": "code",
      "metadata": {
        "colab": {
          "base_uri": "https://localhost:8080/",
          "height": 265
        },
        "id": "Z8UT7UNUO9S6",
        "outputId": "f2958c27-4697-4e1e-bbc4-512c097fd648"
      },
      "source": [
        "vector_L = np.array([11,4])\n",
        "vector_P = np.array([3,-9])\n",
        "Rt = np.arange(-23,23,3)\n",
        "c1, c2 = np.meshgrid(Rt,Rt)\n",
        "\n",
        "\n",
        "vector_Rt = vector_L + vector_P\n",
        "span_Rtx = c1*vector_L[0] + c2*vector_P[0]\n",
        "span_Rty = c1*vector_L[1] + c2*vector_P[1]\n",
        "plt.scatter(span_Rtx,span_Rty, s=7, alpha=1, color='blue')\n",
        "\n",
        "plt.axhline(y=0, color='magenta')\n",
        "plt.axvline(x=0, color='magenta')\n",
        "plt.grid(color='gold')\n",
        "plt.show()"
      ],
      "execution_count": 5,
      "outputs": [
        {
          "output_type": "display_data",
          "data": {
            "text/plain": [
              "<Figure size 432x288 with 1 Axes>"
            ],
            "image/png": "[encoded data removed]"
          },
          "metadata": {
            "needs_background": "light"
          }
        }
      ]
    },
    {
      "cell_type": "code",
      "source": [
        "vector_L = np.array([11,4])\n",
        "vector_P = np.array([3,-9])\n",
        "Rt = np.arange(-33,33,2)\n",
        "c1, c2 = np.meshgrid(Rt,Rt)\n",
        "vector_Rt = vector_L + vector_P\n",
        "span_Rtx = c1*vector_L[0] + c2*vector_P[0]\n",
        "span_Rty = c1*vector_L[1] + c2*vector_P[1]\n",
        "plt.scatter(span_Rtx,span_Rty, s=7, alpha=1, color='magenta')\n",
        "plt.axhline(y=0, color='blue')\n",
        "plt.axvline(x=0, color='blue')\n",
        "plt.grid(color= 'pink')\n",
        "plt.show()"
      ],
      "metadata": {
        "colab": {
          "base_uri": "https://localhost:8080/",
          "height": 265
        },
        "id": "YtIJnwaKryFV",
        "outputId": "afdb2391-1f3f-4932-b01f-da6653ffe76a"
      },
      "execution_count": null,
      "outputs": [
        {
          "output_type": "display_data",
          "data": {
            "text/plain": [
              "<Figure size 432x288 with 1 Axes>"
            ],
            "image/png": "[encoded data removed]"
          },
          "metadata": {
            "needs_background": "light"
          }
        }
      ]
    },
    {
      "cell_type": "code",
      "metadata": {
        "colab": {
          "base_uri": "https://localhost:8080/",
          "height": 265
        },
        "outputId": "0b05c90e-9e2f-4158-b536-38de713231a9",
        "id": "8DbpsEWM7-qo"
      },
      "source": [
        "vector_V = np.array([11,4])\n",
        "vector_Z = np.array([33,12])\n",
        "Rt = np.arange(-23,23,3)\n",
        "c1, c2 = np.meshgrid(Rt,Rt)\n",
        "\n",
        "\n",
        "vector_Rt = vector_L + vector_P\n",
        "span_Rtx = c1*vector_L[0] + c2*vector_P[0]\n",
        "span_Rty = c1*vector_L[1] + c2*vector_P[1]\n",
        "plt.scatter(span_Rtx,span_Rty, s=7, alpha=1, color='blue')\n",
        "\n",
        "plt.axhline(y=0, color='orange')\n",
        "plt.axvline(x=0, color='orange')\n",
        "plt.grid(color='lime')\n",
        "plt.show()"
      ],
      "execution_count": null,
      "outputs": [
        {
          "output_type": "display_data",
          "data": {
            "text/plain": [
              "<Figure size 432x288 with 1 Axes>"
            ],
            "image/png": "[encoded data removed]"
          },
          "metadata": {
            "needs_background": "light"
          }
        }
      ]
    },
    {
      "cell_type": "code",
      "source": [
        "vector_L = np.array([11,4])\n",
        "vector_P = np.array([3,-9])\n",
        "Rt = np.arange(-23,23,3)\n",
        "c1, c2 = np.meshgrid(Rt,Rt)\n",
        "print (np.meshgrid(Rt,Rt))"
      ],
      "metadata": {
        "colab": {
          "base_uri": "https://localhost:8080/"
        },
        "id": "q3_j9ieYo2PL",
        "outputId": "d02e7dd0-e77b-4a6e-a819-e514eb4e99f7"
      },
      "execution_count": null,
      "outputs": [
        {
          "output_type": "stream",
          "name": "stdout",
          "text": [
            "[array([[-23, -20, -17, -14, -11,  -8,  -5,  -2,   1,   4,   7,  10,  13,\n",
            "         16,  19,  22],\n",
            "       [-23, -20, -17, -14, -11,  -8,  -5,  -2,   1,   4,   7,  10,  13,\n",
            "         16,  19,  22],\n",
            "       [-23, -20, -17, -14, -11,  -8,  -5,  -2,   1,   4,   7,  10,  13,\n",
            "         16,  19,  22],\n",
            "       [-23, -20, -17, -14, -11,  -8,  -5,  -2,   1,   4,   7,  10,  13,\n",
            "         16,  19,  22],\n",
            "       [-23, -20, -17, -14, -11,  -8,  -5,  -2,   1,   4,   7,  10,  13,\n",
            "         16,  19,  22],\n",
            "       [-23, -20, -17, -14, -11,  -8,  -5,  -2,   1,   4,   7,  10,  13,\n",
            "         16,  19,  22],\n",
            "       [-23, -20, -17, -14, -11,  -8,  -5,  -2,   1,   4,   7,  10,  13,\n",
            "         16,  19,  22],\n",
            "       [-23, -20, -17, -14, -11,  -8,  -5,  -2,   1,   4,   7,  10,  13,\n",
            "         16,  19,  22],\n",
            "       [-23, -20, -17, -14, -11,  -8,  -5,  -2,   1,   4,   7,  10,  13,\n",
            "         16,  19,  22],\n",
            "       [-23, -20, -17, -14, -11,  -8,  -5,  -2,   1,   4,   7,  10,  13,\n",
            "         16,  19,  22],\n",
            "       [-23, -20, -17, -14, -11,  -8,  -5,  -2,   1,   4,   7,  10,  13,\n",
            "         16,  19,  22],\n",
            "       [-23, -20, -17, -14, -11,  -8,  -5,  -2,   1,   4,   7,  10,  13,\n",
            "         16,  19,  22],\n",
            "       [-23, -20, -17, -14, -11,  -8,  -5,  -2,   1,   4,   7,  10,  13,\n",
            "         16,  19,  22],\n",
            "       [-23, -20, -17, -14, -11,  -8,  -5,  -2,   1,   4,   7,  10,  13,\n",
            "         16,  19,  22],\n",
            "       [-23, -20, -17, -14, -11,  -8,  -5,  -2,   1,   4,   7,  10,  13,\n",
            "         16,  19,  22],\n",
            "       [-23, -20, -17, -14, -11,  -8,  -5,  -2,   1,   4,   7,  10,  13,\n",
            "         16,  19,  22]]), array([[-23, -23, -23, -23, -23, -23, -23, -23, -23, -23, -23, -23, -23,\n",
            "        -23, -23, -23],\n",
            "       [-20, -20, -20, -20, -20, -20, -20, -20, -20, -20, -20, -20, -20,\n",
            "        -20, -20, -20],\n",
            "       [-17, -17, -17, -17, -17, -17, -17, -17, -17, -17, -17, -17, -17,\n",
            "        -17, -17, -17],\n",
            "       [-14, -14, -14, -14, -14, -14, -14, -14, -14, -14, -14, -14, -14,\n",
            "        -14, -14, -14],\n",
            "       [-11, -11, -11, -11, -11, -11, -11, -11, -11, -11, -11, -11, -11,\n",
            "        -11, -11, -11],\n",
            "       [ -8,  -8,  -8,  -8,  -8,  -8,  -8,  -8,  -8,  -8,  -8,  -8,  -8,\n",
            "         -8,  -8,  -8],\n",
            "       [ -5,  -5,  -5,  -5,  -5,  -5,  -5,  -5,  -5,  -5,  -5,  -5,  -5,\n",
            "         -5,  -5,  -5],\n",
            "       [ -2,  -2,  -2,  -2,  -2,  -2,  -2,  -2,  -2,  -2,  -2,  -2,  -2,\n",
            "         -2,  -2,  -2],\n",
            "       [  1,   1,   1,   1,   1,   1,   1,   1,   1,   1,   1,   1,   1,\n",
            "          1,   1,   1],\n",
            "       [  4,   4,   4,   4,   4,   4,   4,   4,   4,   4,   4,   4,   4,\n",
            "          4,   4,   4],\n",
            "       [  7,   7,   7,   7,   7,   7,   7,   7,   7,   7,   7,   7,   7,\n",
            "          7,   7,   7],\n",
            "       [ 10,  10,  10,  10,  10,  10,  10,  10,  10,  10,  10,  10,  10,\n",
            "         10,  10,  10],\n",
            "       [ 13,  13,  13,  13,  13,  13,  13,  13,  13,  13,  13,  13,  13,\n",
            "         13,  13,  13],\n",
            "       [ 16,  16,  16,  16,  16,  16,  16,  16,  16,  16,  16,  16,  16,\n",
            "         16,  16,  16],\n",
            "       [ 19,  19,  19,  19,  19,  19,  19,  19,  19,  19,  19,  19,  19,\n",
            "         19,  19,  19],\n",
            "       [ 22,  22,  22,  22,  22,  22,  22,  22,  22,  22,  22,  22,  22,\n",
            "         22,  22,  22]])]\n"
          ]
        }
      ]
    },
    {
      "cell_type": "code",
      "source": [
        "vectorG = np.array([23,19])\n",
        "vectorP = np.array([-18,-30])\n",
        "\n",
        "O = np.arange(-30,30,3)\n",
        "\n",
        "c1, c2 = np.meshgrid(O,O)\n",
        "\n",
        "vectorO = vectorG + vectorP\n",
        "spanRx = c1*vectorG[0] + c2*vectorP[0]\n",
        "spanRy = c1*vectorG[1] + c2*vectorP[1]\n",
        "plt.scatter(O*vectorG[0],O*vectorG[1])\n",
        "plt.scatter(O*vectorP[0],O*vectorP[1])\n",
        "plt.scatter(spanRx,spanRy, s=9, alpha=0.80, color='orange')\n",
        "\n",
        "plt.axhline(y=0, color='blue')\n",
        "plt.axvline(x=0, color='blue')\n",
        "plt.grid()\n",
        "plt.show()"
      ],
      "metadata": {
        "colab": {
          "base_uri": "https://localhost:8080/",
          "height": 266
        },
        "id": "s9iqqZWcZ6ox",
        "outputId": "c8d9854b-3fdc-404a-f0bb-20b2e7f68cdc"
      },
      "execution_count": null,
      "outputs": [
        {
          "output_type": "display_data",
          "data": {
            "text/plain": [
              "<Figure size 432x288 with 1 Axes>"
            ],
            "image/png": "[encoded data removed]"
          },
          "metadata": {
            "needs_background": "light"
          }
        }
      ]
    },
    {
      "cell_type": "markdown",
      "source": [
        "$$Span\\ of\\ single\\ vectors$$\n",
        "\\\n",
        "$$Parsival = 3\\hat{i} - 9\\hat{j}$$\n",
        "\\\n",
        "$$Parsival=\\begin{bmatrix} 3\\\\-9  \\end{bmatrix}$$\n",
        "\\\n",
        "$$Parsival = c\\cdot \\begin{bmatrix} 3\\\\-9 \\\\\\end{bmatrix} $$"
      ],
      "metadata": {
        "id": "Wzso_q-7w-XD"
      }
    },
    {
      "cell_type": "code",
      "source": [
        "c = np.arange(-33,21,0.81)\n",
        "\n",
        "plt.scatter(c*vector_P[0],c*vector_P[1], color='blue')\n",
        "\n",
        "plt.xlim(-15,15)\n",
        "plt.ylim(-15,15)\n",
        "plt.axhline(y=0, color='magenta')\n",
        "plt.axvline(x=0, color='magenta')\n",
        "plt.grid(color='orange')\n",
        "plt.show()"
      ],
      "metadata": {
        "colab": {
          "base_uri": "https://localhost:8080/",
          "height": 269
        },
        "id": "E8xX39L1w_lh",
        "outputId": "2931df8c-0c62-45d2-fb5c-031090dae0bf"
      },
      "execution_count": 10,
      "outputs": [
        {
          "output_type": "display_data",
          "data": {
            "text/plain": [
              "<Figure size 432x288 with 1 Axes>"
            ],
            "image/png": "[encoded data removed]"
          },
          "metadata": {
            "needs_background": "light"
          }
        }
      ]
    },
    {
      "cell_type": "markdown",
      "source": [
        "$$Span\\ of\\ a\\ linear\\ combinations\\ of\\ vectors$$\n",
        "\\\n",
        "$$L = 21\\hat{x} + 19\\hat{y}\\\\\n",
        "P = 20\\hat{x} + 3\\hat{y}$$\n",
        "\\\n",
        "$$G=\\begin{bmatrix} 21\\\\19  \\end{bmatrix}$$\n",
        "\\\n",
        "$$P=\\begin{bmatrix} 20\\\\3  \\end{bmatrix}$$\n",
        "\\\n",
        "$$Y = \\begin{Bmatrix} c_1 \\cdot\\begin{bmatrix} 21\\\\19 \\\\\\end{bmatrix}, \n",
        "c_2 \\cdot \\begin{bmatrix} 20\\\\3 \\\\\\end{bmatrix}\\end{Bmatrix} $$"
      ],
      "metadata": {
        "id": "71b1GvQ8ygl3"
      }
    },
    {
      "cell_type": "code",
      "source": [
        "vectorG = np.array([21,19])\n",
        "vectorP = np.array([20,3])\n",
        "\n",
        "O = np.arange(-30,30,3)\n",
        "\n",
        "c1, c2 = np.meshgrid(O,O)\n",
        "\n",
        "vectorO = vectorG + vectorP\n",
        "spanRx = c1*vectorG[0] + c2*vectorP[0]\n",
        "spanRy = c1*vectorG[1] + c2*vectorP[1]\n",
        "plt.scatter(spanRx,spanRy, s=9, alpha=0.80, color='magenta')\n",
        "\n",
        "plt.axhline(y=0, color='lime')\n",
        "plt.axvline(x=0, color='lime')\n",
        "plt.grid()\n",
        "plt.show()"
      ],
      "metadata": {
        "colab": {
          "base_uri": "https://localhost:8080/",
          "height": 265
        },
        "id": "_N0WIqxpya-B",
        "outputId": "c8e48572-9d48-46dd-b98e-692b2a60d8df"
      },
      "execution_count": 14,
      "outputs": [
        {
          "output_type": "display_data",
          "data": {
            "text/plain": [
              "<Figure size 432x288 with 1 Axes>"
            ],
            "image/png": "[encoded data removed]"
          },
          "metadata": {
            "needs_background": "light"
          }
        }
      ]
    },
    {
      "cell_type": "markdown",
      "source": [
        "## Conclusion guide\n",
        "For your conclusion synthesize the concept and application of the laboratory. Briefly discuss what you have learn and achieved in this activity. At the end of your conclusion try to answer the question : \"How can you apply the concept of linear combination in engineering or real-life situations?\"."
      ],
      "metadata": {
        "id": "B_qi0npIaTLN"
      }
    },
    {
      "cell_type": "markdown",
      "source": [
        "In this laboratory activity, the students have learned more techniques about the application of Python programming in vectors, specifically in terms of linear combination and vector spaces. Upon the completion of this activity, the students learned and applied the objectives of this activity which are representing linear combinations in a 2D cartesian plane, visualizing spans using vector fields, and conducting various vector field operations and functions using scientific programming. The activity mainly focused on the spanning of a single vector and the spanning of linear combinations of vectors. From the word itself, the spanning of a single vector involves only one vector. A span of single vectors was said to be shown by a line span. Meanwhile, a linear combination of vectors was defined as one vector equivalent to the total scalar multiples of other vectors. In addition, the students have comprehended that spanning a linear combination of vectors involves necessary codes for them to achieve it. Thus, plotting the values depends on the parameters to be chosen. \n",
        "\n",
        "Different examples and scenarios were displayed in this activity to further comprehend the applications of the spanning of vectors and linear combinations. Furthermore, with the activity done by the students, they have realized its benefits in the field of engineering and real-life situations. Applying the concept of linear combination to engineering can be advantageous in instructional design and can help solve problems or questions related to geometry and other computer-related works. It can also be applied in computing for grades, earnings, speed, and distance. These are some of its significance in real-life situations, but there are still many applications of the idea of linear combination in people's everyday lives.\n",
        "\n",
        "In totality, the students have further improved their proficiency in python programming with the use of the platform Google Colab. The different commands and new functions were recognized and acquainted with their usage in the activity, especially in doing the given tasks. Moreover, everything that has been discussed in this laboratory report will help the researchers to establish a good foundation regarding the application of spanning vectors and linear combinations which they can use for future purposes. On the final point, the students have gained more knowledge and desire to apply everything they have learned in a real-life situation and field of work.\n"
      ],
      "metadata": {
        "id": "WomO4D5vaPbV"
      }
    }
  ]
}