{
  "nbformat": 4,
  "nbformat_minor": 0,
  "metadata": {
    "colab": {
      "name": "Activity 1 - Python Fundamentals",
      "provenance": [],
      "collapsed_sections": [],
      "include_colab_link": true
    },
    "kernelspec": {
      "name": "python3",
      "display_name": "Python 3"
    },
    "language_info": {
      "name": "python"
    }
  },
  "cells": [
    {
      "cell_type": "markdown",
      "metadata": {
        "id": "view-in-github",
        "colab_type": "text"
      },
      "source": [
        "<a href=\"https://colab.research.google.com/github/krypton20/LinearAlgebra_2ndSem/blob/main/Activity_1_Python_Fundamentals.ipynb\" target=\"_parent\"><img src=\"https://colab.research.google.com/assets/colab-badge.svg\" alt=\"Open In Colab\"/></a>"
      ]
    },
    {
      "cell_type": "markdown",
      "source": [
        ""
      ],
      "metadata": {
        "id": "5ow_aAFW5P9a"
      }
    },
    {
      "cell_type": "markdown",
      "source": [
        "# Welcome to Python Fundamentals\n",
        "In this module, we are going to establish or review our skills in Python programming. In this notebook we are going to cover:\n",
        "* Variables and Data Types \n",
        "* Operations\n",
        "* Input and Output Operations\n",
        "* Logic Control\n",
        "* Iterables\n",
        "* Functions\n"
      ],
      "metadata": {
        "id": "tpq8o9-6sNcB"
      }
    },
    {
      "cell_type": "code",
      "source": [
        ""
      ],
      "metadata": {
        "id": "RlpRtNJFh6Al"
      },
      "execution_count": null,
      "outputs": []
    },
    {
      "cell_type": "markdown",
      "source": [
        "## Variable and Data Types"
      ],
      "metadata": {
        "id": "YkTNLEittEou"
      }
    },
    {
      "cell_type": "markdown",
      "source": [
        "##### A variable is a memory space in a programming language where a value is stored. The value you've stored may change in the future if the specifications change [1].\n",
        "Meanwhile, data types are used to classify or categorize items of knowledge. It is the helpful kind that indicates which operations on given data are frequently done. Python's programming language relies heavily on the idea of data types. In the Python programming language, there are 6 standard data types that you could classify and each value has its own Python data type [2]. The following standard data types are as follows:\n",
        "\n",
        "1.) Numeric - integers (whole numbers) , complex numbers and float (decimal numbers)\n",
        "\n",
        "2.) Boolean - truth values that represent Yes/No\n",
        "\n",
        "3.) String - enclose characters in quotes\n",
        "\n",
        "4.) List - series of values ; declared by using brackets\n",
        "\n",
        "5.) Dictionary - lists of key:value pairs.\n",
        "\n",
        "6.) Tuple - group of values like a list; defined by parenthesis\n",
        "          \n",
        "\n",
        "Furthermore, it is also possible to convert a value to another type since Python is dynamically encoded. Python includes a set of functions that accomplish the same thing [3]."
      ],
      "metadata": {
        "id": "Dpp4jToLLj0H"
      }
    },
    {
      "cell_type": "code",
      "source": [
        "x = 1\n",
        "m,a = 5, 20\n",
        "m"
      ],
      "metadata": {
        "colab": {
          "base_uri": "https://localhost:8080/"
        },
        "id": "K3EmM__ztTlZ",
        "outputId": "f432539e-68ac-438b-caee-87dc4d153053"
      },
      "execution_count": null,
      "outputs": [
        {
          "output_type": "execute_result",
          "data": {
            "text/plain": [
              "5"
            ]
          },
          "metadata": {},
          "execution_count": 3
        }
      ]
    },
    {
      "cell_type": "code",
      "source": [
        "type(x)"
      ],
      "metadata": {
        "colab": {
          "base_uri": "https://localhost:8080/"
        },
        "id": "y_SbCXlkumGz",
        "outputId": "1099c2dc-66ee-44c7-ac8f-56f4e06bd812"
      },
      "execution_count": null,
      "outputs": [
        {
          "output_type": "execute_result",
          "data": {
            "text/plain": [
              "int"
            ]
          },
          "metadata": {},
          "execution_count": 5
        }
      ]
    },
    {
      "cell_type": "code",
      "source": [
        "y = 3+1j\n",
        "type(y)"
      ],
      "metadata": {
        "colab": {
          "base_uri": "https://localhost:8080/"
        },
        "id": "91cQLlrRvZQM",
        "outputId": "16d553c3-7d37-496e-8228-26cbc6ae43fe"
      },
      "execution_count": null,
      "outputs": [
        {
          "output_type": "execute_result",
          "data": {
            "text/plain": [
              "complex"
            ]
          },
          "metadata": {},
          "execution_count": 12
        }
      ]
    },
    {
      "cell_type": "code",
      "source": [
        "x = float(x)\n",
        "type(x)\n",
        "      "
      ],
      "metadata": {
        "colab": {
          "base_uri": "https://localhost:8080/"
        },
        "id": "DonQYAu4vqXy",
        "outputId": "076f8cda-080b-4370-f351-b0f46b69d11e"
      },
      "execution_count": null,
      "outputs": [
        {
          "output_type": "execute_result",
          "data": {
            "text/plain": [
              "float"
            ]
          },
          "metadata": {},
          "execution_count": 9
        }
      ]
    },
    {
      "cell_type": "code",
      "source": [
        "z= 1.5\n",
        "type(z)"
      ],
      "metadata": {
        "colab": {
          "base_uri": "https://localhost:8080/"
        },
        "id": "ZKcbKTHvKoz0",
        "outputId": "0abf242b-4646-496a-f7ce-7719f6cf53c2"
      },
      "execution_count": null,
      "outputs": [
        {
          "output_type": "execute_result",
          "data": {
            "text/plain": [
              "float"
            ]
          },
          "metadata": {},
          "execution_count": 14
        }
      ]
    },
    {
      "cell_type": "code",
      "source": [
        "n = [2, 1, 1.5]\n",
        "type(n)"
      ],
      "metadata": {
        "colab": {
          "base_uri": "https://localhost:8080/"
        },
        "id": "0DdnCK1aNJev",
        "outputId": "cb79a5ca-6458-4777-8c83-a61bf0fdd86d"
      },
      "execution_count": null,
      "outputs": [
        {
          "output_type": "execute_result",
          "data": {
            "text/plain": [
              "list"
            ]
          },
          "metadata": {},
          "execution_count": 21
        }
      ]
    },
    {
      "cell_type": "code",
      "source": [
        "s,t,u = \"3\", '1.0' , 'twenty'\n",
        "type(u)"
      ],
      "metadata": {
        "colab": {
          "base_uri": "https://localhost:8080/"
        },
        "id": "QqMeABMhwfn1",
        "outputId": "baf87647-c998-401e-d605-b700034df0ff"
      },
      "execution_count": null,
      "outputs": [
        {
          "output_type": "execute_result",
          "data": {
            "text/plain": [
              "str"
            ]
          },
          "metadata": {},
          "execution_count": 17
        }
      ]
    },
    {
      "cell_type": "code",
      "source": [
        "s_int = int(s)\n",
        "s_int"
      ],
      "metadata": {
        "colab": {
          "base_uri": "https://localhost:8080/"
        },
        "id": "kVZXFhjzv_wM",
        "outputId": "5b4d1f27-273b-4a7a-b356-80a80c1e0db3"
      },
      "execution_count": null,
      "outputs": [
        {
          "output_type": "execute_result",
          "data": {
            "text/plain": [
              "3"
            ]
          },
          "metadata": {},
          "execution_count": 20
        }
      ]
    },
    {
      "cell_type": "markdown",
      "source": [
        "## Operations"
      ],
      "metadata": {
        "id": "KJIRfp2Vx99m"
      }
    },
    {
      "cell_type": "markdown",
      "source": [
        "##### Operators are Python-specific symbols that perform logical computations and mathematical operations on variables and values. The operand is the value on which the operator executes [4]."
      ],
      "metadata": {
        "id": "bHZMmhsUWhea"
      }
    },
    {
      "cell_type": "markdown",
      "source": [
        "### Arithmetic "
      ],
      "metadata": {
        "id": "6zvSsIT3yNHh"
      }
    },
    {
      "cell_type": "markdown",
      "source": [
        "It consists of 7 operators and executes different mathematical operations depending on their function. The Arithmetic Operations uses numeric data types such as integers, float, and complex numbers [5].\n",
        "\n",
        "* Addition - adding two values; the symbol is a plus sign (+)\n",
        "\n",
        "* Subtraction - left operand is subtracted from right operand; the symbol is a minus sign (-)\n",
        "\n",
        "* Multiplication - getting the product of two values; the symbol is an asterisk (*)\n",
        "\n",
        "* Division - the left operand is divided by the right operand; regardless of the operands, the outcome is always a float number;  the symbol is a single slash (/)\n",
        "\n",
        "* Floor Division - the right operand divides the left operand, and the answer is rounded up to the closest integer, so the quotient does not contain a decimal point; the symbol is double slash (//)\n",
        "\n",
        "* Exponentiation - the first operand is raised by the value/power of the second operand; the symbol is double asterisks (**)\n",
        "\n",
        "* Modulo - it performs the division operation, but it only returns the remainder of the quotient; the symbol is a percentage sign (%)"
      ],
      "metadata": {
        "id": "rv3x2JqrA5wJ"
      }
    },
    {
      "cell_type": "code",
      "source": [
        "a,b,c,d = 20 , -15 , 12 , 100"
      ],
      "metadata": {
        "id": "5Xg11mIUyRoN"
      },
      "execution_count": null,
      "outputs": []
    },
    {
      "cell_type": "code",
      "source": [
        "### Addition\n",
        "Sum = b+d\n",
        "Sum"
      ],
      "metadata": {
        "colab": {
          "base_uri": "https://localhost:8080/"
        },
        "id": "pppqOPdhye-x",
        "outputId": "33de60a2-cf00-45ba-d9d2-65ad1e12bde7"
      },
      "execution_count": null,
      "outputs": [
        {
          "output_type": "execute_result",
          "data": {
            "text/plain": [
              "85"
            ]
          },
          "metadata": {},
          "execution_count": 12
        }
      ]
    },
    {
      "cell_type": "code",
      "source": [
        "### Subtraction\n",
        "Difference = b-a\n",
        "Difference"
      ],
      "metadata": {
        "id": "HonJTV-4y0KJ",
        "colab": {
          "base_uri": "https://localhost:8080/"
        },
        "outputId": "c8d40f97-5b0f-44c0-c8f7-119454853c58"
      },
      "execution_count": null,
      "outputs": [
        {
          "output_type": "execute_result",
          "data": {
            "text/plain": [
              "-35"
            ]
          },
          "metadata": {},
          "execution_count": 91
        }
      ]
    },
    {
      "cell_type": "code",
      "source": [
        "### Multiplication\n",
        "Product = b*c\n",
        "Product"
      ],
      "metadata": {
        "colab": {
          "base_uri": "https://localhost:8080/"
        },
        "id": "0CYAPMo6zYcW",
        "outputId": "74fa2a12-fe27-42b6-f01e-ff993dde6eab"
      },
      "execution_count": null,
      "outputs": [
        {
          "output_type": "execute_result",
          "data": {
            "text/plain": [
              "-180"
            ]
          },
          "metadata": {},
          "execution_count": 92
        }
      ]
    },
    {
      "cell_type": "code",
      "source": [
        "### Division\n",
        "Quotient = d/a\n",
        "Quotient"
      ],
      "metadata": {
        "colab": {
          "base_uri": "https://localhost:8080/"
        },
        "id": "g68I-VO_zmPI",
        "outputId": "8096d43f-5893-4a29-d440-724cb3e39682"
      },
      "execution_count": null,
      "outputs": [
        {
          "output_type": "execute_result",
          "data": {
            "text/plain": [
              "5.0"
            ]
          },
          "metadata": {},
          "execution_count": 93
        }
      ]
    },
    {
      "cell_type": "code",
      "source": [
        "### Floor Division\n",
        "Fq = a//b\n",
        "Fq"
      ],
      "metadata": {
        "colab": {
          "base_uri": "https://localhost:8080/"
        },
        "id": "2nvUpMppztsW",
        "outputId": "af9a64a0-4454-439a-fa40-903711629dae"
      },
      "execution_count": null,
      "outputs": [
        {
          "output_type": "execute_result",
          "data": {
            "text/plain": [
              "-2"
            ]
          },
          "metadata": {},
          "execution_count": 8
        }
      ]
    },
    {
      "cell_type": "code",
      "source": [
        "### Exponentiation\n",
        "E = a**b\n",
        "E"
      ],
      "metadata": {
        "colab": {
          "base_uri": "https://localhost:8080/"
        },
        "id": "Udmtcg6c0A1O",
        "outputId": "9e208d0a-ebba-4867-fdf9-29cb9bfae0ae"
      },
      "execution_count": null,
      "outputs": [
        {
          "output_type": "execute_result",
          "data": {
            "text/plain": [
              "3.0517578125e-20"
            ]
          },
          "metadata": {},
          "execution_count": 87
        }
      ]
    },
    {
      "cell_type": "code",
      "source": [
        "### Modulo\n",
        "mod = d%c\n",
        "mod"
      ],
      "metadata": {
        "colab": {
          "base_uri": "https://localhost:8080/"
        },
        "id": "2M-n0zsK00Yu",
        "outputId": "e9b6eb33-d64c-4db7-9b3c-c45f24208cb3"
      },
      "execution_count": null,
      "outputs": [
        {
          "output_type": "execute_result",
          "data": {
            "text/plain": [
              "4"
            ]
          },
          "metadata": {},
          "execution_count": 14
        }
      ]
    },
    {
      "cell_type": "markdown",
      "source": [
        "### Assignment Operations"
      ],
      "metadata": {
        "id": "lq18YeUP1icY"
      }
    },
    {
      "cell_type": "markdown",
      "source": [
        "Python uses assignment operators to allocate values to variables. Following the assignment, the assignment operators return the value of the object provided by the left operand [6].\n",
        "\n",
        "For instance, z = 20 is a basic assignment operator that allocates the value 20 on the right to the left-hand variable \"z.\"\n",
        "\n",
        "In Python, there are several compound operators, such as z += 20, which utilizes an increment to increase the value of the variable and then assigns it. The result is z = z + 20."
      ],
      "metadata": {
        "id": "am241xu3lv4H"
      }
    },
    {
      "cell_type": "code",
      "source": [
        "G, H, J, K = 0, 100, 2, 2"
      ],
      "metadata": {
        "id": "uKdTWPfM03Et"
      },
      "execution_count": null,
      "outputs": []
    },
    {
      "cell_type": "code",
      "source": [
        "G += a\n",
        "G"
      ],
      "metadata": {
        "colab": {
          "base_uri": "https://localhost:8080/"
        },
        "id": "Bt84LhRG15Lj",
        "outputId": "1156491d-922c-4ac7-b14f-2e9f9308e9cf"
      },
      "execution_count": null,
      "outputs": [
        {
          "output_type": "execute_result",
          "data": {
            "text/plain": [
              "2.0"
            ]
          },
          "metadata": {},
          "execution_count": 38
        }
      ]
    },
    {
      "cell_type": "code",
      "source": [
        "H -= d\n",
        "H"
      ],
      "metadata": {
        "colab": {
          "base_uri": "https://localhost:8080/"
        },
        "id": "Dt126seB2dc_",
        "outputId": "d4bcbfe0-e79a-4d0a-c958-f6399f1052b4"
      },
      "execution_count": null,
      "outputs": [
        {
          "output_type": "execute_result",
          "data": {
            "text/plain": [
              "132"
            ]
          },
          "metadata": {},
          "execution_count": 39
        }
      ]
    },
    {
      "cell_type": "code",
      "source": [
        "J *= 2\n",
        "J"
      ],
      "metadata": {
        "colab": {
          "base_uri": "https://localhost:8080/"
        },
        "id": "WMpJYBiW2wPY",
        "outputId": "59b9cba6-5f7c-4571-bde0-259f1d60ac6d"
      },
      "execution_count": null,
      "outputs": [
        {
          "output_type": "execute_result",
          "data": {
            "text/plain": [
              "4"
            ]
          },
          "metadata": {},
          "execution_count": 40
        }
      ]
    },
    {
      "cell_type": "code",
      "source": [
        "K **=2\n",
        "K"
      ],
      "metadata": {
        "colab": {
          "base_uri": "https://localhost:8080/"
        },
        "id": "vH-mVuGN24e4",
        "outputId": "0641c699-fc69-450f-e4cf-48ea55e32f59"
      },
      "execution_count": null,
      "outputs": [
        {
          "output_type": "execute_result",
          "data": {
            "text/plain": [
              "4"
            ]
          },
          "metadata": {},
          "execution_count": 43
        }
      ]
    },
    {
      "cell_type": "markdown",
      "source": [
        "### Comparators "
      ],
      "metadata": {
        "id": "Zq4KlNtE3ZAh"
      }
    },
    {
      "cell_type": "markdown",
      "source": [
        "This operation is commonly used in value comparisons, and it generates a boolean data type that is either True or False, depending on the operators used. It is also used to verify the values of the left and right operands according to the condition [6].\n",
        "\n",
        "* Equality - it comes from the term itself; if the condition of two operands being equal or having the same value is met, True is returned; otherwise, False is returned; the symbol is two equality signs (==)\n",
        "\n",
        "* Non-equality - it displays True if both operands are not equal and False if the two operands share the same value or are equal; the symbol is an exclamation mark and an equality sign (!=)\n",
        "\n",
        "* Inequality - under this are the four operators, namely:\n",
        "\n",
        "-Greater than - if the left operand is greater than the right operand, True will be displayed, and if not, then it will display False; the symbol is greater than sign (>)\n",
        "\n",
        "-Less than - if the value of the first operand is less than the second operand, then it will display True, but if not, False will be displayed; the symbol is less than sign (<)\n",
        "\n",
        "-Greater than or Equal to - when the value of the left operand is greater than or equal to the right operand, then the condition is attained so it will return True, while False is returned if not; the symbol is greater than sign and an equality sign (>=)\n",
        "\n",
        "-Less than or Equal to - True is returned if the condition is satisfied wherein the left operand is less than or equal to the right operand, otherwise False if not; the symbol is less than or equal to (<=)\n"
      ],
      "metadata": {
        "id": "oCdG1iMDBeUu"
      }
    },
    {
      "cell_type": "code",
      "source": [
        "trial_1, trial_2, trial_3 = 20, 2.0, \"20\"\n",
        "actual_val = 20.0"
      ],
      "metadata": {
        "id": "CfkLkjiK3cTT"
      },
      "execution_count": null,
      "outputs": []
    },
    {
      "cell_type": "code",
      "source": [
        "## Equality\n",
        "trial_3 == actual_val\n"
      ],
      "metadata": {
        "colab": {
          "base_uri": "https://localhost:8080/"
        },
        "id": "BJIFp_Q-3_JQ",
        "outputId": "5c629dbd-506f-4ed8-9adf-4645a9fcdd70"
      },
      "execution_count": null,
      "outputs": [
        {
          "output_type": "execute_result",
          "data": {
            "text/plain": [
              "False"
            ]
          },
          "metadata": {},
          "execution_count": 19
        }
      ]
    },
    {
      "cell_type": "code",
      "source": [
        "## Non-equality\n",
        "trial_3 != actual_val"
      ],
      "metadata": {
        "colab": {
          "base_uri": "https://localhost:8080/"
        },
        "id": "mXvipvk24L_Q",
        "outputId": "4a2579c1-322a-4823-a922-dc17b423e1f9"
      },
      "execution_count": null,
      "outputs": [
        {
          "output_type": "execute_result",
          "data": {
            "text/plain": [
              "True"
            ]
          },
          "metadata": {},
          "execution_count": 20
        }
      ]
    },
    {
      "cell_type": "code",
      "source": [
        "## Inequality\n",
        "t1 = trial_1 > trial_2\n",
        "t2 = trial_1 <trial_2\n",
        "t3 = trial_1 >= trial_2/2\n",
        "t4 = trial_1 <= trial_2\n",
        "t4"
      ],
      "metadata": {
        "id": "EZzUG2lw4nkM",
        "colab": {
          "base_uri": "https://localhost:8080/"
        },
        "outputId": "7a46db94-dafe-4f1c-b1c5-0e4b4620891d"
      },
      "execution_count": null,
      "outputs": [
        {
          "output_type": "execute_result",
          "data": {
            "text/plain": [
              "False"
            ]
          },
          "metadata": {},
          "execution_count": 21
        }
      ]
    },
    {
      "cell_type": "markdown",
      "source": [
        "### Logical"
      ],
      "metadata": {
        "id": "yi4U7WSn5c-W"
      }
    },
    {
      "cell_type": "markdown",
      "source": [
        "In Python, conditional expressions are expressed using logical operators (either True or False).\n",
        "\n",
        "The logical operators includes \"and\", \"or\", \"not\" operators. \n",
        "\n",
        "![python.PNG](data:image/png;base64,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)"
      ],
      "metadata": {
        "id": "rUnN78L5qGVE"
      }
    },
    {
      "cell_type": "code",
      "source": [
        "trial_1 == actual_val"
      ],
      "metadata": {
        "colab": {
          "base_uri": "https://localhost:8080/"
        },
        "id": "gcv1s6ii5fsM",
        "outputId": "f1a8dfc0-5647-4110-d694-6b2755bec5d6"
      },
      "execution_count": null,
      "outputs": [
        {
          "output_type": "execute_result",
          "data": {
            "text/plain": [
              "True"
            ]
          },
          "metadata": {},
          "execution_count": 9
        }
      ]
    },
    {
      "cell_type": "code",
      "source": [
        "trial_1 is actual_val"
      ],
      "metadata": {
        "colab": {
          "base_uri": "https://localhost:8080/"
        },
        "id": "k40Jzcbu5yaR",
        "outputId": "0631bf9b-fa80-4873-f709-c2d48f6c71af"
      },
      "execution_count": null,
      "outputs": [
        {
          "output_type": "execute_result",
          "data": {
            "text/plain": [
              "False"
            ]
          },
          "metadata": {},
          "execution_count": 10
        }
      ]
    },
    {
      "cell_type": "code",
      "source": [
        "trial_1 is not actual_val"
      ],
      "metadata": {
        "colab": {
          "base_uri": "https://localhost:8080/"
        },
        "id": "gVs1scPk50t1",
        "outputId": "700d913a-19fb-4b2b-9693-f9ac0f2d2a3e"
      },
      "execution_count": null,
      "outputs": [
        {
          "output_type": "execute_result",
          "data": {
            "text/plain": [
              "True"
            ]
          },
          "metadata": {},
          "execution_count": 11
        }
      ]
    },
    {
      "cell_type": "code",
      "source": [
        "p, q = True, False\n",
        "conj = p and q\n",
        "conj"
      ],
      "metadata": {
        "colab": {
          "base_uri": "https://localhost:8080/"
        },
        "id": "GO_qlUFk5_FO",
        "outputId": "f3c7d064-33d1-4f13-9714-a112475c814c"
      },
      "execution_count": null,
      "outputs": [
        {
          "output_type": "execute_result",
          "data": {
            "text/plain": [
              "False"
            ]
          },
          "metadata": {},
          "execution_count": 12
        }
      ]
    },
    {
      "cell_type": "code",
      "source": [
        "p, q = True, False\n",
        "disj = p or q\n",
        "disj\n"
      ],
      "metadata": {
        "colab": {
          "base_uri": "https://localhost:8080/"
        },
        "id": "9djwHIFa7DvE",
        "outputId": "cca218f9-b29f-4792-b8a1-06f1118085f2"
      },
      "execution_count": null,
      "outputs": [
        {
          "output_type": "execute_result",
          "data": {
            "text/plain": [
              "True"
            ]
          },
          "metadata": {},
          "execution_count": 13
        }
      ]
    },
    {
      "cell_type": "code",
      "source": [
        "p, q = True, False\n",
        "e = not(p and q)\n",
        "e"
      ],
      "metadata": {
        "colab": {
          "base_uri": "https://localhost:8080/"
        },
        "id": "8yIbco8X7Yjp",
        "outputId": "0cd266f3-a89c-4bba-ddd6-6f2b1d6c0fa3"
      },
      "execution_count": null,
      "outputs": [
        {
          "output_type": "execute_result",
          "data": {
            "text/plain": [
              "True"
            ]
          },
          "metadata": {},
          "execution_count": 8
        }
      ]
    },
    {
      "cell_type": "code",
      "source": [
        "p, q = True, False\n",
        "xor = ( p and q) or (p and not q)\n",
        "xor"
      ],
      "metadata": {
        "colab": {
          "base_uri": "https://localhost:8080/"
        },
        "id": "GSPtEnXw7sPy",
        "outputId": "8342c991-458a-4dd8-edb9-2d94e09a2b49"
      },
      "execution_count": null,
      "outputs": [
        {
          "output_type": "execute_result",
          "data": {
            "text/plain": [
              "True"
            ]
          },
          "metadata": {},
          "execution_count": 62
        }
      ]
    },
    {
      "cell_type": "markdown",
      "source": [
        "### I/O \n",
        "It functions by presenting the inputted data through the use of the different codes\n",
        "* print - the output is the data that has been inputted; an output command\n",
        "* cnt - it represents count, or it is a counter; the declared value will be used in performing arithmetic operations like addition, subtraction, division, multiplication, and floor division\n",
        "* f - also used to call out the string, but it uses braces (it follows the format of C++ programming)\n",
        "* .format - it calls out the variables, so the output will be the inputted data on the variables\n",
        "* \\n- it is the command for entering or next line\n",
        "* \\t - it is the command for tab\n",
        "* input - this command produces an input field where you can put a text or a value and will return the evaluated result if the input is a valid Python expression "
      ],
      "metadata": {
        "id": "ZfBJXldP8R_M"
      }
    },
    {
      "cell_type": "code",
      "source": [
        "print (\"Hi Future Engineer\")\n"
      ],
      "metadata": {
        "colab": {
          "base_uri": "https://localhost:8080/"
        },
        "id": "n3v8KO-Z8U_6",
        "outputId": "dea026a0-539a-46f6-e299-0f0491f44b38"
      },
      "execution_count": null,
      "outputs": [
        {
          "output_type": "stream",
          "name": "stdout",
          "text": [
            "Hi Future Engineer\n"
          ]
        }
      ]
    },
    {
      "cell_type": "code",
      "source": [
        "cnt = 1"
      ],
      "metadata": {
        "id": "nTDeniCl8cc6"
      },
      "execution_count": null,
      "outputs": []
    },
    {
      "cell_type": "code",
      "source": [
        "string = \"Hi Future Engineer\"\n",
        "print (string, \", Current run count is:\", cnt)\n",
        "cnt += 2"
      ],
      "metadata": {
        "colab": {
          "base_uri": "https://localhost:8080/"
        },
        "id": "MBeidNEU8fO-",
        "outputId": "322bfa40-86e2-4d21-9f2c-2fcab33e44a9"
      },
      "execution_count": null,
      "outputs": [
        {
          "output_type": "stream",
          "name": "stdout",
          "text": [
            "Hi Future Engineer , Current run count is: 1\n"
          ]
        }
      ]
    },
    {
      "cell_type": "code",
      "source": [
        "print (f\"{string}, Current count is: {cnt}\")"
      ],
      "metadata": {
        "colab": {
          "base_uri": "https://localhost:8080/"
        },
        "id": "wrTOH_GO9fbr",
        "outputId": "475d09f5-ba3f-4f46-a253-0a655dbc1fb8"
      },
      "execution_count": null,
      "outputs": [
        {
          "output_type": "stream",
          "name": "stdout",
          "text": [
            "Hi Future Engineer, Current count is: 3\n"
          ]
        }
      ]
    },
    {
      "cell_type": "code",
      "source": [
        "sem_grade = 95.543397\n",
        "name = \"Matthew\"\n",
        "print (\"Hello {}, your semestral grade is: {}\".format(name, sem_grade))"
      ],
      "metadata": {
        "colab": {
          "base_uri": "https://localhost:8080/"
        },
        "id": "OGR_xI3M-EsG",
        "outputId": "ca67f7b4-46cd-4fd5-ed88-ac2c1a05e542"
      },
      "execution_count": null,
      "outputs": [
        {
          "output_type": "stream",
          "name": "stdout",
          "text": [
            "Hello Matthew, your semestral grade is: 95.543397\n"
          ]
        }
      ]
    },
    {
      "cell_type": "code",
      "source": [
        "w_pg, w_mg, w_fg = 0.3, 0.3, 0.4\n",
        "print(\"The weights of your semestral grade are:\\\n",
        "\\n\\t{:.2%} for Prelims\\\n",
        "\\n\\t{:.2%} for Midterms and\\\n",
        "\\n\\t{:.2%} for Finals.\".format(w_pg, w_mg, w_fg))"
      ],
      "metadata": {
        "id": "6-_PzxFu-5SQ",
        "colab": {
          "base_uri": "https://localhost:8080/"
        },
        "outputId": "afd79421-f47c-43c5-f9ba-d0e690228900"
      },
      "execution_count": null,
      "outputs": [
        {
          "output_type": "stream",
          "name": "stdout",
          "text": [
            "The weights of your semestral grade are:\n",
            "\t30.00% for Prelims\n",
            "\t30.00% for Midterms and\n",
            "\t40.00% for Finals.\n"
          ]
        }
      ]
    },
    {
      "cell_type": "code",
      "source": [
        "x = input(\"enter a number: \")\n",
        "x"
      ],
      "metadata": {
        "colab": {
          "base_uri": "https://localhost:8080/"
        },
        "id": "XLVzUgMKuRQl",
        "outputId": "be833260-0bfa-4c12-c22b-8e8405556bbe"
      },
      "execution_count": null,
      "outputs": [
        {
          "name": "stdout",
          "output_type": "stream",
          "text": [
            "enter a number: 7\n"
          ]
        },
        {
          "output_type": "execute_result",
          "data": {
            "text/plain": [
              "7"
            ]
          },
          "metadata": {},
          "execution_count": 6
        }
      ]
    },
    {
      "cell_type": "code",
      "source": [
        "name = input(\"Student: \")\n",
        "pg = input(\"Enter your prelim grade: \")\n",
        "mg = input(\"Enter your midterm grade: \")\n",
        "fg = input(\"Enter your final grade: \")\n",
        "sem_grade = 88.3\n",
        "print(\"Hello {}, your semestral grade is: {}\". format(name,sem_grade))\n"
      ],
      "metadata": {
        "colab": {
          "base_uri": "https://localhost:8080/"
        },
        "id": "76KEhwLyuDGZ",
        "outputId": "7331239f-30f1-4afd-8be6-d57c2d0485aa"
      },
      "execution_count": null,
      "outputs": [
        {
          "output_type": "stream",
          "name": "stdout",
          "text": [
            "Student: Matthew Adrian Z. Moral\n",
            "Enter your prelim grade: 85\n",
            "Enter your midterm grade: 88\n",
            "Enter your final grade: 91\n",
            "Hello Matthew Adrian Z. Moral, your semestral grade is: 88.3\n"
          ]
        }
      ]
    },
    {
      "cell_type": "markdown",
      "source": [
        "# Looping Statements"
      ],
      "metadata": {
        "id": "KVTlJLMxwIUy"
      }
    },
    {
      "cell_type": "markdown",
      "source": [
        "Statements are generally performed successively ; the first expression in a function is processed first, followed by the second, and so on. There may be instances when you need to run a section of code repeated [7].\n",
        "\n",
        "Programming languages have a variety of control structures that enable the creation of more complex execution routes.\n",
        "\n",
        "A loop is a statement that comprises commands that are repeated indefinitely until a certain condition is met. When a process must be performed numerous times, loops enable us to eliminate code duplication. By using loops, we may condense those hundred lines of code into a handful [7]."
      ],
      "metadata": {
        "id": "Mhp6U8m3sLTa"
      }
    },
    {
      "cell_type": "markdown",
      "source": [
        "##While"
      ],
      "metadata": {
        "id": "509VPsxFwLXq"
      }
    },
    {
      "cell_type": "markdown",
      "source": [
        "In Python,  while loop is used to continually execute a sequence of statements until a specified condition is met. And when the condition is false, the line directly after the loop is run in the algorithm. It conducts a condition check prior to performing the loop body \n",
        "\n",
        "Furthermore, while loop is an example of an infinite iteration. The term \"indefinite iteration\" refers to the fact that the number of times the loop is run is not stated explicitly [8]."
      ],
      "metadata": {
        "id": "8LaQ6W0WtRcE"
      }
    },
    {
      "cell_type": "code",
      "source": [
        "i, j = 100, 1000\n",
        "while (i<=j):\n",
        "      print(f\"{i}\\t|\\t{j}\")\n",
        "      i+=50"
      ],
      "metadata": {
        "colab": {
          "base_uri": "https://localhost:8080/"
        },
        "id": "26Q9mrQ_wPEP",
        "outputId": "e9ad8513-3d7d-43ab-86a1-d7c6ace312a1"
      },
      "execution_count": null,
      "outputs": [
        {
          "output_type": "stream",
          "name": "stdout",
          "text": [
            "100\t|\t1000\n",
            "150\t|\t1000\n",
            "200\t|\t1000\n",
            "250\t|\t1000\n",
            "300\t|\t1000\n",
            "350\t|\t1000\n",
            "400\t|\t1000\n",
            "450\t|\t1000\n",
            "500\t|\t1000\n",
            "550\t|\t1000\n",
            "600\t|\t1000\n",
            "650\t|\t1000\n",
            "700\t|\t1000\n",
            "750\t|\t1000\n",
            "800\t|\t1000\n",
            "850\t|\t1000\n",
            "900\t|\t1000\n",
            "950\t|\t1000\n",
            "1000\t|\t1000\n"
          ]
        }
      ]
    },
    {
      "cell_type": "code",
      "source": [
        "n = 1\n",
        "\n",
        "while (n<= 10):\n",
        "\n",
        "       print(\"Good Morning\")\n",
        "       n += 2\n",
        "        "
      ],
      "metadata": {
        "id": "3x48FWFJT0Pi",
        "colab": {
          "base_uri": "https://localhost:8080/"
        },
        "outputId": "d11d0bc7-2fb0-4999-e721-39d23374e79e"
      },
      "execution_count": 11,
      "outputs": [
        {
          "output_type": "stream",
          "name": "stdout",
          "text": [
            "Good Morning\n",
            "Good Morning\n",
            "Good Morning\n",
            "Good Morning\n",
            "Good Morning\n"
          ]
        }
      ]
    },
    {
      "cell_type": "code",
      "source": [
        ""
      ],
      "metadata": {
        "id": "8rQFeZnuZtu6"
      },
      "execution_count": null,
      "outputs": []
    },
    {
      "cell_type": "markdown",
      "source": [
        "#For"
      ],
      "metadata": {
        "id": "ynD6eWw8xzl-"
      }
    },
    {
      "cell_type": "markdown",
      "source": [
        "For loops are utilized when a piece of code has to be repeated a certain number of times. The for-loop is never used alone; it is always combined with an iterable object, such as a list or a range. The Python for statement iterates over the elements of a sequence in order, each time executing the block [9].\n",
        "\n",
        "In simple terms, for loop repeatedly runs a set of statements and simplifies the code that maintains the loop variable."
      ],
      "metadata": {
        "id": "nBoN350qtqdl"
      }
    },
    {
      "cell_type": "code",
      "source": [
        "for m in range(12):\n",
        "      print(m)"
      ],
      "metadata": {
        "colab": {
          "base_uri": "https://localhost:8080/"
        },
        "id": "Zr-n9q7mx3J6",
        "outputId": "35d3eae5-b395-47f7-9196-516b903635a2"
      },
      "execution_count": null,
      "outputs": [
        {
          "output_type": "stream",
          "name": "stdout",
          "text": [
            "0\n",
            "1\n",
            "2\n",
            "3\n",
            "4\n",
            "5\n",
            "6\n",
            "7\n",
            "8\n",
            "9\n",
            "10\n",
            "11\n"
          ]
        }
      ]
    },
    {
      "cell_type": "code",
      "source": [
        " playlist = [\"Invisible\", \"Fix You\", \"13\"]\n",
        "print('Now Playing:\\n')\n",
        "for song in playlist:\n",
        "       print(song)"
      ],
      "metadata": {
        "colab": {
          "base_uri": "https://localhost:8080/"
        },
        "id": "Qbdp6EUbyTDS",
        "outputId": "90d16b30-573f-4511-c05d-b99facd65291"
      },
      "execution_count": null,
      "outputs": [
        {
          "output_type": "stream",
          "name": "stdout",
          "text": [
            "Now Playing:\n",
            "\n",
            "Invisible\n",
            "Fix You\n",
            "13\n"
          ]
        }
      ]
    },
    {
      "cell_type": "markdown",
      "source": [
        "#Flow Control "
      ],
      "metadata": {
        "id": "PlXo-9Ioy_3J"
      }
    },
    {
      "cell_type": "markdown",
      "source": [
        "The control flow of a program specifies the sequence in which its code is executed.\n",
        "Conditional statements, loops, and function calls all contribute to the control flow of a Python program. \n",
        "\n",
        "Control flow enables the conditional and/or repetitive execution of certain code blocks: these fundamental building blocks may be used to construct astonishingly complex systems. \n",
        "\n",
        "However, without it, a program is nothing more than a collection of sequentially executed statements [10]."
      ],
      "metadata": {
        "id": "l8kYeQB7Fi6c"
      }
    },
    {
      "cell_type": "markdown",
      "source": [
        "##Condition Statements "
      ],
      "metadata": {
        "id": "YcttdxfTzEGq"
      }
    },
    {
      "cell_type": "markdown",
      "source": [
        " Generally, conditional statements are referred to as decision-making statements. We must utilize these conditional statements to determine whether a certain block of code should be executed if the specified condition is true or false [11]. We can accomplish decision-making in Python by utilizing the following statements:\n",
        "\n",
        "* **if statements** -  it is of the most frequently utilized conditional expressions in programming languages. It determines whether or not particular statements should be performed. It tests for a specified condition; if the condition is true, the set of code contained inside the \" if \" block is run; otherwise, the code is not executed [11].\n",
        "\n",
        " When a Boolean statement translates to TRUE, the if condition tests it and runs the block of code.\n",
        "\n",
        "* **if-else statements -** The statement directly states that if a certain condition is true, the statements contained inside the \"if block\" should be executed; if the condition is false, the \"else\" block should be executed [11].\n",
        "\n",
        "* **nested if-else statements** - Nested \"if-else\" statements indicate the presence of a \"if\" or \"if-else\" statement within another if or if-else block. Python also has this functionality, which enables us to verify numerous conditions inside a single program [11].\n",
        "\n",
        "* **elif** - used to verify several conditions only if one of them is false."
      ],
      "metadata": {
        "id": "ICQc0Ey5HdZj"
      }
    },
    {
      "cell_type": "code",
      "source": [
        "numeral1, numeral2 = 16, 17\n",
        "if(numeral1 ==numeral2):\n",
        "  print (\"Incomplete\")\n",
        "elif(numeral1>numeral2):\n",
        "  print (\"Fail\")\n",
        "else:\n",
        " print(\"Pass\")"
      ],
      "metadata": {
        "colab": {
          "base_uri": "https://localhost:8080/"
        },
        "id": "xjPWPANkzIqG",
        "outputId": "418e63c3-df94-4233-aca0-f3e53bc1109b"
      },
      "execution_count": null,
      "outputs": [
        {
          "output_type": "stream",
          "name": "stdout",
          "text": [
            "Pass\n"
          ]
        }
      ]
    },
    {
      "cell_type": "code",
      "source": [
        "x = 20\n",
        "y = 1.0\n",
        "if(x < y):\n",
        "     print(\"x is smaller than y\")\n",
        "\n"
      ],
      "metadata": {
        "id": "uZO0J6x2Jkl5"
      },
      "execution_count": null,
      "outputs": []
    },
    {
      "cell_type": "code",
      "source": [
        "passing_grade_in__the_course = 70\n",
        "My_final_grade_in_the_course = 85\n",
        "if(My_final_grade_in_the_course >= passing_grade_in__the_course ):\n",
        "       print((\"Congratulations!! You passed the course\"))\n",
        "else:   \n",
        "        print(\"Sorry, you failed the course, better luck next time\")\n"
      ],
      "metadata": {
        "colab": {
          "base_uri": "https://localhost:8080/"
        },
        "id": "lyUKlla7KE9M",
        "outputId": "f67aa1c8-0537-462f-e925-a2304a26b3b9"
      },
      "execution_count": null,
      "outputs": [
        {
          "output_type": "stream",
          "name": "stdout",
          "text": [
            "Congratulations!! You passed the course\n"
          ]
        }
      ]
    },
    {
      "cell_type": "code",
      "source": [
        "num = 20\n",
        "if(num > 0):\n",
        "          print(\"number is positive\")\n",
        "if(num < 10):\n",
        "          print(\"number is less than 10\")"
      ],
      "metadata": {
        "id": "aa6KBHSQLziG",
        "outputId": "861caa0c-3508-4979-b1e2-7f53a3ec6159",
        "colab": {
          "base_uri": "https://localhost:8080/"
        }
      },
      "execution_count": null,
      "outputs": [
        {
          "output_type": "stream",
          "name": "stdout",
          "text": [
            "number is positive\n"
          ]
        }
      ]
    },
    {
      "cell_type": "code",
      "source": [
        ""
      ],
      "metadata": {
        "id": "fk1cg_3M_bb3"
      },
      "execution_count": null,
      "outputs": []
    },
    {
      "cell_type": "markdown",
      "source": [
        "#Functions "
      ],
      "metadata": {
        "id": "a4zIEylP1gbP"
      }
    },
    {
      "cell_type": "markdown",
      "source": [
        "A function is a collection of connected statements that accomplish a certain task. Functions aid in the decomposition of our program into smaller, modular portions. Additionally, it eliminates duplication and makes the code more reusable [12].\n",
        "\n",
        "Entering and exiting are the two primary actions of functions that manage flow. When you call a function, the parent flow's execution is suspended. You remain inside the function's flow until it performs a return statement - or until it runs out of things to accomplish. This may be used to break out of almost any loop."
      ],
      "metadata": {
        "id": "k-r8njD2Glgy"
      }
    },
    {
      "cell_type": "code",
      "source": [
        "def speak(Name):\n",
        "    print(\"Bonjour {}. Happy Birthday!!\". format(Name))\n",
        "\n",
        "speak('Portia')"
      ],
      "metadata": {
        "colab": {
          "base_uri": "https://localhost:8080/"
        },
        "id": "nG-84RFbiizj",
        "outputId": "98f4b49d-e10b-4c31-d55a-a0d1b4ba9613"
      },
      "execution_count": 22,
      "outputs": [
        {
          "output_type": "stream",
          "name": "stdout",
          "text": [
            "Bonjour Portia. Happy Birthday!!\n"
          ]
        }
      ]
    },
    {
      "cell_type": "code",
      "source": [
        "# void DeleteUser(int userid){\n",
        "#    delete(userid);\n",
        "# }\n",
        "\n",
        "def delete_user (userid):\n",
        "     print(\"Successfully deleted user: {}\". format(userid))\n",
        "\n",
        "def delete_all_users ():\n",
        "      print(\"Successfully deleted all users.\")"
      ],
      "metadata": {
        "id": "6A12CGSo1iHG"
      },
      "execution_count": null,
      "outputs": []
    },
    {
      "cell_type": "code",
      "source": [
        "userid = \"Matthew\"\n",
        "delete_user (\"Matthew\")\n",
        "delete_all_users()"
      ],
      "metadata": {
        "colab": {
          "base_uri": "https://localhost:8080/"
        },
        "id": "adpmt6Q62XGz",
        "outputId": "0d30d28b-96cb-4a01-87a4-b455111bf77a"
      },
      "execution_count": null,
      "outputs": [
        {
          "output_type": "stream",
          "name": "stdout",
          "text": [
            "Successfully deleted user: Matthew\n",
            "Successfully deleted all users.\n"
          ]
        }
      ]
    },
    {
      "cell_type": "code",
      "source": [
        "def multiply(multiplicand1, multiplier2):\n",
        "    return multiplicand1 * multiplier2\n",
        "\n",
        "def power_of_base2 (exponent):\n",
        "    return 2**exponent"
      ],
      "metadata": {
        "id": "i2oSADMc2yLK"
      },
      "execution_count": null,
      "outputs": []
    },
    {
      "cell_type": "code",
      "source": [
        "multiplicand1, multiplier2 = 137, 88\n",
        "multiply(multiplicand1, multiplier2)\n"
      ],
      "metadata": {
        "colab": {
          "base_uri": "https://localhost:8080/"
        },
        "id": "aUYa_Vpl3pMf",
        "outputId": "b074ed3f-4e39-4652-ba3a-4d94937d3453"
      },
      "execution_count": null,
      "outputs": [
        {
          "output_type": "execute_result",
          "data": {
            "text/plain": [
              "12056"
            ]
          },
          "metadata": {},
          "execution_count": 46
        }
      ]
    },
    {
      "cell_type": "markdown",
      "source": [
        "# Activity"
      ],
      "metadata": {
        "id": "AvgxHzv3VAQ0"
      }
    },
    {
      "cell_type": "code",
      "source": [
        "Student_Name = input(\"Name_of_Student: \")\n",
        "Program = input(\"Program: \")\n",
        "Course = input(\"Course: \")\n",
        "Prelim = float(input(\"Enter Prelim Grade: \"))\n",
        "Midterm = float(input(\"Enter Midterm Grade: \"))\n",
        "Finals = float(input(\"Enter Final Grade: \"))\n",
        "Semestral_Grade = ( Prelim*0.30)+ (Midterm*0.30) + (Finals*0.40);\n",
        "\n",
        "Rounded_off_SG = \"{:.2f}\". format(Semestral_Grade)\n",
        "print( \"-------------------------------------------------------------------------------------------------\")\n",
        "print(\"\\nProgram:{}\". format(Program))\n",
        "print(\"Greetings! {} , we would like to inform you that your semestral grade in {} is: {} \". format(Student_Name, Course, Rounded_off_SG))\n",
        "if(Semestral_Grade > 70.00) :\n",
        "     print(\"\\U0001F600\\U0001F600\\U0001F600\")\n",
        "     print(\"Congratulations you passed the course !!\")\n",
        "elif(Semestral_Grade == 70.00) :\n",
        "    print (\"\\U0001F606\\U0001F606\\U0001F606\")\n",
        "    print(\"Congratulations you luckily passed the course !!\")\n",
        "else:\n",
        "    print(\"\\U0001F62D\\U0001F62D\\U0001F62D\")\n",
        "    print(\"We regret to hear that you failed this subject\")"
      ],
      "metadata": {
        "id": "vVyhY4OXOa2h",
        "outputId": "148df947-41f6-4617-89a7-bb4a9ccfe594",
        "colab": {
          "base_uri": "https://localhost:8080/"
        }
      },
      "execution_count": 9,
      "outputs": [
        {
          "output_type": "stream",
          "name": "stdout",
          "text": [
            "Name_of_Student: Mr. Ryan Eric V. Ocampo\n",
            "Program: BS Chemical Engineering\n",
            "Course: Linear Algebra\n",
            "Enter Prelim Grade: 64.94\n",
            "Enter Midterm Grade: 70.12\n",
            "Enter Final Grade: 67.81\n",
            "-------------------------------------------------------------------------------------------------\n",
            "\n",
            "Program:BS Chemical Engineering\n",
            "Greetings! Mr. Ryan Eric V. Ocampo , we would like to inform you that your semestral grade in Linear Algebra is: 67.64 \n",
            "😭😭😭\n",
            "We regret to hear that you failed this subject\n"
          ]
        }
      ]
    },
    {
      "cell_type": "markdown",
      "source": [
        ""
      ],
      "metadata": {
        "id": "J6LJV6Fq_bn8"
      }
    },
    {
      "cell_type": "markdown",
      "source": [
        "#References:"
      ],
      "metadata": {
        "id": "B8267n4oxRda"
      }
    },
    {
      "cell_type": "markdown",
      "source": [
        "[1] “Variables and data types in Python: Python for beginners,” Edureka, 15-Jul-2021. [Online]. Available: https://www.edureka.co/blog/variables-and-data-types-in-python/. [Accessed: 17-Feb-2022].\n",
        "\n",
        "\n",
        "[2] “Data types in python: 6 standard data types in python,” Analytics Vidhya, 05-Aug-2021. [Online]. Available: https://www.analyticsvidhya.com/blog/2021/08/data-types-in-python-you-need-to-know-at-the-beginning-of-your-data-science-journey/. [Accessed: 17-Feb-2022].\n",
        "\n",
        "\n",
        "[3] “Type conversion in Python,” GeeksforGeeks, 28-Sep-2021. [Online]. Available: https://www.geeksforgeeks.org/type-conversion-python/. [Accessed: 17-Feb-2022].\n",
        "\n",
        "\n",
        "[4] “Python operators,” Programiz. [Online]. Available: https://www.programiz.com/python-programming/operators. [Accessed: 17-Feb-2022].\n",
        "\n",
        "\n",
        "[5] “Python operators,” GeeksforGeeks, 07-Sep-2021. [Online]. Available: https://www.geeksforgeeks.org/python-operators/. [Accessed: 17-Feb-2022].\n",
        "\n",
        "\n",
        "[6] “Python operators,” Programiz. [Online]. Available: https://www.programiz.com/python-programming/operators. [Accessed: 18-Feb-2022].\n",
        "\n",
        "\n",
        "[7] Python - loops. [Online]. Available: https://www.tutorialspoint.com/python/python_loops.htm. [Accessed: 18-Feb-2022].\n",
        "\n",
        "\n",
        "[8] “Python while loop,” GeeksforGeeks, 25-Aug-2021. [Online]. Available: https://www.geeksforgeeks.org/python-while-loop/. [Accessed: 18-Feb-2022].\n",
        "\n",
        "\n",
        "[9] “Page,” ForLoop - Python Wiki. [Online]. Available: https://wiki.python.org/moin/ForLoop. [Accessed: 18-Feb-2022].\n",
        "\n",
        "\n",
        "[10] J. VanderPlas, “Control flow,” Control Flow | A Whirlwind Tour of Python. [Online]. Available: https://jakevdp.github.io/WhirlwindTourOfPython/07-control-flow-statements.html. [Accessed: 18-Feb-2022].\n",
        "\n",
        "\n",
        "[11] “Python conditional statements: If_else, ELIF, nested if statement,” Software Testing Help, 03-Feb-2022. [Online]. Available: https://www.softwaretestinghelp.com/python/python-conditional-statements/. [Accessed: 18-Feb-2022].\n",
        "\n",
        "\n",
        "[12] “Python functions,” Programiz. [Online]. Available: https://www.programiz.com/python-programming/function. [Accessed: 19-Feb-2022].\n",
        "\n",
        "\n",
        "[13] “Python - if, else, elif conditions (with examples),” Python - if, else, elif conditions (With Examples). [Online]. Available: https://www.tutorialsteacher.com/pythonpython-if-elif#:~:text=Use%20the%20elif%20condition%20is,the%20if%20and%20else%20conditions.&text=The%20elif%20block%20is%20executed%20if%20the%20specified%20condition%20evaluates%20to%20True%20.&text=If%20multiple%20elif%20conditions%20become,elif%20block%20will%20be%20executed. [Accessed: 19-Feb-2022].\n",
        "\n",
        "\n",
        "[14] “Python input, output and import,” Programiz. [Online]. Available: https://www.programiz.com/python-programming/input-output-import. [Accessed: 19-Feb-2022].\n",
        "\n",
        "\n",
        "[15] Python - files I/O. [Online]. Available: https://www.tutorialspoint.com/python/python_files_io.htm. [Accessed: 19-Feb-2022].\n"
      ],
      "metadata": {
        "id": "bfyOsKoXUtio"
      }
    }
  ]
}